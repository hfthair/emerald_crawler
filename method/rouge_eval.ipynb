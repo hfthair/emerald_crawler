{
 "cells": [
  {
   "cell_type": "markdown",
   "metadata": {},
   "source": [
    "## Self-defined ROUGE"
   ]
  },
  {
   "cell_type": "code",
   "execution_count": 13,
   "metadata": {},
   "outputs": [],
   "source": [
    "#!/usr/bin/env python\n",
    "# \n",
    "# File Name : rouge.py\n",
    "#\n",
    "# Description : Computes ROUGE-L metric as described by Lin and Hovey (2004)\n",
    "#\n",
    "# Creation Date : 2015-01-07 06:03\n",
    "# Author : Ramakrishna Vedantam <vrama91@vt.edu>\n",
    "\n",
    "import numpy as np\n",
    "import pdb\n",
    "\n",
    "def my_lcs(string, sub):\n",
    "    \"\"\"\n",
    "    Calculates longest common subsequence for a pair of tokenized strings\n",
    "    :param string : list of str : tokens from a string split using whitespace\n",
    "    :param sub : list of str : shorter string, also split using whitespace\n",
    "    :returns: length (list of int): length of the longest common subsequence between the two strings\n",
    "\n",
    "    Note: my_lcs only gives length of the longest common subsequence, not the actual LCS\n",
    "    \"\"\"\n",
    "    if(len(string)< len(sub)):\n",
    "        sub, string = string, sub\n",
    "\n",
    "    lengths = [[0 for i in range(0,len(sub)+1)] for j in range(0,len(string)+1)]\n",
    "\n",
    "    for j in range(1,len(sub)+1):\n",
    "        for i in range(1,len(string)+1):\n",
    "            if(string[i-1] == sub[j-1]):\n",
    "                lengths[i][j] = lengths[i-1][j-1] + 1\n",
    "            else:\n",
    "                lengths[i][j] = max(lengths[i-1][j] , lengths[i][j-1])\n",
    "\n",
    "    return lengths[len(string)][len(sub)]\n",
    "\n",
    "class Rouge():\n",
    "    '''\n",
    "    Class for computing ROUGE-L score for a set of candidate sentences for the MS COCO test set\n",
    "\n",
    "    '''\n",
    "    def __init__(self):\n",
    "        # vrama91: updated the value below based on discussion with Hovey\n",
    "        self.beta = 1.2\n",
    "\n",
    "    def calc_score(self, candidate, refs):\n",
    "        \"\"\"\n",
    "        Compute ROUGE-L score given one candidate and references for an image\n",
    "        :param candidate: str : candidate sentence to be evaluated\n",
    "        :param refs: list of str : COCO reference sentences for the particular image to be evaluated\n",
    "        :returns score: int (ROUGE-L score for the candidate evaluated against references)\n",
    "        \"\"\"\n",
    "        assert(len(candidate)==1)\t\n",
    "        assert(len(refs)>0)         \n",
    "        prec = []\n",
    "        rec = []\n",
    "\n",
    "        # split into tokens\n",
    "        token_c = candidate[0].split(\" \")\n",
    "    \t\n",
    "        for reference in refs:\n",
    "            # split into tokens\n",
    "            token_r = reference.split(\" \")\n",
    "            # compute the longest common subsequence\n",
    "            lcs = my_lcs(token_r, token_c)\n",
    "            prec.append(lcs/float(len(token_c)))\n",
    "            rec.append(lcs/float(len(token_r)))\n",
    "\n",
    "        prec_max = max(prec)\n",
    "        rec_max = max(rec)\n",
    "\n",
    "        if(prec_max!=0 and rec_max !=0):\n",
    "            score = ((1 + self.beta**2)*prec_max*rec_max)/float(rec_max + self.beta**2*prec_max)\n",
    "        else:\n",
    "            score = 0.0\n",
    "        return score\n",
    "\n",
    "    def compute_score(self, gts, res):\n",
    "        \"\"\"\n",
    "        Computes Rouge-L score given a set of reference and candidate sentences for the dataset\n",
    "        Invoked by evaluate_captions.py \n",
    "        :param hypo_for_image: dict : candidate / test sentences with \"image name\" key and \"tokenized sentences\" as values \n",
    "        :param ref_for_image: dict : reference MS-COCO sentences with \"image name\" key and \"tokenized sentences\" as values\n",
    "        :returns: average_score: float (mean ROUGE-L score computed by averaging scores for all the images)\n",
    "        \"\"\"\n",
    "        # assert(gts.keys() == res.keys())\n",
    "        # imgIds = gts.keys()\n",
    "        #\n",
    "        # score = []\n",
    "        # for id in imgIds:\n",
    "        #     hypo = res[id]\n",
    "        #     ref  = gts[id]\n",
    "\n",
    "        assert (len(gts) == len(res))\n",
    "\n",
    "        score = []\n",
    "        for idx in range(len(gts)):\n",
    "            hypo = [res[idx]]\n",
    "            ref  = [gts[idx]]\n",
    "\n",
    "            score.append(self.calc_score(hypo, ref))\n",
    "\n",
    "            # Sanity check.\n",
    "            assert(type(hypo) is list)\n",
    "            assert(len(hypo) == 1)\n",
    "            assert(type(ref) is list)\n",
    "            assert(len(ref) > 0)\n",
    "\n",
    "        average_score = np.mean(np.array(score))\n",
    "        return average_score, np.array(score)\n",
    "\n",
    "    def method(self):\n",
    "        return \"Rouge\"\n"
   ]
  },
  {
   "cell_type": "code",
   "execution_count": 14,
   "metadata": {},
   "outputs": [],
   "source": [
    "rouge=Rouge()"
   ]
  },
  {
   "cell_type": "code",
   "execution_count": 19,
   "metadata": {},
   "outputs": [],
   "source": [
    "hyp_path=\"/home/yued/phd/LRD/lrd_summ/result/textrank.txt\"\n",
    "ref_path=\"/home/yued/phd/LRD/lrd_summ/result/ref.txt\"\n",
    "with open(hyp_path,'r') as f:\n",
    "    hyps = f.readlines()\n",
    "with open(ref_path,'r') as f:\n",
    "    refs = f.readlines()"
   ]
  },
  {
   "cell_type": "code",
   "execution_count": 20,
   "metadata": {},
   "outputs": [
    {
     "name": "stdout",
     "output_type": "stream",
     "text": [
      "(0.18408339989737207, array([0.14124107, 0.18305173, 0.19205397, ..., 0.20318489, 0.17531193,\n",
      "       0.15565479]))\n"
     ]
    }
   ],
   "source": [
    "print(rouge.compute_score(refs,hyps))"
   ]
  },
  {
   "cell_type": "code",
   "execution_count": 21,
   "metadata": {},
   "outputs": [
    {
     "name": "stdout",
     "output_type": "stream",
     "text": [
      "(0.2050288622385424, array([0.1568215 , 0.19615274, 0.21642576, ..., 0.23908572, 0.19167629,\n",
      "       0.20697546]))\n"
     ]
    }
   ],
   "source": [
    "hyp_path=\"/home/yued/phd/LRD/lrd_summ/result/textrank.tokenized\"\n",
    "ref_path=\"/home/yued/phd/LRD/lrd_summ/result/ref.tokenized\"\n",
    "with open(hyp_path,'r') as f:\n",
    "    hyps = f.readlines()\n",
    "with open(ref_path,'r') as f:\n",
    "    refs = f.readlines()\n",
    "print(rouge.compute_score(refs,hyps))"
   ]
  },
  {
   "cell_type": "markdown",
   "metadata": {},
   "source": [
    "## ROUGE package"
   ]
  },
  {
   "cell_type": "code",
   "execution_count": 31,
   "metadata": {},
   "outputs": [],
   "source": [
    "# creare the data as pyrouge needs\n",
    "with open(\"/home/yued/phd/LRD/lrd_summ/result/textrank.txt\",'r') as f:\n",
    "    hyps=f.readlines()\n",
    "for i,h in enumerate(hyps):\n",
    "    with open(\"/home/yued/phd/LRD/lrd_summ/result/hyps/%d_decoded.txt\"%i,'w') as f:\n",
    "        if len(h)==0: #deal with empty lines\n",
    "            h='n'\n",
    "        f.write(h)\n",
    "\n",
    "with open(\"/home/yued/phd/LRD/lrd_summ/result/ref.txt\",'r') as f:\n",
    "    refs=f.readlines()\n",
    "for i,h in enumerate(refs):\n",
    "    with open(\"/home/yued/phd/LRD/lrd_summ/result/refs/%d_reference.txt\"%i,'w') as f:\n",
    "        f.write(h)\n"
   ]
  },
  {
   "cell_type": "code",
   "execution_count": 32,
   "metadata": {},
   "outputs": [],
   "source": [
    "# from pyrouge import Rouge155\n",
    "# r = Rouge155()\n",
    "# # set directories\n",
    "# r.system_dir = \"/home/yued/phd/LRD/lrd_summ/result/hyps/\"\n",
    "# r.model_dir = \"/home/yued/phd/LRD/lrd_summ/result/refs/\"\n",
    " \n",
    "# # define the patterns\n",
    "# r.system_filename_pattern = '(\\d+)_decoded.txt'\n",
    "# r.model_filename_pattern = '#ID#_reference.txt'\n",
    " \n",
    "# # use default parameters to run the evaluation\n",
    "# # output = r.convert_and_evaluate()\n",
    "# # print(output)\n",
    "# # output_dict = r.output_to_dict(output)"
   ]
  },
  {
   "cell_type": "code",
   "execution_count": 38,
   "metadata": {},
   "outputs": [
    {
     "name": "stdout",
     "output_type": "stream",
     "text": [
      "{'rouge_1_recall': 0.39279, 'rouge_1_recall_cb': 0.39033, 'rouge_1_recall_ce': 0.39523, 'rouge_1_precision': 0.45124, 'rouge_1_precision_cb': 0.44826, 'rouge_1_precision_ce': 0.45422, 'rouge_1_f_score': 0.40887, 'rouge_1_f_score_cb': 0.40669, 'rouge_1_f_score_ce': 0.41109, 'rouge_2_recall': 0.12574, 'rouge_2_recall_cb': 0.12382, 'rouge_2_recall_ce': 0.12763, 'rouge_2_precision': 0.14778, 'rouge_2_precision_cb': 0.14548, 'rouge_2_precision_ce': 0.1502, 'rouge_2_f_score': 0.13241, 'rouge_2_f_score_cb': 0.13046, 'rouge_2_f_score_ce': 0.13441, 'rouge_3_recall': 0.05961, 'rouge_3_recall_cb': 0.05803, 'rouge_3_recall_ce': 0.06125, 'rouge_3_precision': 0.07052, 'rouge_3_precision_cb': 0.06865, 'rouge_3_precision_ce': 0.07238, 'rouge_3_f_score': 0.06296, 'rouge_3_f_score_cb': 0.06138, 'rouge_3_f_score_ce': 0.06466, 'rouge_4_recall': 0.03597, 'rouge_4_recall_cb': 0.03466, 'rouge_4_recall_ce': 0.03737, 'rouge_4_precision': 0.04266, 'rouge_4_precision_cb': 0.0411, 'rouge_4_precision_ce': 0.04421, 'rouge_4_f_score': 0.038, 'rouge_4_f_score_cb': 0.0366, 'rouge_4_f_score_ce': 0.03942, 'rouge_l_recall': 0.19985, 'rouge_l_recall_cb': 0.19824, 'rouge_l_recall_ce': 0.20141, 'rouge_l_precision': 0.22994, 'rouge_l_precision_cb': 0.22806, 'rouge_l_precision_ce': 0.23191, 'rouge_l_f_score': 0.2077, 'rouge_l_f_score_cb': 0.20624, 'rouge_l_f_score_ce': 0.20926, 'rouge_w_1.2_recall': 0.04238, 'rouge_w_1.2_recall_cb': 0.0419, 'rouge_w_1.2_recall_ce': 0.04283, 'rouge_w_1.2_precision': 0.14197, 'rouge_w_1.2_precision_cb': 0.14063, 'rouge_w_1.2_precision_ce': 0.14347, 'rouge_w_1.2_f_score': 0.06332, 'rouge_w_1.2_f_score_cb': 0.06271, 'rouge_w_1.2_f_score_ce': 0.06394, 'rouge_s*_recall': 0.1566, 'rouge_s*_recall_cb': 0.15483, 'rouge_s*_recall_ce': 0.15841, 'rouge_s*_precision': 0.20839, 'rouge_s*_precision_cb': 0.20589, 'rouge_s*_precision_ce': 0.21101, 'rouge_s*_f_score': 0.16357, 'rouge_s*_f_score_cb': 0.16201, 'rouge_s*_f_score_ce': 0.16527, 'rouge_su*_recall': 0.1588, 'rouge_su*_recall_cb': 0.15701, 'rouge_su*_recall_ce': 0.16062, 'rouge_su*_precision': 0.21093, 'rouge_su*_precision_cb': 0.20841, 'rouge_su*_precision_ce': 0.21354, 'rouge_su*_f_score': 0.16578, 'rouge_su*_f_score_cb': 0.16423, 'rouge_su*_f_score_ce': 0.16749}\n"
     ]
    }
   ],
   "source": [
    "print(output_dict)"
   ]
  },
  {
   "cell_type": "markdown",
   "metadata": {},
   "source": [
    "## file2rouge"
   ]
  },
  {
   "cell_type": "code",
   "execution_count": 4,
   "metadata": {},
   "outputs": [
    {
     "name": "stdout",
     "output_type": "stream",
     "text": [
      "Preparing documents... 0 line(s) ignored\n",
      "Running ROUGE...\n",
      "---------------------------------------------\n",
      "1 ROUGE-1 Average_R: 0.44341 (95%-conf.int. 0.44115 - 0.44596)\n",
      "1 ROUGE-1 Average_P: 0.46809 (95%-conf.int. 0.46559 - 0.47066)\n",
      "1 ROUGE-1 Average_F: 0.44489 (95%-conf.int. 0.44309 - 0.44674)\n",
      "---------------------------------------------\n",
      "1 ROUGE-2 Average_R: 0.14117 (95%-conf.int. 0.13925 - 0.14306)\n",
      "1 ROUGE-2 Average_P: 0.15058 (95%-conf.int. 0.14842 - 0.15272)\n",
      "1 ROUGE-2 Average_F: 0.14230 (95%-conf.int. 0.14048 - 0.14408)\n",
      "---------------------------------------------\n",
      "1 ROUGE-L Average_R: 0.20951 (95%-conf.int. 0.20808 - 0.21108)\n",
      "1 ROUGE-L Average_P: 0.22095 (95%-conf.int. 0.21947 - 0.22254)\n",
      "1 ROUGE-L Average_F: 0.20965 (95%-conf.int. 0.20846 - 0.21095)\n",
      "\n",
      "Elapsed time: 586.668 seconds\n"
     ]
    }
   ],
   "source": [
    "hyp_path=\"/home/yued/phd/LRD/lrd_summ/result/hipo/hiporank_rand_200.txt\"\n",
    "ref_path=\"/home/yued/phd/LRD/lrd_summ/result/ref.txt\"\n",
    "import files2rouge\n",
    "files2rouge.run(hyp_path, ref_path)"
   ]
  },
  {
   "cell_type": "code",
   "execution_count": 5,
   "metadata": {},
   "outputs": [
    {
     "name": "stdout",
     "output_type": "stream",
     "text": [
      "Preparing documents... 0 line(s) ignored\n",
      "Running ROUGE...\n",
      "---------------------------------------------\n",
      "1 ROUGE-1 Average_R: 0.45963 (95%-conf.int. 0.45760 - 0.46180)\n",
      "1 ROUGE-1 Average_P: 0.47526 (95%-conf.int. 0.47247 - 0.47796)\n",
      "1 ROUGE-1 Average_F: 0.45684 (95%-conf.int. 0.45499 - 0.45873)\n",
      "---------------------------------------------\n",
      "1 ROUGE-2 Average_R: 0.14622 (95%-conf.int. 0.14453 - 0.14804)\n",
      "1 ROUGE-2 Average_P: 0.15409 (95%-conf.int. 0.15213 - 0.15611)\n",
      "1 ROUGE-2 Average_F: 0.14678 (95%-conf.int. 0.14515 - 0.14859)\n",
      "---------------------------------------------\n",
      "1 ROUGE-L Average_R: 0.21989 (95%-conf.int. 0.21838 - 0.22137)\n",
      "1 ROUGE-L Average_P: 0.22636 (95%-conf.int. 0.22478 - 0.22787)\n",
      "1 ROUGE-L Average_F: 0.21780 (95%-conf.int. 0.21656 - 0.21907)\n",
      "\n",
      "Elapsed time: 604.138 seconds\n"
     ]
    }
   ],
   "source": [
    "hyp_path=\"/home/yued/phd/LRD/lrd_summ/result/lexrank.txt\"\n",
    "ref_path=\"/home/yued/phd/LRD/lrd_summ/result/ref.txt\"\n",
    "import files2rouge\n",
    "files2rouge.run(hyp_path, ref_path)"
   ]
  },
  {
   "cell_type": "code",
   "execution_count": 30,
   "metadata": {},
   "outputs": [
    {
     "name": "stdout",
     "output_type": "stream",
     "text": [
      "6000\n",
      "Write 5999 lines into /home/yued/phd/LRD/lrd_summ/result/textrank.txt.txt\n",
      "Preparing documents... 0 line(s) ignored\n",
      "Running ROUGE...\n",
      "---------------------------------------------\n",
      "1 ROUGE-1 Average_R: 0.42116 (95%-conf.int. 0.41865 - 0.42376)\n",
      "1 ROUGE-1 Average_P: 0.48361 (95%-conf.int. 0.48054 - 0.48665)\n",
      "1 ROUGE-1 Average_F: 0.43832 (95%-conf.int. 0.43601 - 0.44048)\n",
      "---------------------------------------------\n",
      "1 ROUGE-2 Average_R: 0.13582 (95%-conf.int. 0.13385 - 0.13772)\n",
      "1 ROUGE-2 Average_P: 0.15948 (95%-conf.int. 0.15692 - 0.16174)\n",
      "1 ROUGE-2 Average_F: 0.14296 (95%-conf.int. 0.14097 - 0.14493)\n",
      "---------------------------------------------\n",
      "1 ROUGE-L Average_R: 0.20935 (95%-conf.int. 0.20770 - 0.21108)\n",
      "1 ROUGE-L Average_P: 0.24084 (95%-conf.int. 0.23899 - 0.24281)\n",
      "1 ROUGE-L Average_F: 0.21756 (95%-conf.int. 0.21607 - 0.21903)\n",
      "\n",
      "Elapsed time: 289.079 seconds\n"
     ]
    }
   ],
   "source": [
    "hyp_path=\"/home/yued/phd/LRD/lrd_summ/result/textrank.txt\"\n",
    "ref_path=\"/home/yued/phd/LRD/lrd_summ/result/ref.txt\"\n",
    "import files2rouge\n",
    "files2rouge.run(hyp_path+'.txt', ref_path)"
   ]
  },
  {
   "cell_type": "code",
   "execution_count": 8,
   "metadata": {},
   "outputs": [
    {
     "name": "stdout",
     "output_type": "stream",
     "text": [
      "Preparing documents... 0 line(s) ignored\n",
      "Running ROUGE...\n",
      "---------------------------------------------\n",
      "1 ROUGE-1 Average_R: 0.44863 (95%-conf.int. 0.44635 - 0.45115)\n",
      "1 ROUGE-1 Average_P: 0.47218 (95%-conf.int. 0.46961 - 0.47471)\n",
      "1 ROUGE-1 Average_F: 0.44935 (95%-conf.int. 0.44744 - 0.45118)\n",
      "---------------------------------------------\n",
      "1 ROUGE-2 Average_R: 0.14505 (95%-conf.int. 0.14320 - 0.14693)\n",
      "1 ROUGE-2 Average_P: 0.15423 (95%-conf.int. 0.15214 - 0.15646)\n",
      "1 ROUGE-2 Average_F: 0.14594 (95%-conf.int. 0.14414 - 0.14787)\n",
      "---------------------------------------------\n",
      "1 ROUGE-L Average_R: 0.21240 (95%-conf.int. 0.21092 - 0.21409)\n",
      "1 ROUGE-L Average_P: 0.22325 (95%-conf.int. 0.22179 - 0.22488)\n",
      "1 ROUGE-L Average_F: 0.21213 (95%-conf.int. 0.21097 - 0.21344)\n",
      "\n",
      "Elapsed time: 580.215 seconds\n"
     ]
    }
   ],
   "source": [
    "hyp_path=\"/home/yued/phd/LRD/lrd_summ/result/hipo/hiporank_st_bert_base.txt\"\n",
    "ref_path=\"/home/yued/phd/LRD/lrd_summ/result/ref.txt\"\n",
    "import files2rouge\n",
    "files2rouge.run(hyp_path, ref_path)"
   ]
  },
  {
   "cell_type": "code",
   "execution_count": 13,
   "metadata": {},
   "outputs": [
    {
     "name": "stdout",
     "output_type": "stream",
     "text": [
      "Preparing documents... 0 line(s) ignored\n",
      "Running ROUGE...\n",
      "---------------------------------------------\n",
      "1 ROUGE-1 Average_R: 0.44946 (95%-conf.int. 0.44721 - 0.45189)\n",
      "1 ROUGE-1 Average_P: 0.47298 (95%-conf.int. 0.47043 - 0.47550)\n",
      "1 ROUGE-1 Average_F: 0.45022 (95%-conf.int. 0.44835 - 0.45210)\n",
      "---------------------------------------------\n",
      "1 ROUGE-2 Average_R: 0.14546 (95%-conf.int. 0.14354 - 0.14736)\n",
      "1 ROUGE-2 Average_P: 0.15467 (95%-conf.int. 0.15245 - 0.15687)\n",
      "1 ROUGE-2 Average_F: 0.14640 (95%-conf.int. 0.14452 - 0.14831)\n",
      "---------------------------------------------\n",
      "1 ROUGE-L Average_R: 0.21241 (95%-conf.int. 0.21096 - 0.21408)\n",
      "1 ROUGE-L Average_P: 0.22318 (95%-conf.int. 0.22167 - 0.22479)\n",
      "1 ROUGE-L Average_F: 0.21214 (95%-conf.int. 0.21092 - 0.21345)\n",
      "\n",
      "Elapsed time: 307.542 seconds\n"
     ]
    }
   ],
   "source": [
    "hyp_path=\"/home/yued/phd/LRD/lrd_summ/result/hipo/hiporank_st_roberta_large.txt\"\n",
    "ref_path=\"/home/yued/phd/LRD/lrd_summ/result/ref.txt\"\n",
    "import files2rouge\n",
    "files2rouge.run(hyp_path, ref_path)"
   ]
  },
  {
   "cell_type": "code",
   "execution_count": 10,
   "metadata": {},
   "outputs": [
    {
     "name": "stdout",
     "output_type": "stream",
     "text": [
      "Preparing documents... 0 line(s) ignored\n",
      "Running ROUGE...\n",
      "---------------------------------------------\n",
      "1 ROUGE-1 Average_R: 0.43786 (95%-conf.int. 0.43561 - 0.44030)\n",
      "1 ROUGE-1 Average_P: 0.47054 (95%-conf.int. 0.46802 - 0.47307)\n",
      "1 ROUGE-1 Average_F: 0.44315 (95%-conf.int. 0.44139 - 0.44501)\n",
      "---------------------------------------------\n",
      "1 ROUGE-2 Average_R: 0.13923 (95%-conf.int. 0.13731 - 0.14104)\n",
      "1 ROUGE-2 Average_P: 0.15122 (95%-conf.int. 0.14911 - 0.15336)\n",
      "1 ROUGE-2 Average_F: 0.14163 (95%-conf.int. 0.13976 - 0.14343)\n",
      "---------------------------------------------\n",
      "1 ROUGE-L Average_R: 0.20750 (95%-conf.int. 0.20607 - 0.20905)\n",
      "1 ROUGE-L Average_P: 0.22277 (95%-conf.int. 0.22124 - 0.22436)\n",
      "1 ROUGE-L Average_F: 0.20952 (95%-conf.int. 0.20827 - 0.21083)\n",
      "\n",
      "Elapsed time: 300.740 seconds\n"
     ]
    }
   ],
   "source": [
    "hyp_path=\"/home/yued/phd/LRD/lrd_summ/result/hipo/hiporank_rand_200_196_add_f=0.0_b=1.0_s=0.5.txt\"\n",
    "ref_path=\"/home/yued/phd/LRD/lrd_summ/result/ref.txt\"\n",
    "import files2rouge\n",
    "files2rouge.run(hyp_path, ref_path)"
   ]
  },
  {
   "cell_type": "code",
   "execution_count": 11,
   "metadata": {},
   "outputs": [
    {
     "name": "stdout",
     "output_type": "stream",
     "text": [
      "Preparing documents... 0 line(s) ignored\n",
      "Running ROUGE...\n",
      "---------------------------------------------\n",
      "1 ROUGE-1 Average_R: 0.43791 (95%-conf.int. 0.43569 - 0.44037)\n",
      "1 ROUGE-1 Average_P: 0.47061 (95%-conf.int. 0.46809 - 0.47314)\n",
      "1 ROUGE-1 Average_F: 0.44322 (95%-conf.int. 0.44144 - 0.44507)\n",
      "---------------------------------------------\n",
      "1 ROUGE-2 Average_R: 0.13924 (95%-conf.int. 0.13730 - 0.14103)\n",
      "1 ROUGE-2 Average_P: 0.15126 (95%-conf.int. 0.14914 - 0.15340)\n",
      "1 ROUGE-2 Average_F: 0.14165 (95%-conf.int. 0.13978 - 0.14349)\n",
      "---------------------------------------------\n",
      "1 ROUGE-L Average_R: 0.20752 (95%-conf.int. 0.20610 - 0.20908)\n",
      "1 ROUGE-L Average_P: 0.22280 (95%-conf.int. 0.22126 - 0.22438)\n",
      "1 ROUGE-L Average_F: 0.20954 (95%-conf.int. 0.20827 - 0.21084)\n",
      "\n",
      "Elapsed time: 299.126 seconds\n"
     ]
    }
   ],
   "source": [
    "hyp_path=\"/home/yued/phd/LRD/lrd_summ/result/hipo/hiporank_rand_200_196_add_f=-0.2_b=1.0_s=0.5.txt\"\n",
    "ref_path=\"/home/yued/phd/LRD/lrd_summ/result/ref.txt\"\n",
    "import files2rouge\n",
    "files2rouge.run(hyp_path, ref_path)"
   ]
  },
  {
   "cell_type": "code",
   "execution_count": 12,
   "metadata": {},
   "outputs": [
    {
     "name": "stdout",
     "output_type": "stream",
     "text": [
      "Preparing documents... 0 line(s) ignored\n",
      "Running ROUGE...\n",
      "---------------------------------------------\n",
      "1 ROUGE-1 Average_R: 0.43788 (95%-conf.int. 0.43544 - 0.44041)\n",
      "1 ROUGE-1 Average_P: 0.46902 (95%-conf.int. 0.46656 - 0.47147)\n",
      "1 ROUGE-1 Average_F: 0.44249 (95%-conf.int. 0.44063 - 0.44434)\n",
      "---------------------------------------------\n",
      "1 ROUGE-2 Average_R: 0.14046 (95%-conf.int. 0.13841 - 0.14237)\n",
      "1 ROUGE-2 Average_P: 0.15190 (95%-conf.int. 0.14968 - 0.15412)\n",
      "1 ROUGE-2 Average_F: 0.14258 (95%-conf.int. 0.14055 - 0.14448)\n",
      "---------------------------------------------\n",
      "1 ROUGE-L Average_R: 0.20835 (95%-conf.int. 0.20679 - 0.20991)\n",
      "1 ROUGE-L Average_P: 0.22286 (95%-conf.int. 0.22125 - 0.22448)\n",
      "1 ROUGE-L Average_F: 0.21000 (95%-conf.int. 0.20871 - 0.21128)\n",
      "\n",
      "Elapsed time: 301.571 seconds\n"
     ]
    }
   ],
   "source": [
    "hyp_path=\"/home/yued/phd/LRD/lrd_summ/result/hipo/hiporank_rand_200_196_add_f=-0.2_b=1.0_s=1.0.txt\"\n",
    "ref_path=\"/home/yued/phd/LRD/lrd_summ/result/ref.txt\"\n",
    "import files2rouge\n",
    "files2rouge.run(hyp_path, ref_path)"
   ]
  },
  {
   "cell_type": "code",
   "execution_count": 14,
   "metadata": {},
   "outputs": [
    {
     "name": "stdout",
     "output_type": "stream",
     "text": [
      "Preparing documents... 0 line(s) ignored\n",
      "Running ROUGE...\n",
      "---------------------------------------------\n",
      "1 ROUGE-1 Average_R: 0.43718 (95%-conf.int. 0.43475 - 0.43973)\n",
      "1 ROUGE-1 Average_P: 0.46839 (95%-conf.int. 0.46585 - 0.47108)\n",
      "1 ROUGE-1 Average_F: 0.44182 (95%-conf.int. 0.43996 - 0.44366)\n",
      "---------------------------------------------\n",
      "1 ROUGE-2 Average_R: 0.14069 (95%-conf.int. 0.13855 - 0.14260)\n",
      "1 ROUGE-2 Average_P: 0.15203 (95%-conf.int. 0.14971 - 0.15434)\n",
      "1 ROUGE-2 Average_F: 0.14274 (95%-conf.int. 0.14070 - 0.14465)\n",
      "---------------------------------------------\n",
      "1 ROUGE-L Average_R: 0.20855 (95%-conf.int. 0.20698 - 0.21009)\n",
      "1 ROUGE-L Average_P: 0.22303 (95%-conf.int. 0.22142 - 0.22455)\n",
      "1 ROUGE-L Average_F: 0.21017 (95%-conf.int. 0.20887 - 0.21139)\n",
      "\n",
      "Elapsed time: 303.856 seconds\n"
     ]
    }
   ],
   "source": [
    "hyp_path=\"/home/yued/phd/LRD/lrd_summ/result/hipo/hiporank_rand_200_196_add_f=-0.2_b=1.0_s=1.5.txt\"\n",
    "ref_path=\"/home/yued/phd/LRD/lrd_summ/result/ref.txt\"\n",
    "import files2rouge\n",
    "files2rouge.run(hyp_path, ref_path)"
   ]
  },
  {
   "cell_type": "code",
   "execution_count": 15,
   "metadata": {},
   "outputs": [
    {
     "name": "stdout",
     "output_type": "stream",
     "text": [
      "Preparing documents... 0 line(s) ignored\n",
      "Running ROUGE...\n",
      "---------------------------------------------\n",
      "1 ROUGE-1 Average_R: 0.43790 (95%-conf.int. 0.43572 - 0.44041)\n",
      "1 ROUGE-1 Average_P: 0.47048 (95%-conf.int. 0.46798 - 0.47298)\n",
      "1 ROUGE-1 Average_F: 0.44316 (95%-conf.int. 0.44139 - 0.44504)\n",
      "---------------------------------------------\n",
      "1 ROUGE-2 Average_R: 0.13922 (95%-conf.int. 0.13728 - 0.14112)\n",
      "1 ROUGE-2 Average_P: 0.15116 (95%-conf.int. 0.14908 - 0.15328)\n",
      "1 ROUGE-2 Average_F: 0.14161 (95%-conf.int. 0.13977 - 0.14342)\n",
      "---------------------------------------------\n",
      "1 ROUGE-L Average_R: 0.20750 (95%-conf.int. 0.20603 - 0.20903)\n",
      "1 ROUGE-L Average_P: 0.22271 (95%-conf.int. 0.22120 - 0.22433)\n",
      "1 ROUGE-L Average_F: 0.20949 (95%-conf.int. 0.20826 - 0.21085)\n",
      "\n",
      "Elapsed time: 297.111 seconds\n"
     ]
    }
   ],
   "source": [
    "hyp_path=\"/home/yued/phd/LRD/lrd_summ/result/hipo/hiporank_rand_200_196_add_f=0.5_b=1.0_s=0.5.txt\"\n",
    "ref_path=\"/home/yued/phd/LRD/lrd_summ/result/ref.txt\"\n",
    "import files2rouge\n",
    "files2rouge.run(hyp_path, ref_path)"
   ]
  },
  {
   "cell_type": "code",
   "execution_count": 16,
   "metadata": {},
   "outputs": [
    {
     "name": "stdout",
     "output_type": "stream",
     "text": [
      "Preparing documents... 0 line(s) ignored\n",
      "Running ROUGE...\n",
      "---------------------------------------------\n",
      "1 ROUGE-1 Average_R: 0.43748 (95%-conf.int. 0.43513 - 0.44000)\n",
      "1 ROUGE-1 Average_P: 0.46880 (95%-conf.int. 0.46631 - 0.47128)\n",
      "1 ROUGE-1 Average_F: 0.44218 (95%-conf.int. 0.44034 - 0.44402)\n",
      "---------------------------------------------\n",
      "1 ROUGE-2 Average_R: 0.14017 (95%-conf.int. 0.13816 - 0.14202)\n",
      "1 ROUGE-2 Average_P: 0.15165 (95%-conf.int. 0.14946 - 0.15386)\n",
      "1 ROUGE-2 Average_F: 0.14232 (95%-conf.int. 0.14034 - 0.14422)\n",
      "---------------------------------------------\n",
      "1 ROUGE-L Average_R: 0.20814 (95%-conf.int. 0.20658 - 0.20973)\n",
      "1 ROUGE-L Average_P: 0.22273 (95%-conf.int. 0.22113 - 0.22433)\n",
      "1 ROUGE-L Average_F: 0.20984 (95%-conf.int. 0.20857 - 0.21112)\n",
      "\n",
      "Elapsed time: 306.595 seconds\n"
     ]
    }
   ],
   "source": [
    "hyp_path=\"/home/yued/phd/LRD/lrd_summ/result/hipo/hiporank_rand_200_196_add_f=0.5_b=1.0_s=1.0.txt\"\n",
    "ref_path=\"/home/yued/phd/LRD/lrd_summ/result/ref.txt\"\n",
    "import files2rouge\n",
    "files2rouge.run(hyp_path, ref_path)"
   ]
  },
  {
   "cell_type": "code",
   "execution_count": 17,
   "metadata": {},
   "outputs": [
    {
     "name": "stdout",
     "output_type": "stream",
     "text": [
      "Preparing documents... 0 line(s) ignored\n",
      "Running ROUGE...\n",
      "---------------------------------------------\n",
      "1 ROUGE-1 Average_R: 0.43683 (95%-conf.int. 0.43442 - 0.43937)\n",
      "1 ROUGE-1 Average_P: 0.46798 (95%-conf.int. 0.46543 - 0.47059)\n",
      "1 ROUGE-1 Average_F: 0.44142 (95%-conf.int. 0.43950 - 0.44325)\n",
      "---------------------------------------------\n",
      "1 ROUGE-2 Average_R: 0.14028 (95%-conf.int. 0.13816 - 0.14212)\n",
      "1 ROUGE-2 Average_P: 0.15161 (95%-conf.int. 0.14933 - 0.15395)\n",
      "1 ROUGE-2 Average_F: 0.14232 (95%-conf.int. 0.14030 - 0.14418)\n",
      "---------------------------------------------\n",
      "1 ROUGE-L Average_R: 0.20828 (95%-conf.int. 0.20671 - 0.20981)\n",
      "1 ROUGE-L Average_P: 0.22271 (95%-conf.int. 0.22113 - 0.22426)\n",
      "1 ROUGE-L Average_F: 0.20986 (95%-conf.int. 0.20860 - 0.21109)\n",
      "\n",
      "Elapsed time: 311.969 seconds\n"
     ]
    }
   ],
   "source": [
    "hyp_path=\"/home/yued/phd/LRD/lrd_summ/result/hipo/hiporank_rand_200_196_add_f=0.5_b=1.0_s=1.5.txt\"\n",
    "ref_path=\"/home/yued/phd/LRD/lrd_summ/result/ref.txt\"\n",
    "import files2rouge\n",
    "files2rouge.run(hyp_path, ref_path)"
   ]
  },
  {
   "cell_type": "code",
   "execution_count": 18,
   "metadata": {},
   "outputs": [
    {
     "name": "stdout",
     "output_type": "stream",
     "text": [
      "Preparing documents... 0 line(s) ignored\n",
      "Running ROUGE...\n",
      "---------------------------------------------\n",
      "1 ROUGE-1 Average_R: 0.43703 (95%-conf.int. 0.43463 - 0.43952)\n",
      "1 ROUGE-1 Average_P: 0.46823 (95%-conf.int. 0.46579 - 0.47086)\n",
      "1 ROUGE-1 Average_F: 0.44165 (95%-conf.int. 0.43984 - 0.44350)\n",
      "---------------------------------------------\n",
      "1 ROUGE-2 Average_R: 0.13999 (95%-conf.int. 0.13795 - 0.14189)\n",
      "1 ROUGE-2 Average_P: 0.15144 (95%-conf.int. 0.14921 - 0.15363)\n",
      "1 ROUGE-2 Average_F: 0.14211 (95%-conf.int. 0.14017 - 0.14394)\n",
      "---------------------------------------------\n",
      "1 ROUGE-L Average_R: 0.20862 (95%-conf.int. 0.20701 - 0.21018)\n",
      "1 ROUGE-L Average_P: 0.22320 (95%-conf.int. 0.22161 - 0.22481)\n",
      "1 ROUGE-L Average_F: 0.21023 (95%-conf.int. 0.20891 - 0.21156)\n",
      "\n",
      "Elapsed time: 301.783 seconds\n"
     ]
    }
   ],
   "source": [
    "hyp_path=\"/home/yued/phd/LRD/lrd_summ/result/hipo/hiporank_rand_200_196_multiply.txt\"\n",
    "ref_path=\"/home/yued/phd/LRD/lrd_summ/result/ref.txt\"\n",
    "import files2rouge\n",
    "files2rouge.run(hyp_path, ref_path)"
   ]
  },
  {
   "cell_type": "code",
   "execution_count": 19,
   "metadata": {},
   "outputs": [
    {
     "name": "stdout",
     "output_type": "stream",
     "text": [
      "Preparing documents... 0 line(s) ignored\n",
      "Running ROUGE...\n",
      "---------------------------------------------\n",
      "1 ROUGE-1 Average_R: 0.43712 (95%-conf.int. 0.43468 - 0.43973)\n",
      "1 ROUGE-1 Average_P: 0.46856 (95%-conf.int. 0.46611 - 0.47115)\n",
      "1 ROUGE-1 Average_F: 0.44181 (95%-conf.int. 0.43989 - 0.44365)\n",
      "---------------------------------------------\n",
      "1 ROUGE-2 Average_R: 0.14063 (95%-conf.int. 0.13857 - 0.14253)\n",
      "1 ROUGE-2 Average_P: 0.15219 (95%-conf.int. 0.14984 - 0.15448)\n",
      "1 ROUGE-2 Average_F: 0.14272 (95%-conf.int. 0.14068 - 0.14467)\n",
      "---------------------------------------------\n",
      "1 ROUGE-L Average_R: 0.20849 (95%-conf.int. 0.20693 - 0.21014)\n",
      "1 ROUGE-L Average_P: 0.22315 (95%-conf.int. 0.22152 - 0.22474)\n",
      "1 ROUGE-L Average_F: 0.21011 (95%-conf.int. 0.20880 - 0.21131)\n",
      "\n",
      "Elapsed time: 298.015 seconds\n"
     ]
    }
   ],
   "source": [
    "hyp_path=\"/home/yued/phd/LRD/lrd_summ/result/hipo/hiporank_rand_200196.txt\"\n",
    "ref_path=\"/home/yued/phd/LRD/lrd_summ/result/ref.txt\"\n",
    "import files2rouge\n",
    "files2rouge.run(hyp_path, ref_path)"
   ]
  },
  {
   "cell_type": "markdown",
   "metadata": {},
   "source": [
    "## LSA Result"
   ]
  },
  {
   "cell_type": "code",
   "execution_count": null,
   "metadata": {},
   "outputs": [],
   "source": [
    "# 1 ROUGE-1 Average_R: 0.38268 (95%-conf.int. 0.38044 - 0.38487)\n",
    "# 1 ROUGE-1 Average_P: 0.39442 (95%-conf.int. 0.39251 - 0.39640)\n",
    "# 1 ROUGE-1 Average_F: 0.37952 (95%-conf.int. 0.37805 - 0.38106)\n",
    "# ---------------------------------------------\n",
    "# 1 ROUGE-2 Average_R: 0.08916 (95%-conf.int. 0.08771 - 0.09060)\n",
    "# 1 ROUGE-2 Average_P: 0.09286 (95%-conf.int. 0.09132 - 0.09419)\n",
    "# 1 ROUGE-2 Average_F: 0.08881 (95%-conf.int. 0.08743 - 0.09007)\n",
    "# ---------------------------------------------\n",
    "# 1 ROUGE-L Average_R: 0.18220 (95%-conf.int. 0.18084 - 0.18365)\n",
    "# 1 ROUGE-L Average_P: 0.18702 (95%-conf.int. 0.18583 - 0.18815)\n",
    "# 1 ROUGE-L Average_F: 0.18008 (95%-conf.int. 0.17909 - 0.18115)"
   ]
  },
  {
   "cell_type": "markdown",
   "metadata": {},
   "source": [
    "## TextRank Result"
   ]
  },
  {
   "cell_type": "code",
   "execution_count": null,
   "metadata": {},
   "outputs": [],
   "source": [
    "# ---------------------------------------------\n",
    "# 1 ROUGE-1 Average_R: 0.42116 (95%-conf.int. 0.41865 - 0.42376)\n",
    "# 1 ROUGE-1 Average_P: 0.48361 (95%-conf.int. 0.48054 - 0.48665)\n",
    "# 1 ROUGE-1 Average_F: 0.43832 (95%-conf.int. 0.43601 - 0.44048)\n",
    "# ---------------------------------------------\n",
    "# 1 ROUGE-2 Average_R: 0.13582 (95%-conf.int. 0.13385 - 0.13772)\n",
    "# 1 ROUGE-2 Average_P: 0.15948 (95%-conf.int. 0.15692 - 0.16174)\n",
    "# 1 ROUGE-2 Average_F: 0.14296 (95%-conf.int. 0.14097 - 0.14493)\n",
    "# ---------------------------------------------\n",
    "# 1 ROUGE-L Average_R: 0.20935 (95%-conf.int. 0.20770 - 0.21108)\n",
    "# 1 ROUGE-L Average_P: 0.24084 (95%-conf.int. 0.23899 - 0.24281)\n",
    "# 1 ROUGE-L Average_F: 0.21756 (95%-conf.int. 0.21607 - 0.21903)"
   ]
  },
  {
   "cell_type": "markdown",
   "metadata": {},
   "source": [
    "## LexRank"
   ]
  },
  {
   "cell_type": "code",
   "execution_count": 42,
   "metadata": {},
   "outputs": [],
   "source": [
    "# ---------------------------------------------\n",
    "# 1 ROUGE-1 Average_R: 0.45963 (95%-conf.int. 0.45760 - 0.46180)\n",
    "# 1 ROUGE-1 Average_P: 0.47526 (95%-conf.int. 0.47247 - 0.47796)\n",
    "# 1 ROUGE-1 Average_F: 0.45684 (95%-conf.int. 0.45499 - 0.45873)\n",
    "# ---------------------------------------------\n",
    "# 1 ROUGE-2 Average_R: 0.14622 (95%-conf.int. 0.14453 - 0.14804)\n",
    "# 1 ROUGE-2 Average_P: 0.15409 (95%-conf.int. 0.15213 - 0.15611)\n",
    "# 1 ROUGE-2 Average_F: 0.14678 (95%-conf.int. 0.14515 - 0.14859)\n",
    "# ---------------------------------------------\n",
    "# 1 ROUGE-L Average_R: 0.21989 (95%-conf.int. 0.21838 - 0.22137)\n",
    "# 1 ROUGE-L Average_P: 0.22636 (95%-conf.int. 0.22478 - 0.22787)\n",
    "# 1 ROUGE-L Average_F: 0.21780 (95%-conf.int. 0.21656 - 0.21907)\n",
    "\n",
    "############## with tokenizer\n",
    "# export CLASSPATH=/home/yued/tools/stanford-corenlp-4.2.0/stanford-corenlp-4.2.0.jar\n",
    "# cat lexrank.txt | java edu.stanford.nlp.process.PTBTokenizer -ioFileList -preserveLines > lexrank.tokenized\n",
    "# ---------------------------------------------\n",
    "# 1 ROUGE-1 Average_R: 0.45990 (95%-conf.int. 0.45792 - 0.46207)\n",
    "# 1 ROUGE-1 Average_P: 0.47602 (95%-conf.int. 0.47331 - 0.47858)\n",
    "# 1 ROUGE-1 Average_F: 0.45781 (95%-conf.int. 0.45601 - 0.45963)\n",
    "# ---------------------------------------------\n",
    "# 1 ROUGE-2 Average_R: 0.14630 (95%-conf.int. 0.14461 - 0.14813)\n",
    "# 1 ROUGE-2 Average_P: 0.15432 (95%-conf.int. 0.15237 - 0.15628)\n",
    "# 1 ROUGE-2 Average_F: 0.14708 (95%-conf.int. 0.14545 - 0.14891)\n",
    "# ---------------------------------------------\n",
    "# 1 ROUGE-L Average_R: 0.41820 (95%-conf.int. 0.41629 - 0.42022)\n",
    "# 1 ROUGE-L Average_P: 0.43377 (95%-conf.int. 0.43108 - 0.43631)\n",
    "# 1 ROUGE-L Average_F: 0.41674 (95%-conf.int. 0.41496 - 0.41851)"
   ]
  },
  {
   "cell_type": "markdown",
   "metadata": {},
   "source": [
    "## SumBasics"
   ]
  },
  {
   "cell_type": "code",
   "execution_count": null,
   "metadata": {},
   "outputs": [],
   "source": [
    "# ---------------------------------------------\n",
    "# 1 ROUGE-1 Average_R: 0.39161 (95%-conf.int. 0.38966 - 0.39358)\n",
    "# 1 ROUGE-1 Average_P: 0.42084 (95%-conf.int. 0.41874 - 0.42294)\n",
    "# 1 ROUGE-1 Average_F: 0.39647 (95%-conf.int. 0.39498 - 0.39797)\n",
    "# ---------------------------------------------\n",
    "# 1 ROUGE-2 Average_R: 0.08872 (95%-conf.int. 0.08757 - 0.08995)\n",
    "# 1 ROUGE-2 Average_P: 0.09679 (95%-conf.int. 0.09557 - 0.09804)\n",
    "# 1 ROUGE-2 Average_F: 0.09046 (95%-conf.int. 0.08936 - 0.09150)\n",
    "# ---------------------------------------------\n",
    "# 1 ROUGE-L Average_R: 0.17831 (95%-conf.int. 0.17713 - 0.17950)\n",
    "# 1 ROUGE-L Average_P: 0.19078 (95%-conf.int. 0.18970 - 0.19191)\n",
    "# 1 ROUGE-L Average_F: 0.17983 (95%-conf.int. 0.17902 - 0.18074)"
   ]
  },
  {
   "cell_type": "markdown",
   "metadata": {},
   "source": [
    "## Hiporank random embedding"
   ]
  },
  {
   "cell_type": "code",
   "execution_count": null,
   "metadata": {},
   "outputs": [],
   "source": [
    "# ---------------------------------------------\n",
    "# 1 ROUGE-1 Average_R: 0.44341 (95%-conf.int. 0.44115 - 0.44596)\n",
    "# 1 ROUGE-1 Average_P: 0.46809 (95%-conf.int. 0.46559 - 0.47066)\n",
    "# 1 ROUGE-1 Average_F: 0.44489 (95%-conf.int. 0.44309 - 0.44674)\n",
    "# ---------------------------------------------\n",
    "# 1 ROUGE-2 Average_R: 0.14117 (95%-conf.int. 0.13925 - 0.14306)\n",
    "# 1 ROUGE-2 Average_P: 0.15058 (95%-conf.int. 0.14842 - 0.15272)\n",
    "# 1 ROUGE-2 Average_F: 0.14230 (95%-conf.int. 0.14048 - 0.14408)\n",
    "# ---------------------------------------------\n",
    "# 1 ROUGE-L Average_R: 0.20951 (95%-conf.int. 0.20808 - 0.21108)\n",
    "# 1 ROUGE-L Average_P: 0.22095 (95%-conf.int. 0.21947 - 0.22254)\n",
    "# 1 ROUGE-L Average_F: 0.20965 (95%-conf.int. 0.20846 - 0.21095)\n"
   ]
  }
 ],
 "metadata": {
  "kernelspec": {
   "display_name": "Python 3",
   "language": "python",
   "name": "python3"
  },
  "language_info": {
   "codemirror_mode": {
    "name": "ipython",
    "version": 3
   },
   "file_extension": ".py",
   "mimetype": "text/x-python",
   "name": "python",
   "nbconvert_exporter": "python",
   "pygments_lexer": "ipython3",
   "version": "3.7.6"
  }
 },
 "nbformat": 4,
 "nbformat_minor": 4
}
