{
 "cells": [
  {
   "cell_type": "code",
   "execution_count": 1,
   "metadata": {},
   "outputs": [],
   "source": [
    "import os\n",
    "sdir = '/home/ubuntu/efs/emerald/data/fulltext-abstract_sections/'\n",
    "tdir = '/home/ubuntu/efs/lei/test/fulltext-abstract_sections/'"
   ]
  },
  {
   "cell_type": "code",
   "execution_count": 2,
   "metadata": {},
   "outputs": [],
   "source": [
    "for s in os.listdir(sdir):\n",
    "    if '.bpe' in s:\n",
    "        continue\n",
    "    f = open(sdir + s)\n",
    "    out = open(tdir + s, 'w')\n",
    "    for l in f:\n",
    "        if s.endswith('.source'):\n",
    "            ts = l.strip().split(' ')\n",
    "            l = ' '.join([ts[-1]] + ts[:-1])\n",
    "        else:\n",
    "            l = l.strip()\n",
    "        out.write(l + '\\n')"
   ]
  },
  {
   "cell_type": "code",
   "execution_count": null,
   "metadata": {},
   "outputs": [],
   "source": []
  }
 ],
 "metadata": {
  "kernelspec": {
   "display_name": "Python 3",
   "language": "python",
   "name": "python3"
  },
  "language_info": {
   "codemirror_mode": {
    "name": "ipython",
    "version": 3
   },
   "file_extension": ".py",
   "mimetype": "text/x-python",
   "name": "python",
   "nbconvert_exporter": "python",
   "pygments_lexer": "ipython3",
   "version": "3.6.12"
  }
 },
 "nbformat": 4,
 "nbformat_minor": 4
}
