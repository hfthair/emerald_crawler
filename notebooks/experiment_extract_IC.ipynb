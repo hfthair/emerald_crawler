{
 "cells": [
  {
   "cell_type": "markdown",
   "source": [
    "## In this file we experiment with train.jsonl to see how to extract Intro and Conclu."
   ],
   "metadata": {}
  },
  {
   "cell_type": "code",
   "execution_count": 1,
   "source": [
    "# Read train dataset.\r\n",
    "import json\r\n",
    "import pandas as pd\r\n",
    "\r\n",
    "def lines2df(lines):\r\n",
    "    ex_dicts = []\r\n",
    "    for line in lines:\r\n",
    "        ex_dict = json.loads(line.strip())\r\n",
    "        ex_dicts.append(ex_dict)\r\n",
    "    df = pd.DataFrame.from_records(ex_dicts, columns=list(ex_dicts[0].keys()))\r\n",
    "    return df\r\n",
    "f = open('/home/ubuntu/efs/emerald/train.jsonl', 'r')\r\n",
    "lines = [l for l in f.readlines()]\r\n",
    "\r\n",
    "emerald_df = lines2df(lines)"
   ],
   "outputs": [],
   "metadata": {}
  },
  {
   "cell_type": "code",
   "execution_count": 65,
   "source": [
    "# Functions for extract Intro+Conclu (IC).\r\n",
    "from tqdm.auto import tqdm\r\n",
    "def find_section_title_like(section_names, section_text, cuewords, include_title=True):\r\n",
    "    text = []\r\n",
    "    for sn, st in zip(section_names, section_text):\r\n",
    "        sn = sn.lower()\r\n",
    "        for cueword in cuewords:\r\n",
    "            if cueword in sn:\r\n",
    "                if include_title:\r\n",
    "                    text.append(sn)\r\n",
    "                text.append('\\n'.join(st))\r\n",
    "                break\r\n",
    "    return '\\n'.join(text)\r\n",
    "\r\n",
    "def find_intro(df, include_title=True):\r\n",
    "    except_titles = []\r\n",
    "    except_texts = []\r\n",
    "    intr_text = []\r\n",
    "    for idx, row in tqdm(df.iterrows(), total=df.shape[0]):\r\n",
    "        text = find_section_title_like(section_names=row['section_names'],\r\n",
    "                                       section_text=row['sections'],\r\n",
    "                                       cuewords=['intro', 'purpose'], #### keywords for intro sections\r\n",
    "                                       include_title=include_title)\r\n",
    "        if not text:\r\n",
    "            title = row['section_names'][0]\r\n",
    "            text = '\\n'.join(row['sections'][0])\r\n",
    "            if title == '__NO_TITLE__':\r\n",
    "                title = ''\r\n",
    "            # add section title into text results\r\n",
    "            if include_title and title:\r\n",
    "                 text = '\\n'.join((title, text))\r\n",
    "            \r\n",
    "            # cut long intro :1000\r\n",
    "            if len(text.split()) > 1000:\r\n",
    "                text = ' '.join(text.split()[:1000])\r\n",
    "            \r\n",
    "            except_titles.append(title)\r\n",
    "            except_texts.append(text)\r\n",
    "\r\n",
    "        intr_text.append(text)\r\n",
    "    return intr_text, except_titles, except_texts\r\n",
    "\r\n",
    "def find_conclu(df, include_title=True):\r\n",
    "    except_titles = []\r\n",
    "    except_texts = []\r\n",
    "    conclu_text = []\r\n",
    "    for idx, row in tqdm(df.iterrows(), total=df.shape[0]):\r\n",
    "        text = find_section_title_like(section_names=row['section_names'],\r\n",
    "                                       section_text=row['sections'],\r\n",
    "                                       cuewords=['conclu', 'future'], #### keywords for conclu sections\r\n",
    "                                       include_title=include_title)\r\n",
    "        if not text:\r\n",
    "            title = row['section_names'][-1]\r\n",
    "            text = '\\n'.join(row['sections'][-1])\r\n",
    "            if title == '__NO_TITLE__':\r\n",
    "                title = ''\r\n",
    "            # add section title into text results\r\n",
    "            if include_title and title:\r\n",
    "                 text = '\\n'.join((title, text))\r\n",
    "            \r\n",
    "            # cut long conclu :1000\r\n",
    "            if len(text.split()) > 1000:\r\n",
    "                if len(row['section_names']) == 1 or 'intro' in title.lower() or 'purpose' in title.lower():\r\n",
    "                    # to avoid same intro&conclu\r\n",
    "                    text = ' '.join(text.split()[-1000:])\r\n",
    "                else:\r\n",
    "                    text = ' '.join(text.split()[:1000])\r\n",
    "\r\n",
    "            except_titles.append(title)\r\n",
    "            except_texts.append(text)\r\n",
    "\r\n",
    "        conclu_text.append(text)\r\n",
    "    return conclu_text, except_titles, except_texts\r\n",
    "\r\n",
    "intr_text, intr_except_titles, intr_except_texts = find_intro(emerald_df, include_title=True)\r\n",
    "conclu_text, conclu_except_titles, conclu_except_texts = find_conclu(emerald_df, include_title=True)"
   ],
   "outputs": [
    {
     "output_type": "display_data",
     "data": {
      "text/plain": [
       "  0%|          | 0/48024 [00:00<?, ?it/s]"
      ],
      "application/vnd.jupyter.widget-view+json": {
       "model_id": "5d5b718899fb4752a698903007396517",
       "version_major": 2,
       "version_minor": 0
      }
     },
     "metadata": {}
    },
    {
     "output_type": "display_data",
     "data": {
      "text/plain": [
       "  0%|          | 0/48024 [00:00<?, ?it/s]"
      ],
      "application/vnd.jupyter.widget-view+json": {
       "model_id": "3a69b42e7b9640219ab3ccd49fc469e2",
       "version_major": 2,
       "version_minor": 0
      }
     },
     "metadata": {}
    }
   ],
   "metadata": {}
  },
  {
   "cell_type": "code",
   "execution_count": 66,
   "source": [
    "print(\"total: {}, missing intro: {}, missing conclu: {}\".format(len(intr_text), len(intr_except_titles), len(conclu_except_titles)))"
   ],
   "outputs": [
    {
     "output_type": "stream",
     "name": "stdout",
     "text": [
      "total: 48024, missing intro: 7578, missing conclu: 10061\n"
     ]
    }
   ],
   "metadata": {}
  },
  {
   "cell_type": "markdown",
   "source": [
    "### If we can not find intro section, what is the first section?"
   ],
   "metadata": {}
  },
  {
   "cell_type": "code",
   "execution_count": 67,
   "source": [
    "pd.DataFrame({'intr_except_titles': intr_except_titles}).value_counts().head(20)"
   ],
   "outputs": [
    {
     "output_type": "execute_result",
     "data": {
      "text/plain": [
       "intr_except_titles         \n",
       "                               5624\n",
       "Background                      304\n",
       "Review                           72\n",
       "1. Background                    63\n",
       "Overview                         19\n",
       "1 Background                     14\n",
       "Context                           8\n",
       "Preamble                          8\n",
       "Background to the study           7\n",
       "1. Background of the study        7\n",
       "Literature review                 6\n",
       "Background of the study           5\n",
       "Summary                           5\n",
       "The context                       5\n",
       "Main body of article review       5\n",
       "Theoretical framework             5\n",
       "Motivation                        5\n",
       "Background and context            4\n",
       "I                                 4\n",
       "Theoretical background            4\n",
       "dtype: int64"
      ]
     },
     "metadata": {},
     "execution_count": 67
    }
   ],
   "metadata": {}
  },
  {
   "cell_type": "markdown",
   "source": [
    "### If we can not find conclu section, what is the last section?"
   ],
   "metadata": {}
  },
  {
   "cell_type": "code",
   "execution_count": 68,
   "source": [
    "pd.DataFrame({'conclu_except_titles': conclu_except_titles}).value_counts().head(20)"
   ],
   "outputs": [
    {
     "output_type": "execute_result",
     "data": {
      "text/plain": [
       "conclu_except_titles            \n",
       "Discussion                          2577\n",
       "                                     498\n",
       "Comment                              467\n",
       "5. Discussion                        336\n",
       "Discussion and implications          257\n",
       "Summary                              218\n",
       "General discussion                   211\n",
       "Note                                 203\n",
       "6. Discussion                        156\n",
       "4. Discussion                        114\n",
       "Implications                         113\n",
       "Managerial implications               88\n",
       "Limitations                           70\n",
       "Commentary                            69\n",
       "Limitations and further research      60\n",
       "5. Discussion and implications        55\n",
       "Recommendations                       40\n",
       "5. Final considerations               39\n",
       "Introduction                          36\n",
       "Results and discussion                35\n",
       "dtype: int64"
      ]
     },
     "metadata": {},
     "execution_count": 68
    }
   ],
   "metadata": {}
  },
  {
   "cell_type": "markdown",
   "source": [
    "### length of first/last sections"
   ],
   "metadata": {}
  },
  {
   "cell_type": "code",
   "execution_count": 69,
   "source": [
    "## when intro is missing, first section is:\r\n",
    "pd.DataFrame({'': [len(i.split()) for i in intr_except_texts]}).describe(\r\n",
    "    percentiles=[.01, .25, .5, .75, .99])"
   ],
   "outputs": [
    {
     "output_type": "execute_result",
     "data": {
      "text/plain": [
       "                  \n",
       "count  7578.000000\n",
       "mean    517.781869\n",
       "std     309.982480\n",
       "min       2.000000\n",
       "1%       33.000000\n",
       "25%     249.000000\n",
       "50%     468.000000\n",
       "75%     780.000000\n",
       "99%    1000.000000\n",
       "max    1000.000000"
      ],
      "text/html": [
       "<div>\n",
       "<style scoped>\n",
       "    .dataframe tbody tr th:only-of-type {\n",
       "        vertical-align: middle;\n",
       "    }\n",
       "\n",
       "    .dataframe tbody tr th {\n",
       "        vertical-align: top;\n",
       "    }\n",
       "\n",
       "    .dataframe thead th {\n",
       "        text-align: right;\n",
       "    }\n",
       "</style>\n",
       "<table border=\"1\" class=\"dataframe\">\n",
       "  <thead>\n",
       "    <tr style=\"text-align: right;\">\n",
       "      <th></th>\n",
       "      <th></th>\n",
       "    </tr>\n",
       "  </thead>\n",
       "  <tbody>\n",
       "    <tr>\n",
       "      <th>count</th>\n",
       "      <td>7578.000000</td>\n",
       "    </tr>\n",
       "    <tr>\n",
       "      <th>mean</th>\n",
       "      <td>517.781869</td>\n",
       "    </tr>\n",
       "    <tr>\n",
       "      <th>std</th>\n",
       "      <td>309.982480</td>\n",
       "    </tr>\n",
       "    <tr>\n",
       "      <th>min</th>\n",
       "      <td>2.000000</td>\n",
       "    </tr>\n",
       "    <tr>\n",
       "      <th>1%</th>\n",
       "      <td>33.000000</td>\n",
       "    </tr>\n",
       "    <tr>\n",
       "      <th>25%</th>\n",
       "      <td>249.000000</td>\n",
       "    </tr>\n",
       "    <tr>\n",
       "      <th>50%</th>\n",
       "      <td>468.000000</td>\n",
       "    </tr>\n",
       "    <tr>\n",
       "      <th>75%</th>\n",
       "      <td>780.000000</td>\n",
       "    </tr>\n",
       "    <tr>\n",
       "      <th>99%</th>\n",
       "      <td>1000.000000</td>\n",
       "    </tr>\n",
       "    <tr>\n",
       "      <th>max</th>\n",
       "      <td>1000.000000</td>\n",
       "    </tr>\n",
       "  </tbody>\n",
       "</table>\n",
       "</div>"
      ]
     },
     "metadata": {},
     "execution_count": 69
    }
   ],
   "metadata": {}
  },
  {
   "cell_type": "code",
   "execution_count": 70,
   "source": [
    "## when conclu is missing, last section is:\r\n",
    "pd.DataFrame({'': [len(i.split()) for i in conclu_except_texts]}).describe(\r\n",
    "    percentiles=[.01, .25, .5, .75, .99])"
   ],
   "outputs": [
    {
     "output_type": "execute_result",
     "data": {
      "text/plain": [
       "                   \n",
       "count  10061.000000\n",
       "mean     692.710566\n",
       "std      350.490648\n",
       "min        1.000000\n",
       "1%        12.000000\n",
       "25%      361.000000\n",
       "50%      877.000000\n",
       "75%     1000.000000\n",
       "99%     1000.000000\n",
       "max     1000.000000"
      ],
      "text/html": [
       "<div>\n",
       "<style scoped>\n",
       "    .dataframe tbody tr th:only-of-type {\n",
       "        vertical-align: middle;\n",
       "    }\n",
       "\n",
       "    .dataframe tbody tr th {\n",
       "        vertical-align: top;\n",
       "    }\n",
       "\n",
       "    .dataframe thead th {\n",
       "        text-align: right;\n",
       "    }\n",
       "</style>\n",
       "<table border=\"1\" class=\"dataframe\">\n",
       "  <thead>\n",
       "    <tr style=\"text-align: right;\">\n",
       "      <th></th>\n",
       "      <th></th>\n",
       "    </tr>\n",
       "  </thead>\n",
       "  <tbody>\n",
       "    <tr>\n",
       "      <th>count</th>\n",
       "      <td>10061.000000</td>\n",
       "    </tr>\n",
       "    <tr>\n",
       "      <th>mean</th>\n",
       "      <td>692.710566</td>\n",
       "    </tr>\n",
       "    <tr>\n",
       "      <th>std</th>\n",
       "      <td>350.490648</td>\n",
       "    </tr>\n",
       "    <tr>\n",
       "      <th>min</th>\n",
       "      <td>1.000000</td>\n",
       "    </tr>\n",
       "    <tr>\n",
       "      <th>1%</th>\n",
       "      <td>12.000000</td>\n",
       "    </tr>\n",
       "    <tr>\n",
       "      <th>25%</th>\n",
       "      <td>361.000000</td>\n",
       "    </tr>\n",
       "    <tr>\n",
       "      <th>50%</th>\n",
       "      <td>877.000000</td>\n",
       "    </tr>\n",
       "    <tr>\n",
       "      <th>75%</th>\n",
       "      <td>1000.000000</td>\n",
       "    </tr>\n",
       "    <tr>\n",
       "      <th>99%</th>\n",
       "      <td>1000.000000</td>\n",
       "    </tr>\n",
       "    <tr>\n",
       "      <th>max</th>\n",
       "      <td>1000.000000</td>\n",
       "    </tr>\n",
       "  </tbody>\n",
       "</table>\n",
       "</div>"
      ]
     },
     "metadata": {},
     "execution_count": 70
    }
   ],
   "metadata": {}
  },
  {
   "cell_type": "code",
   "execution_count": 46,
   "source": [
    "# all first sections\r\n",
    "emerald_df['sections'].apply(lambda x: len(' '.join(x[0]).split())).describe(\r\n",
    "    percentiles=[.01, .25, .5, .75, .99])"
   ],
   "outputs": [
    {
     "output_type": "execute_result",
     "data": {
      "text/plain": [
       "count    48024.000000\n",
       "mean       683.633662\n",
       "std        499.337976\n",
       "min          0.000000\n",
       "1%          17.000000\n",
       "25%        388.000000\n",
       "50%        603.000000\n",
       "75%        859.000000\n",
       "99%       2469.770000\n",
       "max      16668.000000\n",
       "Name: sections, dtype: float64"
      ]
     },
     "metadata": {},
     "execution_count": 46
    }
   ],
   "metadata": {}
  },
  {
   "cell_type": "code",
   "execution_count": 47,
   "source": [
    "# all last sections\r\n",
    "emerald_df['sections'].apply(lambda x: len(' '.join(x[-1]).split())).describe()"
   ],
   "outputs": [
    {
     "output_type": "execute_result",
     "data": {
      "text/plain": [
       "count    48024.000000\n",
       "mean       654.837810\n",
       "std        565.278487\n",
       "min          0.000000\n",
       "25%        278.000000\n",
       "50%        496.000000\n",
       "75%        868.000000\n",
       "max      16668.000000\n",
       "Name: sections, dtype: float64"
      ]
     },
     "metadata": {},
     "execution_count": 47
    }
   ],
   "metadata": {}
  },
  {
   "cell_type": "code",
   "execution_count": 71,
   "source": [
    "## extracted intro\r\n",
    "pd.DataFrame({'': [len(i.split()) for i in intr_text]}).describe(\r\n",
    "    percentiles=[.01, .25, .5, .75, .99])"
   ],
   "outputs": [
    {
     "output_type": "execute_result",
     "data": {
      "text/plain": [
       "                   \n",
       "count  48024.000000\n",
       "mean     696.012202\n",
       "std      456.711925\n",
       "min        2.000000\n",
       "1%        92.000000\n",
       "25%      416.000000\n",
       "50%      621.000000\n",
       "75%      876.000000\n",
       "99%     2363.000000\n",
       "max     9871.000000"
      ],
      "text/html": [
       "<div>\n",
       "<style scoped>\n",
       "    .dataframe tbody tr th:only-of-type {\n",
       "        vertical-align: middle;\n",
       "    }\n",
       "\n",
       "    .dataframe tbody tr th {\n",
       "        vertical-align: top;\n",
       "    }\n",
       "\n",
       "    .dataframe thead th {\n",
       "        text-align: right;\n",
       "    }\n",
       "</style>\n",
       "<table border=\"1\" class=\"dataframe\">\n",
       "  <thead>\n",
       "    <tr style=\"text-align: right;\">\n",
       "      <th></th>\n",
       "      <th></th>\n",
       "    </tr>\n",
       "  </thead>\n",
       "  <tbody>\n",
       "    <tr>\n",
       "      <th>count</th>\n",
       "      <td>48024.000000</td>\n",
       "    </tr>\n",
       "    <tr>\n",
       "      <th>mean</th>\n",
       "      <td>696.012202</td>\n",
       "    </tr>\n",
       "    <tr>\n",
       "      <th>std</th>\n",
       "      <td>456.711925</td>\n",
       "    </tr>\n",
       "    <tr>\n",
       "      <th>min</th>\n",
       "      <td>2.000000</td>\n",
       "    </tr>\n",
       "    <tr>\n",
       "      <th>1%</th>\n",
       "      <td>92.000000</td>\n",
       "    </tr>\n",
       "    <tr>\n",
       "      <th>25%</th>\n",
       "      <td>416.000000</td>\n",
       "    </tr>\n",
       "    <tr>\n",
       "      <th>50%</th>\n",
       "      <td>621.000000</td>\n",
       "    </tr>\n",
       "    <tr>\n",
       "      <th>75%</th>\n",
       "      <td>876.000000</td>\n",
       "    </tr>\n",
       "    <tr>\n",
       "      <th>99%</th>\n",
       "      <td>2363.000000</td>\n",
       "    </tr>\n",
       "    <tr>\n",
       "      <th>max</th>\n",
       "      <td>9871.000000</td>\n",
       "    </tr>\n",
       "  </tbody>\n",
       "</table>\n",
       "</div>"
      ]
     },
     "metadata": {},
     "execution_count": 71
    }
   ],
   "metadata": {}
  },
  {
   "cell_type": "code",
   "execution_count": 72,
   "source": [
    "## extracted conclu\r\n",
    "pd.DataFrame({'': [len(i.split()) for i in conclu_text]}).describe(\r\n",
    "    percentiles=[.01, .25, .5, .75, .99])"
   ],
   "outputs": [
    {
     "output_type": "execute_result",
     "data": {
      "text/plain": [
       "                   \n",
       "count  48024.000000\n",
       "mean     647.443258\n",
       "std      456.652343\n",
       "min        1.000000\n",
       "1%        61.000000\n",
       "25%      317.000000\n",
       "50%      552.000000\n",
       "75%      940.000000\n",
       "99%     2158.770000\n",
       "max     8338.000000"
      ],
      "text/html": [
       "<div>\n",
       "<style scoped>\n",
       "    .dataframe tbody tr th:only-of-type {\n",
       "        vertical-align: middle;\n",
       "    }\n",
       "\n",
       "    .dataframe tbody tr th {\n",
       "        vertical-align: top;\n",
       "    }\n",
       "\n",
       "    .dataframe thead th {\n",
       "        text-align: right;\n",
       "    }\n",
       "</style>\n",
       "<table border=\"1\" class=\"dataframe\">\n",
       "  <thead>\n",
       "    <tr style=\"text-align: right;\">\n",
       "      <th></th>\n",
       "      <th></th>\n",
       "    </tr>\n",
       "  </thead>\n",
       "  <tbody>\n",
       "    <tr>\n",
       "      <th>count</th>\n",
       "      <td>48024.000000</td>\n",
       "    </tr>\n",
       "    <tr>\n",
       "      <th>mean</th>\n",
       "      <td>647.443258</td>\n",
       "    </tr>\n",
       "    <tr>\n",
       "      <th>std</th>\n",
       "      <td>456.652343</td>\n",
       "    </tr>\n",
       "    <tr>\n",
       "      <th>min</th>\n",
       "      <td>1.000000</td>\n",
       "    </tr>\n",
       "    <tr>\n",
       "      <th>1%</th>\n",
       "      <td>61.000000</td>\n",
       "    </tr>\n",
       "    <tr>\n",
       "      <th>25%</th>\n",
       "      <td>317.000000</td>\n",
       "    </tr>\n",
       "    <tr>\n",
       "      <th>50%</th>\n",
       "      <td>552.000000</td>\n",
       "    </tr>\n",
       "    <tr>\n",
       "      <th>75%</th>\n",
       "      <td>940.000000</td>\n",
       "    </tr>\n",
       "    <tr>\n",
       "      <th>99%</th>\n",
       "      <td>2158.770000</td>\n",
       "    </tr>\n",
       "    <tr>\n",
       "      <th>max</th>\n",
       "      <td>8338.000000</td>\n",
       "    </tr>\n",
       "  </tbody>\n",
       "</table>\n",
       "</div>"
      ]
     },
     "metadata": {},
     "execution_count": 72
    }
   ],
   "metadata": {}
  },
  {
   "cell_type": "markdown",
   "source": [
    "# extract IC for all datasets"
   ],
   "metadata": {}
  },
  {
   "cell_type": "code",
   "execution_count": 73,
   "source": [
    "import os\r\n",
    "filenames = ['dev.jsonl',\r\n",
    "            'dev_rm_oa.jsonl',\r\n",
    "            'test.jsonl',\r\n",
    "            'test_oa.jsonl',\r\n",
    "            '',\r\n",
    "            'train_plus.jsonl',\r\n",
    "            'train_rm_oa.jsonl']\r\n",
    "\r\n",
    "for fname in filenames:\r\n",
    "    print(f\"reading file {fname}...\")\r\n",
    "    with open(os.path.join('/home/ubuntu/efs/emerald/', fname), 'r') as f:\r\n",
    "        lines = [l for l in f.readlines()]\r\n",
    "    df = lines2df(lines)\r\n",
    "\r\n",
    "    intr_text, intr_except_titles, _ = find_intro(df, include_title=True)\r\n",
    "    print(f\"  {len(intr_except_titles)}/{df.shape[0]} ({len(intr_except_titles)/df.shape[0]:.3f}) documents can not find a intro section, use 1st section instead.\")\r\n",
    "    \r\n",
    "    conclu_text, conclu_except_titles, _ = find_conclu(df, include_title=True)\r\n",
    "    print(f\"  {len(conclu_except_titles)}/{df.shape[0]} ({len(conclu_except_titles)/df.shape[0]:.3f}) documents can not find a conclu section, use last section instead.\")\r\n",
    "    \r\n",
    "    out_intro = open(os.path.join('/home/ubuntu/efs/emerald/data_ic/', fname.replace('.jsonl', '.intro')), 'w')\r\n",
    "    out_conclu = open(os.path.join('/home/ubuntu/efs/emerald/data_ic/', fname.replace('.jsonl', '.conclu')), 'w')\r\n",
    "    for i, c in zip(intr_text, conclu_text):\r\n",
    "        # remove \\n from ic\r\n",
    "        i, c = i.replace('\\n', ' '), c.replace('\\n', ' ')\r\n",
    "        out_intro.write(i + '\\n')\r\n",
    "        out_conclu.write(c + '\\n')\r\n",
    "    print(f\"done, {len(intr_text)} lines.\")"
   ],
   "outputs": [
    {
     "output_type": "stream",
     "name": "stdout",
     "text": [
      "reading file dev.jsonl...\n"
     ]
    },
    {
     "output_type": "display_data",
     "data": {
      "text/plain": [
       "  0%|          | 0/6000 [00:00<?, ?it/s]"
      ],
      "application/vnd.jupyter.widget-view+json": {
       "model_id": "8ee1681cbb1946d2a1b788aa1e4095e4",
       "version_major": 2,
       "version_minor": 0
      }
     },
     "metadata": {}
    },
    {
     "output_type": "stream",
     "name": "stdout",
     "text": [
      "  915/6000 (0.152) documents can not find a intro section, use 1st section instead.\n"
     ]
    },
    {
     "output_type": "display_data",
     "data": {
      "text/plain": [
       "  0%|          | 0/6000 [00:00<?, ?it/s]"
      ],
      "application/vnd.jupyter.widget-view+json": {
       "model_id": "4c6a75672b4a42c5a3345de4f3108547",
       "version_major": 2,
       "version_minor": 0
      }
     },
     "metadata": {}
    },
    {
     "output_type": "stream",
     "name": "stdout",
     "text": [
      "  1261/6000 (0.210) documents can not find a conclu section, use last section instead.\n",
      "done, 6000 lines.\n",
      "reading file dev_rm_oa.jsonl...\n"
     ]
    },
    {
     "output_type": "display_data",
     "data": {
      "text/plain": [
       "  0%|          | 0/6000 [00:00<?, ?it/s]"
      ],
      "application/vnd.jupyter.widget-view+json": {
       "model_id": "690829e709b549cea8312874a4cabf20",
       "version_major": 2,
       "version_minor": 0
      }
     },
     "metadata": {}
    },
    {
     "output_type": "stream",
     "name": "stdout",
     "text": [
      "  930/6000 (0.155) documents can not find a intro section, use 1st section instead.\n"
     ]
    },
    {
     "output_type": "display_data",
     "data": {
      "text/plain": [
       "  0%|          | 0/6000 [00:00<?, ?it/s]"
      ],
      "application/vnd.jupyter.widget-view+json": {
       "model_id": "7272f69c16114c8d849cb73b8e3d7c43",
       "version_major": 2,
       "version_minor": 0
      }
     },
     "metadata": {}
    },
    {
     "output_type": "stream",
     "name": "stdout",
     "text": [
      "  1269/6000 (0.211) documents can not find a conclu section, use last section instead.\n",
      "done, 6000 lines.\n",
      "reading file test.jsonl...\n"
     ]
    },
    {
     "output_type": "display_data",
     "data": {
      "text/plain": [
       "  0%|          | 0/6000 [00:00<?, ?it/s]"
      ],
      "application/vnd.jupyter.widget-view+json": {
       "model_id": "4a6686de312a49249a38a3818dd906da",
       "version_major": 2,
       "version_minor": 0
      }
     },
     "metadata": {}
    },
    {
     "output_type": "stream",
     "name": "stdout",
     "text": [
      "  955/6000 (0.159) documents can not find a intro section, use 1st section instead.\n"
     ]
    },
    {
     "output_type": "display_data",
     "data": {
      "text/plain": [
       "  0%|          | 0/6000 [00:00<?, ?it/s]"
      ],
      "application/vnd.jupyter.widget-view+json": {
       "model_id": "43db728d77d94e47a368c22c610beb03",
       "version_major": 2,
       "version_minor": 0
      }
     },
     "metadata": {}
    },
    {
     "output_type": "stream",
     "name": "stdout",
     "text": [
      "  1273/6000 (0.212) documents can not find a conclu section, use last section instead.\n",
      "done, 6000 lines.\n",
      "reading file test_oa.jsonl...\n"
     ]
    },
    {
     "output_type": "display_data",
     "data": {
      "text/plain": [
       "  0%|          | 0/2243 [00:00<?, ?it/s]"
      ],
      "application/vnd.jupyter.widget-view+json": {
       "model_id": "176774607fc64209ac6182fbf4c02e57",
       "version_major": 2,
       "version_minor": 0
      }
     },
     "metadata": {}
    },
    {
     "output_type": "stream",
     "name": "stdout",
     "text": [
      "  188/2243 (0.084) documents can not find a intro section, use 1st section instead.\n"
     ]
    },
    {
     "output_type": "display_data",
     "data": {
      "text/plain": [
       "  0%|          | 0/2243 [00:00<?, ?it/s]"
      ],
      "application/vnd.jupyter.widget-view+json": {
       "model_id": "9cf816c797e342d8a0a6a947318ac100",
       "version_major": 2,
       "version_minor": 0
      }
     },
     "metadata": {}
    },
    {
     "output_type": "stream",
     "name": "stdout",
     "text": [
      "  305/2243 (0.136) documents can not find a conclu section, use last section instead.\n",
      "done, 2243 lines.\n",
      "reading file train.jsonl...\n"
     ]
    },
    {
     "output_type": "display_data",
     "data": {
      "text/plain": [
       "  0%|          | 0/48024 [00:00<?, ?it/s]"
      ],
      "application/vnd.jupyter.widget-view+json": {
       "model_id": "6ec19f6648ef42109582088b08f0902a",
       "version_major": 2,
       "version_minor": 0
      }
     },
     "metadata": {}
    },
    {
     "output_type": "stream",
     "name": "stdout",
     "text": [
      "  7578/48024 (0.158) documents can not find a intro section, use 1st section instead.\n"
     ]
    },
    {
     "output_type": "display_data",
     "data": {
      "text/plain": [
       "  0%|          | 0/48024 [00:00<?, ?it/s]"
      ],
      "application/vnd.jupyter.widget-view+json": {
       "model_id": "c6650f9f53744fe392e45a90ff01f425",
       "version_major": 2,
       "version_minor": 0
      }
     },
     "metadata": {}
    },
    {
     "output_type": "stream",
     "name": "stdout",
     "text": [
      "  10061/48024 (0.209) documents can not find a conclu section, use last section instead.\n",
      "done, 48024 lines.\n",
      "reading file train_plus.jsonl...\n"
     ]
    },
    {
     "output_type": "display_data",
     "data": {
      "text/plain": [
       "  0%|          | 0/92733 [00:00<?, ?it/s]"
      ],
      "application/vnd.jupyter.widget-view+json": {
       "model_id": "b75b01acc5fc4de6bef2d5e58dc6fa4b",
       "version_major": 2,
       "version_minor": 0
      }
     },
     "metadata": {}
    },
    {
     "output_type": "stream",
     "name": "stdout",
     "text": [
      "  12319/92733 (0.133) documents can not find a intro section, use 1st section instead.\n"
     ]
    },
    {
     "output_type": "display_data",
     "data": {
      "text/plain": [
       "  0%|          | 0/92733 [00:00<?, ?it/s]"
      ],
      "application/vnd.jupyter.widget-view+json": {
       "model_id": "f13140fe94a943eda4983eb50c0e46de",
       "version_major": 2,
       "version_minor": 0
      }
     },
     "metadata": {}
    },
    {
     "output_type": "stream",
     "name": "stdout",
     "text": [
      "  16201/92733 (0.175) documents can not find a conclu section, use last section instead.\n",
      "done, 92733 lines.\n",
      "reading file train_rm_oa.jsonl...\n"
     ]
    },
    {
     "output_type": "display_data",
     "data": {
      "text/plain": [
       "  0%|          | 0/46289 [00:01<?, ?it/s]"
      ],
      "application/vnd.jupyter.widget-view+json": {
       "model_id": "b25295a384d34b0f9da9cbc853e87f76",
       "version_major": 2,
       "version_minor": 0
      }
     },
     "metadata": {}
    },
    {
     "output_type": "stream",
     "name": "stdout",
     "text": [
      "  7429/46289 (0.160) documents can not find a intro section, use 1st section instead.\n"
     ]
    },
    {
     "output_type": "display_data",
     "data": {
      "text/plain": [
       "  0%|          | 0/46289 [00:00<?, ?it/s]"
      ],
      "application/vnd.jupyter.widget-view+json": {
       "model_id": "b87fe38f5dd34ab38fe98666de0dfa9b",
       "version_major": 2,
       "version_minor": 0
      }
     },
     "metadata": {}
    },
    {
     "output_type": "stream",
     "name": "stdout",
     "text": [
      "  9831/46289 (0.212) documents can not find a conclu section, use last section instead.\n",
      "done, 46289 lines.\n"
     ]
    }
   ],
   "metadata": {}
  },
  {
   "cell_type": "code",
   "execution_count": null,
   "source": [],
   "outputs": [],
   "metadata": {}
  },
  {
   "cell_type": "code",
   "execution_count": null,
   "source": [],
   "outputs": [],
   "metadata": {}
  }
 ],
 "metadata": {
  "kernelspec": {
   "display_name": "Python 3",
   "language": "python",
   "name": "python3"
  },
  "language_info": {
   "codemirror_mode": {
    "name": "ipython",
    "version": 3
   },
   "file_extension": ".py",
   "mimetype": "text/x-python",
   "name": "python",
   "nbconvert_exporter": "python",
   "pygments_lexer": "ipython3",
   "version": "3.6.12"
  }
 },
 "nbformat": 4,
 "nbformat_minor": 4
}