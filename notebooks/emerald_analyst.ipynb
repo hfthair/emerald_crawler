{
 "cells": [
  {
   "cell_type": "code",
   "execution_count": 5,
   "metadata": {},
   "outputs": [],
   "source": [
    "import json\n",
    "import pandas as pd\n",
    "\n",
    "f = open('/mnt/efs/emerald/emerald.jsonl', encoding='utf8')\n",
    "d = {}\n",
    "\n",
    "for line in f:\n",
    "    j = json.loads(line)\n",
    "    d[j['journal']] = d.get(j['journal'], 0) + 1"
   ]
  },
  {
   "cell_type": "code",
   "execution_count": 6,
   "metadata": {},
   "outputs": [],
   "source": [
    "k, v = zip(*(d.items()))"
   ]
  },
  {
   "cell_type": "code",
   "execution_count": 7,
   "metadata": {},
   "outputs": [],
   "source": [
    "df = pd.DataFrame({'journal': k, 'count': v})"
   ]
  },
  {
   "cell_type": "code",
   "execution_count": 8,
   "metadata": {},
   "outputs": [
    {
     "data": {
      "text/html": [
       "<div>\n",
       "<style scoped>\n",
       "    .dataframe tbody tr th:only-of-type {\n",
       "        vertical-align: middle;\n",
       "    }\n",
       "\n",
       "    .dataframe tbody tr th {\n",
       "        vertical-align: top;\n",
       "    }\n",
       "\n",
       "    .dataframe thead th {\n",
       "        text-align: right;\n",
       "    }\n",
       "</style>\n",
       "<table border=\"1\" class=\"dataframe\">\n",
       "  <thead>\n",
       "    <tr style=\"text-align: right;\">\n",
       "      <th></th>\n",
       "      <th>journal</th>\n",
       "      <th>count</th>\n",
       "    </tr>\n",
       "  </thead>\n",
       "  <tbody>\n",
       "    <tr>\n",
       "      <th>0</th>\n",
       "      <td>International Journal of Sociology and Social ...</td>\n",
       "      <td>704</td>\n",
       "    </tr>\n",
       "    <tr>\n",
       "      <th>1</th>\n",
       "      <td>International Journal of Sustainability in Hig...</td>\n",
       "      <td>763</td>\n",
       "    </tr>\n",
       "    <tr>\n",
       "      <th>2</th>\n",
       "      <td>International Journal of Wine Business Research</td>\n",
       "      <td>315</td>\n",
       "    </tr>\n",
       "    <tr>\n",
       "      <th>3</th>\n",
       "      <td>International Journal of Wine Marketing</td>\n",
       "      <td>16</td>\n",
       "    </tr>\n",
       "    <tr>\n",
       "      <th>4</th>\n",
       "      <td>International Journal on Grey Literature</td>\n",
       "      <td>23</td>\n",
       "    </tr>\n",
       "  </tbody>\n",
       "</table>\n",
       "</div>"
      ],
      "text/plain": [
       "                                             journal  count\n",
       "0  International Journal of Sociology and Social ...    704\n",
       "1  International Journal of Sustainability in Hig...    763\n",
       "2    International Journal of Wine Business Research    315\n",
       "3            International Journal of Wine Marketing     16\n",
       "4           International Journal on Grey Literature     23"
      ]
     },
     "execution_count": 8,
     "metadata": {},
     "output_type": "execute_result"
    }
   ],
   "source": [
    "df.head()"
   ]
  },
  {
   "cell_type": "code",
   "execution_count": 10,
   "metadata": {},
   "outputs": [],
   "source": [
    "dfem = pd.read_json('/mnt/efs/emerald/emerald.jsonl', lines=True)"
   ]
  },
  {
   "cell_type": "code",
   "execution_count": 11,
   "metadata": {},
   "outputs": [
    {
     "data": {
      "text/html": [
       "<div>\n",
       "<style scoped>\n",
       "    .dataframe tbody tr th:only-of-type {\n",
       "        vertical-align: middle;\n",
       "    }\n",
       "\n",
       "    .dataframe tbody tr th {\n",
       "        vertical-align: top;\n",
       "    }\n",
       "\n",
       "    .dataframe thead th {\n",
       "        text-align: right;\n",
       "    }\n",
       "</style>\n",
       "<table border=\"1\" class=\"dataframe\">\n",
       "  <thead>\n",
       "    <tr style=\"text-align: right;\">\n",
       "      <th></th>\n",
       "      <th>title</th>\n",
       "      <th>keywords</th>\n",
       "      <th>section_names</th>\n",
       "      <th>sections</th>\n",
       "      <th>abstract_sections_names</th>\n",
       "      <th>abstract_sections</th>\n",
       "      <th>references</th>\n",
       "      <th>appendix</th>\n",
       "      <th>journal</th>\n",
       "      <th>id</th>\n",
       "    </tr>\n",
       "  </thead>\n",
       "  <tbody>\n",
       "    <tr>\n",
       "      <th>0</th>\n",
       "      <td>From the informal economy to the meaning of in...</td>\n",
       "      <td>[Mixed embeddedness, Social theory, Firm, Info...</td>\n",
       "      <td>[Introduction, Origins of informality, Nature ...</td>\n",
       "      <td>[[Mainstream entrepreneurship and management s...</td>\n",
       "      <td>[Purpose, Design/methodology/approach, Finding...</td>\n",
       "      <td>[[The purpose of this paper is to assess ways ...</td>\n",
       "      <td>[Bailey, T. (1987), Immigrant and Native Worke...</td>\n",
       "      <td></td>\n",
       "      <td>International Journal of Sociology and Social ...</td>\n",
       "      <td>4xvLKhhgYCeK8RioEzcBAi</td>\n",
       "    </tr>\n",
       "    <tr>\n",
       "      <th>1</th>\n",
       "      <td>How close are formal and informal work?</td>\n",
       "      <td>[Informal economy, Employment conditions, Crim...</td>\n",
       "      <td>[Introduction, Patterns of work in the informa...</td>\n",
       "      <td>[[The most accepted definition of the informal...</td>\n",
       "      <td>[Purpose, Design/methodology/approach, Finding...</td>\n",
       "      <td>[[Recent changes in the UK to the regulation a...</td>\n",
       "      <td>[Barbour, A. and Lilanes, M. (2013), Supportin...</td>\n",
       "      <td></td>\n",
       "      <td>International Journal of Sociology and Social ...</td>\n",
       "      <td>6huzdhzH4iPydD4PC6c3vR</td>\n",
       "    </tr>\n",
       "    <tr>\n",
       "      <th>2</th>\n",
       "      <td>Informal employment in the poor European perip...</td>\n",
       "      <td>[Poverty, Welfare state, Informal employment, ...</td>\n",
       "      <td>[Introduction, State of the art, The theoretic...</td>\n",
       "      <td>[[Informal employment constitutes a relevant a...</td>\n",
       "      <td>[Purpose, Design/methodology/approach, Finding...</td>\n",
       "      <td>[[During the transition from socialist to post...</td>\n",
       "      <td>[Belev, B. (2003), \"The informal economy in th...</td>\n",
       "      <td>Appendix\\nTable AI</td>\n",
       "      <td>International Journal of Sociology and Social ...</td>\n",
       "      <td>Ki8koXscjkA8s5tWBY4vYE</td>\n",
       "    </tr>\n",
       "    <tr>\n",
       "      <th>3</th>\n",
       "      <td>Practices of subjectivity: the informal econom...</td>\n",
       "      <td>[Neoliberalism, Resistance, Informal economy, ...</td>\n",
       "      <td>[Resistance and informality, Public order and ...</td>\n",
       "      <td>[[The aim of this paper is to investigate the ...</td>\n",
       "      <td>[Purpose, Design/methodology/approach, Finding...</td>\n",
       "      <td>[[The purpose of this paper is to explore the ...</td>\n",
       "      <td>[Agustin, L.M. (2007), Sex at the Margins. Mig...</td>\n",
       "      <td></td>\n",
       "      <td>International Journal of Sociology and Social ...</td>\n",
       "      <td>YXsbWX3m6nMHLGrATdFQib</td>\n",
       "    </tr>\n",
       "    <tr>\n",
       "      <th>4</th>\n",
       "      <td>Formality and informality in an Indian urban w...</td>\n",
       "      <td>[India, Informal economy, Business, Waste, Lab...</td>\n",
       "      <td>[Introduction: global and local in India's inf...</td>\n",
       "      <td>[[This special issue links the global with the...</td>\n",
       "      <td>[Purpose, Design/methodology/approach, Finding...</td>\n",
       "      <td>[[The purpose of this paper is to contribute o...</td>\n",
       "      <td>[Basile, E. (2013), Capitalist Development in ...</td>\n",
       "      <td></td>\n",
       "      <td>International Journal of Sociology and Social ...</td>\n",
       "      <td>JzK2iibwauAZBYzL8vMAYW</td>\n",
       "    </tr>\n",
       "  </tbody>\n",
       "</table>\n",
       "</div>"
      ],
      "text/plain": [
       "                                               title  \\\n",
       "0  From the informal economy to the meaning of in...   \n",
       "1            How close are formal and informal work?   \n",
       "2  Informal employment in the poor European perip...   \n",
       "3  Practices of subjectivity: the informal econom...   \n",
       "4  Formality and informality in an Indian urban w...   \n",
       "\n",
       "                                            keywords  \\\n",
       "0  [Mixed embeddedness, Social theory, Firm, Info...   \n",
       "1  [Informal economy, Employment conditions, Crim...   \n",
       "2  [Poverty, Welfare state, Informal employment, ...   \n",
       "3  [Neoliberalism, Resistance, Informal economy, ...   \n",
       "4  [India, Informal economy, Business, Waste, Lab...   \n",
       "\n",
       "                                       section_names  \\\n",
       "0  [Introduction, Origins of informality, Nature ...   \n",
       "1  [Introduction, Patterns of work in the informa...   \n",
       "2  [Introduction, State of the art, The theoretic...   \n",
       "3  [Resistance and informality, Public order and ...   \n",
       "4  [Introduction: global and local in India's inf...   \n",
       "\n",
       "                                            sections  \\\n",
       "0  [[Mainstream entrepreneurship and management s...   \n",
       "1  [[The most accepted definition of the informal...   \n",
       "2  [[Informal employment constitutes a relevant a...   \n",
       "3  [[The aim of this paper is to investigate the ...   \n",
       "4  [[This special issue links the global with the...   \n",
       "\n",
       "                             abstract_sections_names  \\\n",
       "0  [Purpose, Design/methodology/approach, Finding...   \n",
       "1  [Purpose, Design/methodology/approach, Finding...   \n",
       "2  [Purpose, Design/methodology/approach, Finding...   \n",
       "3  [Purpose, Design/methodology/approach, Finding...   \n",
       "4  [Purpose, Design/methodology/approach, Finding...   \n",
       "\n",
       "                                   abstract_sections  \\\n",
       "0  [[The purpose of this paper is to assess ways ...   \n",
       "1  [[Recent changes in the UK to the regulation a...   \n",
       "2  [[During the transition from socialist to post...   \n",
       "3  [[The purpose of this paper is to explore the ...   \n",
       "4  [[The purpose of this paper is to contribute o...   \n",
       "\n",
       "                                          references            appendix  \\\n",
       "0  [Bailey, T. (1987), Immigrant and Native Worke...                       \n",
       "1  [Barbour, A. and Lilanes, M. (2013), Supportin...                       \n",
       "2  [Belev, B. (2003), \"The informal economy in th...  Appendix\\nTable AI   \n",
       "3  [Agustin, L.M. (2007), Sex at the Margins. Mig...                       \n",
       "4  [Basile, E. (2013), Capitalist Development in ...                       \n",
       "\n",
       "                                             journal                      id  \n",
       "0  International Journal of Sociology and Social ...  4xvLKhhgYCeK8RioEzcBAi  \n",
       "1  International Journal of Sociology and Social ...  6huzdhzH4iPydD4PC6c3vR  \n",
       "2  International Journal of Sociology and Social ...  Ki8koXscjkA8s5tWBY4vYE  \n",
       "3  International Journal of Sociology and Social ...  YXsbWX3m6nMHLGrATdFQib  \n",
       "4  International Journal of Sociology and Social ...  JzK2iibwauAZBYzL8vMAYW  "
      ]
     },
     "execution_count": 11,
     "metadata": {},
     "output_type": "execute_result"
    }
   ],
   "source": [
    "dfem.head()"
   ]
  },
  {
   "cell_type": "code",
   "execution_count": 16,
   "metadata": {},
   "outputs": [],
   "source": [
    "dfem['len_abstract_sections'] = dfem['abstract_sections'].apply(lambda x : len(' '.join(x[0])))"
   ]
  },
  {
   "cell_type": "code",
   "execution_count": 28,
   "metadata": {},
   "outputs": [
    {
     "ename": "TypeError",
     "evalue": "'>' not supported between instances of 'list' and 'int'",
     "output_type": "error",
     "traceback": [
      "\u001b[0;31m---------------------------------------------------------------------------\u001b[0m",
      "\u001b[0;31mTypeError\u001b[0m                                 Traceback (most recent call last)",
      "\u001b[0;32m<ipython-input-28-85a7368fd0de>\u001b[0m in \u001b[0;36m<module>\u001b[0;34m\u001b[0m\n\u001b[1;32m      1\u001b[0m \u001b[0ma\u001b[0m \u001b[0;34m=\u001b[0m \u001b[0mlist\u001b[0m\u001b[0;34m(\u001b[0m\u001b[0mdfem\u001b[0m\u001b[0;34m[\u001b[0m\u001b[0;34m'len_abstract_sections'\u001b[0m\u001b[0;34m]\u001b[0m \u001b[0;34m)\u001b[0m\u001b[0;34m\u001b[0m\u001b[0;34m\u001b[0m\u001b[0m\n\u001b[0;32m----> 2\u001b[0;31m \u001b[0ma\u001b[0m \u001b[0;34m=\u001b[0m \u001b[0ma\u001b[0m \u001b[0;34m>\u001b[0m \u001b[0;36m1000\u001b[0m\u001b[0;34m\u001b[0m\u001b[0;34m\u001b[0m\u001b[0m\n\u001b[0m\u001b[1;32m      3\u001b[0m \u001b[0;31m# len(a)\u001b[0m\u001b[0;34m\u001b[0m\u001b[0;34m\u001b[0m\u001b[0;34m\u001b[0m\u001b[0m\n",
      "\u001b[0;31mTypeError\u001b[0m: '>' not supported between instances of 'list' and 'int'"
     ]
    }
   ],
   "source": [
    "a = list(dfem['len_abstract_sections'] )\n"
   ]
  },
  {
   "cell_type": "code",
   "execution_count": 7,
   "metadata": {},
   "outputs": [
    {
     "data": {
      "text/html": [
       "<div>\n",
       "<style scoped>\n",
       "    .dataframe tbody tr th:only-of-type {\n",
       "        vertical-align: middle;\n",
       "    }\n",
       "\n",
       "    .dataframe tbody tr th {\n",
       "        vertical-align: top;\n",
       "    }\n",
       "\n",
       "    .dataframe thead th {\n",
       "        text-align: right;\n",
       "    }\n",
       "</style>\n",
       "<table border=\"1\" class=\"dataframe\">\n",
       "  <thead>\n",
       "    <tr style=\"text-align: right;\">\n",
       "      <th></th>\n",
       "      <th>count</th>\n",
       "    </tr>\n",
       "  </thead>\n",
       "  <tbody>\n",
       "    <tr>\n",
       "      <th>count</th>\n",
       "      <td>218.000000</td>\n",
       "    </tr>\n",
       "    <tr>\n",
       "      <th>mean</th>\n",
       "      <td>379.825688</td>\n",
       "    </tr>\n",
       "    <tr>\n",
       "      <th>std</th>\n",
       "      <td>501.460656</td>\n",
       "    </tr>\n",
       "    <tr>\n",
       "      <th>min</th>\n",
       "      <td>1.000000</td>\n",
       "    </tr>\n",
       "    <tr>\n",
       "      <th>25%</th>\n",
       "      <td>14.000000</td>\n",
       "    </tr>\n",
       "    <tr>\n",
       "      <th>50%</th>\n",
       "      <td>97.000000</td>\n",
       "    </tr>\n",
       "    <tr>\n",
       "      <th>75%</th>\n",
       "      <td>687.250000</td>\n",
       "    </tr>\n",
       "    <tr>\n",
       "      <th>max</th>\n",
       "      <td>2629.000000</td>\n",
       "    </tr>\n",
       "  </tbody>\n",
       "</table>\n",
       "</div>"
      ],
      "text/plain": [
       "             count\n",
       "count   218.000000\n",
       "mean    379.825688\n",
       "std     501.460656\n",
       "min       1.000000\n",
       "25%      14.000000\n",
       "50%      97.000000\n",
       "75%     687.250000\n",
       "max    2629.000000"
      ]
     },
     "execution_count": 7,
     "metadata": {},
     "output_type": "execute_result"
    }
   ],
   "source": [
    "df.describe()"
   ]
  },
  {
   "cell_type": "code",
   "execution_count": 9,
   "metadata": {},
   "outputs": [],
   "source": [
    "journal_count=dict({'journal': k, 'count': v})"
   ]
  },
  {
   "cell_type": "code",
   "execution_count": 18,
   "metadata": {},
   "outputs": [
    {
     "name": "stdout",
     "output_type": "stream",
     "text": [
      "82802\n"
     ]
    }
   ],
   "source": [
    "print(sum(d.values()))"
   ]
  },
  {
   "cell_type": "code",
   "execution_count": 16,
   "metadata": {},
   "outputs": [
    {
     "name": "stdout",
     "output_type": "stream",
     "text": [
      "British Food Journal 2629\n",
      "International Journal of Contemporary Hospitality Management 1976\n",
      "International Journal of Social Economics 1898\n",
      "Industrial Management & Data Systems 1808\n",
      "International Journal of Operations & Production Management 1778\n",
      "International Journal of Quality & Reliability Management 1613\n",
      "Journal of Management Development 1587\n",
      "Journal of Business & Industrial Marketing 1418\n",
      "Human Resource Management International Digest 1366\n",
      "International Journal of Retail & Distribution Management 1351\n",
      "Journal of Knowledge Management 1348\n",
      "Education + Training 1319\n",
      "International Journal of Educational Management 1316\n",
      "International Journal of Health Care Quality Assurance 1271\n",
      "Benchmarking: An International Journal 1265\n",
      "European Journal of Marketing 1258\n",
      "International Journal of Manpower 1229\n",
      "Journal of Consumer Marketing 1207\n",
      "Accounting, Auditing & Accountability Journal 1199\n",
      "Journal of Organizational Change Management 1190\n",
      "Journal of Managerial Psychology 1177\n",
      "Journal of Services Marketing 1168\n",
      "Journal of Product & Brand Management 1156\n",
      "Industrial and Commercial Training 1133\n",
      "Facilities 1119\n",
      "Journal of Economic Studies 1097\n",
      "Employee Relations 1087\n",
      "Business Process Management Journal 1054\n",
      "International Journal of Physical Distribution & Logistics Management 1048\n",
      "Development and Learning in Organizations 1027\n",
      "International Journal of Public Sector Management 1022\n",
      "Internet Research 1011\n",
      "Career Development International 966\n",
      "International Journal of Bank Marketing 947\n",
      "Engineering, Construction and Architectural Management 943\n",
      "Journal of Manufacturing Technology Management 932\n",
      "Journal of Documentation 926\n",
      "Corporate Governance 910\n",
      "Journal of Educational Administration 908\n",
      "Disaster Prevention and Management 899\n",
      "International Journal of Productivity and Performance Management 879\n",
      "European Business Review 872\n",
      "International Marketing Review 863\n",
      "Journal of Workplace Learning 832\n",
      "Journal of Health Organization and Management 828\n",
      "Leadership & Organization Development Journal 826\n",
      "Health Education 816\n",
      "Journal of Small Business and Enterprise Development 812\n",
      "Journal of Business Strategy 765\n",
      "International Journal of Sustainability in Higher Education 763\n",
      "Journal of Intellectual Capital 739\n",
      "International Journal of Entrepreneurial Behavior & Research 738\n",
      "International Journal of Sociology and Social Policy 704\n",
      "Journal of European Industrial Training 702\n",
      "Journal of Property Investment & Finance 688\n",
      "Information Technology & People 685\n",
      "Asia Pacific Journal of Marketing and Logistics 669\n",
      "Journal of Enterprise Information Management 668\n",
      "Journal of Quality in Maintenance Engineering 664\n",
      "Foresight 660\n",
      "Interlending & Document Supply 630\n",
      "Corporate Communications: An International Journal 629\n",
      "Journal of Fashion Marketing and Management 603\n",
      "Information Management & Computer Security 578\n",
      "European Journal of Innovation Management 567\n",
      "International Journal of Law and Management 504\n",
      "Journal of Risk Finance 496\n",
      "Equality, Diversity and Inclusion 491\n",
      "Campus-Wide Information Systems 465\n",
      "Collection Building 448\n",
      "Aslib Proceedings 443\n",
      "Gender in Management 427\n",
      "Integrated Manufacturing Systems 404\n",
      "Clinical Governance: An International Journal 396\n",
      "Journal of Service Management 387\n",
      "Journal of Management History 380\n",
      "International Journal of Managerial Finance 377\n",
      "International Journal of Service Industry Management 376\n",
      "European Journal of Training and Development 372\n",
      "International Journal of Wine Business Research 315\n",
      "Journal of Derivatives and Quantitative Studies: 선물연구 279\n",
      "Journal of Management in Medicine 277\n",
      "Environmental Management and Health 272\n",
      "Business Strategy Series 271\n",
      "Aslib Journal of Information Management 259\n",
      "Cross Cultural Management: An International Journal 255\n",
      "Journal of Service Theory and Practice 204\n",
      "Equal Opportunities International 198\n",
      "Information and Learning Sciences 197\n",
      "Information and Computer Security 193\n",
      "English Teaching: Practice & Critique 159\n",
      "Health Manpower Management 157\n",
      "Journal of Technology Management in China 155\n",
      "Handbook of Business Strategy 155\n",
      "Journal of Health Research 150\n",
      "International Journal of Information and Learning Technology 145\n",
      "Cross Cultural & Strategic Management 139\n",
      "Journal of Management History (Archive) 132\n",
      "International Journal of Building Pathology and Adaptation 131\n",
      "International Journal of Health Governance 127\n",
      "Global Knowledge, Memory and Communication 123\n",
      "Journal of Property Valuation and Investment 117\n",
      "International Journal of Climate Change Strategies and Management 117\n",
      "Digital Library Perspectives 116\n",
      "Balance Sheet 115\n",
      "British Journal of Clinical Governance 113\n",
      "Digital Policy, Regulation and Governance 105\n",
      "Journal of Tourism Futures 105\n",
      "Maritime Business Review 98\n",
      "Executive Development 96\n",
      "Asia Pacific Journal of Innovation and Entrepreneurship 92\n",
      "Benchmarking for Quality Management & Technology 92\n",
      "Information Discovery and Delivery 92\n",
      "Empowerment in Organizations 88\n",
      "IMP Journal 88\n",
      "International Journal of Crowd Science 85\n",
      "Data Technologies and Applications 84\n",
      "Journal of Property Finance 82\n",
      "Journal of Marketing Practice: Applied Marketing Science 77\n",
      "Journal of Professional Capital and Community 77\n",
      "Asian Association of Open Universities Journal 76\n",
      "ISRA International Journal of Islamic Finance 76\n",
      "European Journal of Management and Business Economics 75\n",
      "International Journal of Comparative Education and Development 74\n",
      "RAUSP Management Journal 72\n",
      "Revista de Gestão 67\n",
      "Employee Counselling Today 64\n",
      "Journal of Work-Applied Management 64\n",
      "Innovation & Management Review 64\n",
      "Journal of Economics, Finance and Administrative Science 59\n",
      "Asian Journal of Accounting Research 59\n",
      "China Political Economy 55\n",
      "PSU Research Review 55\n",
      "Spanish Journal of Marketing - ESIC 53\n",
      "Asian Libraries 52\n",
      "Collection and Curation 52\n",
      "International Journal of Agile Management Systems 45\n",
      "Journal of Asian Business and Economic Studies 44\n",
      "Journal of Research in Innovative Teaching & Learning 44\n",
      "Review of Economics and Political Science 43\n",
      "Journal of Economics and Development 39\n",
      "Public Administration and Policy: An Asia-Pacific Journal 38\n",
      "International Journal of Career Management 37\n",
      "Irish Journal of Occupational Therapy 33\n",
      "Journal of Defense Analytics and Logistics 33\n",
      "International Journal of Quality Science 33\n",
      "Journal of Capital Markets Studies 29\n",
      "Business Process Re-engineering & Management Journal 27\n",
      "Higher Education Evaluation and Development 25\n",
      "Journal of Humanities and Applied Social Sciences 24\n",
      "International Journal on Grey Literature 23\n",
      "International Hospitality Review 23\n",
      "Journal of Participation and Employee Ownership 22\n",
      "Journal of Intelligent and Connected Vehicles 22\n",
      "Journal of Tourism Analysis: Revista de Análisis Turístico 22\n",
      "Applied Economic Analysis 20\n",
      "Arab Journal of Mathematical Sciences 17\n",
      "Journal of Industry - University Collaboration 17\n",
      "New England Journal of Entrepreneurship 17\n",
      "International Journal of Wine Marketing 16\n",
      "Rajagiri Management Journal 16\n",
      " 14\n",
      "Applied Computing and Informatics 14\n",
      "Modern Supply Chain Research and Applications 14\n",
      "Islamic Economic Studies 13\n",
      "Marine Economics and Management 13\n",
      "International Trade, Politics and Development 11\n",
      "Journal of Centrum Cathedra 11\n",
      "Managing Service Quality: An International Journal 10\n",
      "Drugs and Alcohol Today 9\n",
      "Mental Illness 9\n",
      "Journal of Public Mental Health 8\n",
      "Forestry Economics Review 8\n",
      "Library Management 7\n",
      "Organization Management Journal  7\n",
      "Qualitative Research Journal 7\n",
      "Ecofeminism and Climate Change  6\n",
      "Librarian Career Development 6\n",
      "Records Management Journal 5\n",
      "Tourism Critiques 5\n",
      "Personnel Review 4\n",
      "Qualitative Market Research 4\n",
      "Leadership in Health Services 3\n",
      "Management Decision 3\n",
      "Participation and Empowerment: An International Journal 3\n",
      "Reference Services Review 3\n",
      "Smart and Resilient Transportation 3\n",
      "International Journal of Excellence in Government 2\n",
      "Library Review 2\n",
      "Logistics Information Management 2\n",
      "Managerial Finance 2\n",
      "On the Horizon 2\n",
      "Policing: An International Journal 2\n",
      "Program: electronic library and information systems 2\n",
      "Team Performance Management 2\n",
      "Work Study 2\n",
      "critical perspectives on international business 2\n",
      "info 2\n",
      "Journal of Place Management and Development 1\n",
      "Clinical Performance and Quality Healthcare 1\n",
      "Library Hi Tech 1\n",
      "Library Hi Tech News 1\n",
      "Management Research News 1\n",
      "Management of Environmental Quality 1\n",
      "Managerial Auditing Journal 1\n",
      "Marketing Intelligence & Planning 1\n",
      "Mental Health Review Journal 1\n",
      "New Library World 1\n",
      "OCLC Systems & Services: International digital library perspectives 1\n",
      "Property Management 1\n",
      "Social Studies Research and Practice 1\n",
      "Supply Chain Management 1\n",
      "Sustainability Accounting, Management and Policy Journal 1\n",
      "The Bottom Line 1\n",
      "The TQM Journal 1\n",
      "Training for Quality 1\n",
      "VINE Journal of Information and Knowledge Management Systems 1\n",
      "International Journal of Pervasive Computing and Communications 1\n"
     ]
    }
   ],
   "source": [
    "for k,v in sorted(d.items(), key=lambda k: int(k[1]), reverse=True):\n",
    "    print(k, v)"
   ]
  },
  {
   "cell_type": "markdown",
   "metadata": {},
   "source": [
    "### An example"
   ]
  },
  {
   "cell_type": "code",
   "execution_count": 22,
   "metadata": {},
   "outputs": [],
   "source": [
    "ex = json.loads(line)"
   ]
  },
  {
   "cell_type": "code",
   "execution_count": 23,
   "metadata": {},
   "outputs": [
    {
     "name": "stdout",
     "output_type": "stream",
     "text": [
      "dict_keys(['title', 'keywords', 'section_names', 'sections', 'abstract_sections_names', 'abstract_sections', 'references', 'appendix', 'journal', 'id'])\n"
     ]
    }
   ],
   "source": [
    "print(ex.keys())"
   ]
  },
  {
   "cell_type": "code",
   "execution_count": 24,
   "metadata": {},
   "outputs": [
    {
     "data": {
      "text/plain": [
       "['Purpose',\n",
       " 'Design/methodology/approach',\n",
       " 'Findings',\n",
       " 'Social implications',\n",
       " 'Originality/value']"
      ]
     },
     "execution_count": 24,
     "metadata": {},
     "output_type": "execute_result"
    }
   ],
   "source": [
    "ex['abstract_sections_names']"
   ]
  },
  {
   "cell_type": "code",
   "execution_count": 25,
   "metadata": {},
   "outputs": [
    {
     "data": {
      "text/plain": [
       "[['The purpose of this paper is to compare the impact of two social investment strategies (labour activation and governance coordination) targeted to social assistance clients within three different welfare-system coordination cases, with focus on social and economic inclusion.'],\n",
       " ['The authors focus on the impact of reform at micro (individually experienced impact), meso (impact across settings) and macro (socio-structural impact) levels.'],\n",
       " ['While social investment reform has given some clients new opportunities, in no study case were clients fully able to use the incentive-driven strategies. Reforms have led to a \"Matthew effect\": the better resourced reap the largest benefit from new services on offer while the less resourced have their marginal socioeconomic position reinforced. Clients may internalise their relative activation success. Intimate connections between macro- and micro-impacts may have heightened the sense of social and economic exclusion, stigma and shame experienced by those who are most vulnerable.'],\n",
       " ['Social investment reform (labour activation) may not be a model that reduces social and economic exclusion and it may, instead, reify socioeconomic marginalisation, enhancing sense of stigma and shame and reducing self-efficacy.'],\n",
       " ['Scholars have assessed social investment according to its economic performance, but there has been a lack of research considering impact of reform on socioeconomic inclusion.']]"
      ]
     },
     "execution_count": 25,
     "metadata": {},
     "output_type": "execute_result"
    }
   ],
   "source": [
    "ex['abstract_sections']"
   ]
  },
  {
   "cell_type": "code",
   "execution_count": 30,
   "metadata": {},
   "outputs": [
    {
     "data": {
      "text/plain": [
       "[['Since the early 2000s, Europe\\'s welfare states have largely followed a social investment approach (Bonoli and Natali, 2012; Cantillon and Vandenbroucke, 2014; Morel et al., 2012). In contrast to \"passive\" or \"reparative\" social protection schemes, the approach intends to act as a \"trampoline\" rather than a \"safety net\" for social welfare clients (Jenson, 2012) and aims to be preventative, \"integrative\", \"empowering\" and \"preparative\" (Hemerijck, 2014; Morel et al., 2012). Its reforms target the individual level in order to achieve the projected macro-level effect of economic growth and social inclusion. To evaluate the success of these reforms we must therefore consider both micro and macro-level outcomes. This paper is a contribution to our understanding of the evolution of social investment approaches. We provide evidence to the growing rhetoric surrounding social investment as a model that reduces social exclusion.',\n",
       "  'Over the past decade, two strategies have been key to the EU\\'s social investment aim of economic integration and social inclusion of those most vulnerable within the welfare system. First, as a \"prime example for social investment\" (European Commission, 2013, p.10) governance coordination reform has been established to enable more effectively structured welfare systems (Clasen and Clegg, 2011; Heidenreich and Aurich, 2013; Morel et al., 2012; Minas, 2014). Second, human capital focussed measures directed at childcare, education and labour activation have been applied (Cantillon and Vandenbroucke, 2014; Van Berkel and Borghi, 2008; Lodemel and Moreira, 2014).',\n",
       "  'Governance coordination reform aims to counter system fragmentation and is seen as a key means for improving the economic and social integration of social assistance clients (Champion and Bonoli, 2011). Most strongly recommended is a \"one-stop shop\" approach to improve collaboration between state employment agencies and local social assistance offices. The intention is to lower administrative overhead and to increase \"accessibility for those welfare system clients farthest from the labour market\" into work (European Commission, 2013, p. 9).',\n",
       "  'Governance coordination initiatives have taken place along a continuum of organisational arrangements. We investigate the emotional impact of labour activation approaches targeted to social assistance clients and taking place within three coordination case settings, each representing an ideal type: \"soft\" collaboration between agencies (Belgium); \"hard\" re-structuring schemes, in which benefit delivery and employment agencies are merged into one (Norway) (Overbye et al., 2010); and intermediate (Champion and Bonoli, 2011) or incomplete mergers (Austria).',\n",
       "  'In addition to structural reform, social investment approaches have attempted to change the behaviour and capacities of welfare system clients (Wright, 2012). The approaches do not appear within an institutional vacuum. Rather, when applied to social assistance, they occur within a \"residualized\" realm of \"last resort\" (Lodemel, 1997), wherein there has long been a strong tradition of differentiation between the \"more\" and \"less deserving\" (Baumberg, 2016; Golding and Middleton, 1981; Katz, 1989; Spicker, 1984), an aim to minimise the welfare dependency (Mead, 1992, 1997) of a growing \"underclass\" (Murray, 1984), as well as \"a tendency to add moral and behavioural requirements to the basic qualification of need\" (Tenbroek and Wilson, 1954, p. 271, as cited in Zatz, 2012).',\n",
       "  'The notion of benefit recipients as essentially deficient is related to the influential, yet problematic, diagnoses of both Murray\\'s (1984) \"underclass\" and Mead\\'s (1992, 1997) \"welfare dependency\". Murray (1984) presents claiming benefits as an immoral but rational alternative to job seeking that should be eradicated by reducing welfare provision; while Mead\\'s (1992, p. 133) view on intentionality differs in considering benefit recipients as willing potential workers who are \"dutiful but defeated\". Both analysts sought policy redesign in order to alter the motivations and actions of benefit recipients, through deterrents or disincentives, in order to prevent misbehaviour, particularly in the form of freeloading. In the UK context, these concerns have appealed to politicians across the ideological spectrum and have influenced social security and employment service policy design for more than 15 years.',\n",
       "  'The social investment paradigm of coordination and labour activation, applies a similar logic, yet focusses on the preventative aim of offseting many of today\\'s social problems, including rising inequalities, social exclusion, in-work poverty, persistent unemployment and global demographic transformations. It also applies positive rhetoric in the shape of new opportunities: reforms have introduced programmes and policies emphasising skills- and human capital development (Hemerijck, 2014; Morel et al., 2012, p. 354). The strengthened labour activation focus represents a social investment \"paradigm shift\" away from income protection (Clasen and Clegg, 2011; Van Berkel and Borghi, 2008, p. 333).',\n",
       "  'Broadly speaking, labour activation measures have been categorised along a continuum between two ideals. At one extreme lies a workfare ideal, with a focus on cost-cutting, work seeking and short benefit spells (Lodemel and Trickey, 2001; Welshman, 2006), and on the other, a human capital development ideal, dedicated to skills-building for movement more securely into the labour market (Moreira, 2008; Lodemel and Moreira, 2014). The EU rhetoric surrounding social investment has, notably, placed particular emphasis on the development of human capabilities in order to strengthen the economic integration and reduce the social exclusion of users (Hemerijck, 2014; European Commission, 2010).',\n",
       "  'Regardless of whether labour activation strategies take the shape of workfare or human capital development, what unites them is their use of conditionality - the granting of cash transfers or services on the condition that the recipient carries out activities or meets certain requirements. Social assistance (and other minimum income schemes) has always been more restrictive than other forms of social protection, following mainly from its last-resort function and the connection between meeting a prescribed level of need and eligibility (Lodemel and Trickey, 2001). The heightened conditionality attached to labour activation in recent decades reflects a global trend of increased activity and behavioural requirements in exchange for economic entitlements (Griggs and Bennett, 2009).',\n",
       "  'Reports on the economic impact of such conditional approaches are not encouraging. While labour activation strategies in social assistance have had some success in raising employment levels across the EU, they have largely failed to reduce poverty (Vandenbroucke and Diris, 2014) and have tended not to result in increased economic inclusion (Corluy and Vandenbroucke, 2014). Social investment strategies have also been criticised for generating a so-called \"Matthew effect\": Those clients with better resources to begin with tend to reap the largest economic benefit from the services on offer (Cantillon and Van Lancker, 2013; Cantillon, 2014). Thus, rather than mitigating inequality, social policy may prolong or escalate economic divides in relative or absolute terms: it may result in an effect wherein \"the poor get poorer, the rich get richer\" or wherein \"the poor get richer, but the rich get richer by a larger margin\" (Rigney, 2010, p. 10). Such effects have been reported in the take-up and macro-level economic outcomes of active labour market programmes (Dahl and Lorentzen, 2005; Bonoli, 2014).'],\n",
       " ['Beyond a focus on economic inclusion, we may also ask if social investment also improves the social position of those who are marginalised. In this sense, our metric for gauging movement out of poverty should include focus on social deprivation as well as on income poverty (Allman, 2013; Chakravarty and D\\'Ambrosio, 2006). While social exclusion and inclusion have emerged as predominant ideas within European social policy discourse (Levitas, 2006; Percy-Smith, 2001), scholars have suggested that the emerging discourse has been \"informed and reinforced by an acceptance of existing and normative social relations reinforced by neoliberal rationalities\" (Horsell, 2015, p. 2; Peck, 2010). Such a focus has, it is argued, failed to acknowledge and challenge pre-existing social relations and the role of emotions in the development of social policy (Stenner and Taylor, 2008). An alternate focus would consider the place of feelings, self-esteem and one\\'s socioeconomic status as much as economic inclusion.',\n",
       "  'Thus, while scholars have problematized the missing links between social investment, poverty reduction and economic inclusion, there has been little focus on the social psychological dimension. Poverty does not have only a strong material dimension; it is also a \"shameful and corrosive social relation\" (Lister, 2004, p. 7, emphasis added). Empirical scholarship provides robust evidence to support the existence of a strong connection between the experience of living in poverty and shame (Jo, 2013; Gubrium, Harslof and Lodemel, 2014; Gubrium, Pellissery and Lodemel, 2014; Walker, 2014; Chase and Bantebya Kyomuhendo, 2015).',\n",
       "  'The shame that individuals in poverty may attach to their situations has both external and internal components (Chase and Walker, 2013; Chase and Bantebya Kyomuhendo, 2015; Walker, 2014). Unlike guilt, where the cause may be directly related to one\\'s own actions, shame is linked to a sense of powerlessness and inadequacy arising from the fact that its cause is not necessarily in one\\'s own control to change (Tangney and Dearing, 2002; Tracy et al., 2007). Shame has been identified as the prevalent \"moral\" emotion experienced by individuals within troubled social psychological contexts, exceeding anger, grief, and anxiety (Lewis, 1971; Dearing et al., 2005; Nathanson, 1997; Scheff, 2003), making it a crucial subject of study for those conducting work in the intersection of social work and social policy.',\n",
       "  'Shame has largely negative consequences at individual and socio-structural levels. While guilt may motivate reparative action, and is thus seen as an adaptive emotion, there is little empirical evidence to support the same for shame (Tangney and Dearing, 2002). Rather, psychologists report that individuals experiencing shame often feel de-motivated and depressed. They may distance themselves from others and tend to externalise blame and anger (Tangney et al., 2007, 2014), resulting in aggressive and \"anti-social\" behaviour (Stuewig et al., 2010). Over time, the negative responses to shame tend to result in lowered social capital. This creates a feedback loop in which the cause and effect of shame is further enhanced (Walker, 2014). As a result, the shame that is attached to poverty may pose a \"threat to the social bond\" (Scheff, 2000; Chase and Walker, 2013). Given that social investment strategies aim not only to foster economic growth, but also to promote social cohesion, it is thus pertinent to assess their emotional impact.'],\n",
       " ['While EU social investment policy has largely focussed on economic integration, it also aims for reduced social exclusion. Economic and social inclusion relates to the individual, the relational and the structural. To account for these, we compare Austrian, Belgian and Norwegian coordination reform at the micro, meso and macro-levels, highlighting the experiences of social assistant claimants in our assessment of activation policies and inclusionary and exclusionary impacts of the reforms. Our analysis is innovative in its reach across the three levels.',\n",
       "  'Our micro level analysis is interpretive: social assistance clients are arguably \"experts of their own domains\" (Schutz, 1962, p. 19), actively experiencing and \"reading\" meanings into changed services and service contexts (Yanow, 2000). The personal meanings they make of the reforms they experience are an important consideration when assessing the impact of change (Taylor, 2011). With a focus on the social investment aim towards social inclusion, our first research question explores the individual, personal impact of new labour activation \"opportunities\":',\n",
       "  'RQ1. How do social assistance client respondents experience and interpret labour activation measures?',\n",
       "  'Scholars have called for a comparative, interactional focus on street-level data, especially when studying morally laden measures such as social assistance (Jewell, 2007; Hupe et al., 2015). The comparative scholarship to date has been largely informed by service provider perspectives. Our meso-level analysis and second research question compares the impact of the measures on social assistance clients across the varying governance coordination settings of Austria, Belgium and Norway:',\n",
       "  'RQ2. How have different coordination strategies variably shaped the personal impact of labour activation measures on social assistance clients?',\n",
       "  'Our focus on the personal does not end with an assessment of personal impact, as a consideration of the micro and meso also enables a better understanding of macro-level social policy issues. We apply Claus Offe\\'s (1996) refined notion of Marx\\'s \"reserve army of labour\" to assess macro impact, assessing the changing relationship of the individual client to the broader welfare system and labour market. Offe delineated three groups of people - the \"winners\", the \"losers\" and the \"non-components\" - according to their embeddedness in the economic cycle. The winners and losers are \"inside\" the labour market and bargain on the redistribution of resources, while the non-components are excluded from this process, being \"superfluous\" non-participants \"outside\" the labour market. Ostensibly, the goal of social investment is to increase economic inclusion by moving \"non-components\" and \"losers\" out of dependence on work replacement benefits and into the category of regularly employed \"winners\". Offe\\'s framework also provides a second dimension, accounting for degree of social inclusion. Our macro-level analysis asks:',\n",
       "  'RQ3. How does reform alter the landscape of social assistance and what is the impact of an altered landscape on the economic and social inclusion of social assistance clients?',\n",
       "  'In the next section, we sketch the coordination reform trajectories in all three countries and present our methodological approach. In the following section, we compare the diverse empirical data from our case studies. Finally, we discuss our findings and their implications for the social investment strategies in focus.'],\n",
       " ['Our three cases share several characteristics: They fit a Nordic model (Morel et al., 2012), whereby the state has provided the new offers - at least rhetorically - in addition to pre-existing social protection schemes. They are rich countries with a two-tiered system of welfare, in which the second tier (social assistance) represents a small (2 per cent of the general population) and often highly marginalised and diffuse client group.',\n",
       "  'The themes emerging from the comparative analysis point to policy mechanisms and institutional arrangements that may potentially shape the impact of the activation policies, given re-structured institutional arrangements. They also inform our macro-level reflections on how social stratification is impacted. We draw our conclusions by interpreting the interactivity of functions and by comparing and contrasting cases (Stake, 2005). We next present the three coordination models, and then explore their substantial implications.',\n",
       "  'Belgium: \"Soft\" coordination',\n",
       "  'In Belgium, there is national legislation for social assistance, yet Public Centres of Social Welfare (PCSWs) locally govern and provide services to employ social assistance clients (Law on PCSW, Article 60 SS7, Article 61). While PCSWs provide cash benefits and some activation services for social assistance claimants, there remains a formally separate employment agency. There is no formal merger of the two entities. Collaboration and network building occurs from the PCSWs outward to other service entities. In some municipalities, this means bringing together relevant services/organisations in the same physical location; in others, collaboration takes the form of a network of organisations located all over the city. External partners involved are very heterogeneous and depend on the location. The level of collaboration between the social assistance centres and the employment agencies and the level of job-seeking support varies greatly between cities.',\n",
       "  'In the late 2000s, Belgium moved towards active inclusion and tailor-made approaches, through pilot projects to strengthen coordination between the regional employment agency and local PCSWs. Since 2002, national activation schemes have had increased presence at the regional level (Hermans et al., 2010) and PCSWs have been a key site for efforts targeted to social assistance (Leibetseder and Kranewitter, 2012).',\n",
       "  'Austria: \"incomplete\" coordination',\n",
       "  'The national harmonisation of provincial social assistance schemes in Austria started in the early 1990s. In 2000, policymakers presented early outlines for merging jobcentres and social assistance offices into \"one-stop\" shops. However, provinces and federal state failed to agree across the board on whether social assistance clients should move to federal level employment agencies or whether the long-term unemployed should be shifted to the provincial level social assistance offices. After ten years of political wrangling between federal and provincial actors on how to merge the unemployment assistance and the social assistance benefit schemes for the employable, the looming economic crisis in 2008 led to a 2010 agreement to enable social assistance clients with better access to jobcentre activation services (Raeymaeckers and Dierckx, 2013; Pfeil and Otter, 2011).',\n",
       "  \"Before 2010, Austrian provinces and municipalities could decide on when and how to enforce conditionality and local social assistance offices categorised clients according to their work capability. In most instances, social assistance clients had to register as unemployed at the local jobcentre. They also regularly presented the jobcentre's appointment card, sometimes along with collections of company stamps and job applications, at the social assistance office. Social assistance offices could establish their own activation programmes or could employ people in local projects (Leibetseder and Woltran, 2011; Leibetseder and Kranewitter, 2012). While jobcentres technically had to support individuals registered as unemployed and able to work, social assistance clients had limited access to training and programmes (Leibetseder and Woltran, 2011). Since the 2010 agreement, jobcentre services are more accessible. However, conditionality has also been tightened, as social assistance offices may automatically obtain information about client's non-compliance from the jobcentres (Die Armutskonferenz, 2012; Leibetseder et al., 2013).\",\n",
       "  'Due to political, administrative and legal complexities, a national merger of benefit provision failed: Austrian jobcentres do not nationally function as one-stop shops. In practice, many merely inform potential clients about the possibility to claim the \"need-oriented minimum income benefit\", and distribute and collect benefit applications for the local municipality (Agreement, Art 7; Leibetseder, 2014).',\n",
       "  'Despite attempts to create a national system, legislation across the provinces and street-level practices still vary in their enforcement of job search requirements. Additionally, municipalities may enforce further job search activities and set up local activation programmes separate from those at jobcentres. Thus, depending on where one lives, clients may have to comply with both jobcentre and municipal conditionality.',\n",
       "  'Norway: \"hard\" coordination',\n",
       "  \"Since the 1990s, the workfare and welfare activation policies targeted at Norway's social assistance claimants have shifted from unconditional entitlement of a locally provided minimum income to a strong emphasis on work seeking and acceptance (Lodemel and Trickey, 2001). While levels and frequency of activation enforcement varied locally, Norwegian social assistance clients nonetheless had little access to human capital-focussed state-run programmes through the 2000s. Instead, labour activation primarily took form through municipal workfare arrangements (Dahl, 2003).\",\n",
       "  'In 2006, the largest governance reform in Norway\\'s welfare system history took place. The reform merged the previously separate state agencies of social insurance and employment services with municipal social assistance provisions and activation measures. Unified service provision was co-localised in nationally managed and locally serviced \"one-stop shops\" (Gubrium, Harslof and Lodemel, 2014; Gubrium, Pellissery and Lodemel, 2014). In part, the aim was to open new opportunities (in the form of human capital focussed activation programmes and a higher, nationally determined benefit level) for eligible social assistance claimants (Gubrium, Harslof and Lodemel, 2014; Gubrium, Pellissery and Lodemel, 2014).',\n",
       "  'Methodology and design',\n",
       "  'The data set is comprised of qualitative in-depth data, collected in 2011 and 2012 in Austria, Belgium and Norway. Interviews were semi-structured and focussed on the experiences of individual clients as they participated in labour activation programmes. The Austrian data set comprises 54 interviews conducted in eight municipalities in Upper Austria and Styria, with individuals receiving the minimum income benefit. Some were engaged in low wage work and some were participants in a labour activation programme. In total, 54 per cent of the respondents were female of which one-third were single parents. Just under two-thirds of the respondents were unemployed, 13 per cent had precarious jobs, and the other third were not required to search for work due to health or old age. Three-quarters of the respondents were born in Austria or had Austrian nationality. The interviews were conducted as part of a larger mixed-method longitudinal project that aimed to examine the implementation of the new minimum income scheme and its impact on social exclusion and activation.',\n",
       "  'The Belgian data comprises 16 qualitative interviews with individuals temporarily employed by the social assistance agency of Antwerp as part of a programme to facilitate access to the regular labour market. Respondents were selected out of the pool of social assistance clients employed in a specific activation measure, \"Article 60SS7\", targeted towards the activation of social assistance clients receiving support from the PCSW. Six of the respondents were women and ten men. Many were recent immigrants to Belgium: fourteen had non-EU nationality, one was Belgian and one had EU-nationality. Interviews addressed how social assistance clients evaluated the programme itself, whether it had improved life quality, as well as whether clients experienced empowerment, shame and stigmatisation through participation.',\n",
       "  \"The Norwegian data comprises 28 qualitative interviews with individuals either receiving social assistance benefits or participating in a nationally offered human capital oriented work activation programme targeted to social assistance clients. Respondents were selected from among a population of social assistance recipients and programme participants in three study sites: a small town on Norway's west coast; and a wealthy city suburb and industrial city suburb, both located in or near Oslo. In total, 17 of the respondents were female and 11 male. In all, 15 of the respondents were first generation immigrants. Interviews addressed respondents' general experiences with poverty, and their experiences as social assistance clients or as activation programme participants. We also focussed on how these experiences related to feelings of shame, shaming, social exclusion, and stigmatisation.\",\n",
       "  'For all interview data sets, we conducted basic content- and discourse- analyses[1]. In a first round of analysis, the research teams from each country identified emerging themes concerning how respondents interpreted their experiences while in the programmes. Particular attention was placed on experiences with regard to new work and/or social opportunities, with a secondary focus placed on how these themes were related to shame and dignity-building. In a second round of analysis, the primary author contrasted the experiences reported from each country team, focussing on how reports differed across coordination setting. These two rounds, representing micro- and meso-level analyses, are presented in the findings sections. A third round of analysis focussed on the changing positions of respondents with regard to improved labour market opportunities and social status, linking this back to the reported personal impact (shame/dignity-building potential) of the reforms. This analysis is presented in the concluding section.'],\n",
       " ['The coordination initiatives in the three settings variably succeeded to integrate a fragmented social security system, a broader social investment tool for preparing and integrating claimants into the labour market. Within each setting, interview respondents described their experiences in the work activation schemes that had been introduced.',\n",
       "  'For some social assistance clients - new possibilities',\n",
       "  'Across the three settings to varying degrees, governance coordination enabled better collaboration between social assistance and employment services, enabling a more work-oriented offer for social assistance clients. In Belgium, network centres coordinated and strengthened relations across different services. Since 2010, Austrian social service clients had better access to jobcentres and their services, and had for the first time been granted access to regional jobcentre activation programmes emphasising job training. In more coordinated regions, claimants also no longer had to provide proof of job seeking activity to the social assistance office, nor carry along the jobcentre\\'s appointment card. In Norway, the formal merger of national employment services and local social service provision into co-localised one-stop-shops meant that state-level labour activation programmes formerly aimed at only the temporarily unemployed were now more broadly available to eligible municipal social assistance clients. For those engaged in the Norwegian and Belgian programmes, participants had greater rights during the programme period. Those working in Belgian PCSW job placements were granted regular social security rights (typically, regular unemployment benefits), as well as a minimum wage, paid in part by federal authorities and in part by the local employer, typically, the PCSW (Law on PCSW, Article 60 SS7, Article 61). Those participating in the national Norwegian activation programme received a higher and more predictable cash benefit, received a daily programme designed to resemble a standard workday and received regular work wages, with the same rights attached as those attached to ordinary income (Ot. Prop. nr. 70, 2006-2007, p. 38). Improved coordination, in conjunction with any extra resources provided to administer the labour activation programmes offered the possibility of more intensive client follow-up. In Belgium, social workers coordinated and served as conduits to newly accessible information and services, in addition to regular casework. Projects helped respondents to feel safer because they received increased caseworker support to find employment and achieve holistic well-being. Caseworkers were \"always there\" to \"listen\" and help, \"to provide information about Belgium\" and to help with \"understanding the employment system\".',\n",
       "  'Austrian clients who were located in regions with greater agency coordination between unemployment assistance and social assistance benefit services learned about opportunities for obtaining additional financial resources and about where to go to gain new qualification through trainings. Some positively described the shift from a focus on paperwork to a focus on work. Offices in regions with better coordination were also able to introduce individual \"support plans\", mutually agreed upon with between client and caseworker at the local jobcentre. In the plans, activities and expectations for both parties were to be clarified. In these cases, there was more \"response\" at the jobcentre and \"more talks about how, what and when\". Respondents receiving personal coaching noted that trainers and caseworkers \"had more time\", were more \"informative\", more \"concentrated\" and \"worked more intensively\" on \"what one could do\". Yet accessibility to such a personalised approach was limited to only a select few due to insufficient financial resources.',\n",
       "  'All Norwegian activation programme participants received closer follow-up from an assigned caseworker (Ot. Prop. nr. 70, 2006-2007) and many were positive about the presence of activity requirements. Many described having earlier been bounced \"back and forth\" through the social assistance system \"like rubber balls\", with a slew of rotating caseworkers not \"bothering\" to do more than hand them their benefit. In contrast, the caseworkers they received through programme participation had a better \"overview\", helped them to \"find the right direction\" and to \"build self-confidence\".',\n",
       "  'In all three settings, many respondents described a new sense of possibility and movement closer to work while they were engaged in coursework or work placements. Many Belgian respondents were recent immigrants, possessed insecure, temporary residence permits and had not managed to enter work in a tough labour market for those possessing minimal education. PCSW and employment agencies collaborated intensively to provide sheltered employment projects. Many had better income during the project period, had a better sense of self-esteem after initial fears about entering the workplace, and those who had managed to pick up additional skills through temporary work at the PCSW were better able to compete on the low skilled segment of the labour market. For these respondents, work projects introduced \"an extra nudge\" into the labour market by \"strengthening competencies\" and enabling them to \"trust\" themselves. Low Flemish language proficiency had made earlier access to employment services quite difficult for many. New opportunities to improve language skills enabled them to \"talk more and listen more\" and find increased self-confidence.',\n",
       "  'For those Austrian respondents who were given the chance to enhance skills through specialized training, the possibility to receive such training was a \"surprise\", as earlier activity requirements had primarily consisted of busy work applying for jobcentre-recommended positions. One respondent finishing his final year of a training apprenticeship spoke positively about the new opportunity to obtain a professional certificate. The ability to participate in skills-based trainings and access to unemployment benefits after one year of social insurance had transformed the self-esteem of one respondent, who stated that he could now envision himself \"going to work\".',\n",
       "  'For many Norwegian respondents, a full day programme represented a transition into a more \"balanced\" life and made them feel they were \"normal\" civic participants. For those who had come into the programme with higher-level skills from prior work experience, the programme had given them a renewed \"work feeling\". For the few with skill sets that matched the local labour market, there was the promise of regular work.',\n",
       "  'For others - new arenas for shaming and marginalisation',\n",
       "  'While some respondents described a sense of movement closer to employment through participation in labour activation programmes, across the three settings many with little work experience or a limited skill set were frustrated at remaining on the margins of the labour market. In particular, those who identified as work-ready described a sense of stigma, stagnation and hopelessness at being capable of participating in a labour activation programme, but unable to enter regular employment. Participation in labour activation programmes and courses did not enhance skills or educational levels for most.',\n",
       "  'In Belgium, one noted, \"My work experience has now increased by 1.5 years, but my educational history remains the same\". In Austria, several respondents felt that they were engaging less in job preparation than merely being \"kept busy\". Participants described repetitive and low-level tasks, noting they harkened back to traditional poor relief work. One felt a brief sense of relief at slightly varied work \"making flip-flops\", and she looked \"forward to doing something other than continuous basket weaving\". In Norway, those respondents who had enrolled in the activation programme to move quickly into work merely wanted to finish the programme \"as quickly as possible\" and to find work \"as fast as freaking possible\" (Respondent\\'s emphasis). Many respondents described working hard and being praised for good effort, but felt \"exploited\" from continuous work placements not resulting in regular work. One experienced disappointment and demotivation as she continued to languish in unemployment \"limbo\" - working for \"free\" in a series of internships. Lacking a real job offer, some \"dreaded\" moving back to basic social assistance.',\n",
       "  'While the labour activation programmes had increased access to work, for most, the employment obtained was temporary, of a low-threshold character, and often only offered a few hours of employment per week. Work placements provided no guarantee for regular employment.',\n",
       "  'Belgian employers had considerable power to set standards, including setting unrealistically high language requirements for open positions and easily avoiding the possible extra risk of employing those participants who were recent immigrants. In Austria, \"senseless\" courses required by the job centre neither considered individual skills and nor provided additional professional training. When searching for jobs, several respondents were frustration that offers for which they were required to apply were frequently out-dated and \"have (already) been filled most of the time\". The opportunities for permanent employment were limited, respondents felt pressure from limited resources and high demands on work projects, and many felt they were in a \"rat race\" with other project participants. Many tried to do their best and some \"expected to be moved into a permanent position\", yet \"didn\\'t know who to contact\" to begin the process. Most acknowledged that, with municipal vacancies for employment rare and competition fierce only a few would be able to transition into regular employment. Most remained either unemployed or on short, fixed-term contracts. In Norway, many described a sense of personal failure at not managing to find work, and disillusionment with the \"broken promises\" made by caseworkers offering \"more\".',\n",
       "  'Respondents in all three settings also felt stigmatized in their engagement as labour activation measure participants. In Belgium, PCSW teachers at training courses advised participants \"not to mention the PCSW\" when applying for work and many actively concealed this identity from potential employers. At PCSW work engagements, \"normal\" workers did not want to share tasks and responsibilities, and participants were taunted for being \"less capable\". Several respondents had not been \"allowed\" to attend weekly staff meetings, and some were \"treated differently\" and \"with less respect\". Some noted a gap between their project incomes and those of colleagues on regular employment contracts. As one noted, \"There is a big difference between people doing the same job\". In Austria, one respondent had worked as a school-crossing guard where students had teased and pelted him with stones upon learning about his circumstances. Others were called \"social assistance workers\", were harassed by co-workers and were not allowed to sit with co-workers during lunchtime. One noted, \"It took me half a year before I was allowed to sit next to my colleagues...half a year\" (Respondent\\'s emphasis). Respondents in Norway felt \"ashamed\", one noting that, \"everyone thinks that I have a job\". Another had told his partner that he had a temporary work position and that the benefits he received were his regular wages, rather than the slightly higher benefit he obtained via the programme.',\n",
       "  'Respondents in settings with some level of formal coordination described new rules and expectations in conjunction with an amplified work approach. In some Austrian regions, jobcentre and social assistance services had, in fact, partially or fully merged and respondents felt a heightened sense of being monitored. Where there was more complete merging, social assistance caseworkers had new access to jobcentre bans on clients from missed appointments or job search inactivity. Where there was partial, but incomplete, institutional merger, respondents felt stress from trying to manage parallel, but inconsistent sets of requirements when claiming benefit entitlements. Some were now required to provide a jobcentre appointment card, a social assistance office form and to collect stamps from potential employers when applying for jobs, explicitly labelling themselves social assistance clients. One described failing to get the necessary stamp from a prospective employer, thus \"really aggravating\" his caseworker and making him \"scared\" of the consequences of not successfully following two sets of regulations. In Norway, a formal merger of agencies, along with the introduction of a national activation programme targeted to social assistance meant that, for the first time, the cash benefit and programming on offer depended more on employability than on need. There was an emotional impact from this new hierarchy. In contrast to the few respondents whose professional backgrounds and skill sets matched the labour market and for whom the programme was a means into regular work, for most, work-oriented conditionality had resulted in shame at not being \"good enough\". The new possibility of a path into work had been difficult to fulfil, and this re-emphasised a sense of personal failure.'],\n",
       " ['Coordination and activation strategies have aimed at integrating state level employment approaches into local or regional social assistance, to better enable clients to enter the labour market. The project of merging different governance agencies has been challenged by a climate of weak capacity, especially in the wake of the financial crisis. This is especially challenging to the establishment of comprehensive activation programmes, which are expensive and resource intensive enterprises (Heidenreich and Aurich, 2013). Our findings suggest that coordination models hoping to integrate various levels of governance do not necessarily result in cohesive services and may instead lead to increasingly rigid forms of work conditionality (Minas, 2014).',\n",
       "  'In settings where coordination was fully or partially realized, respondents experienced new terrains of oversight and sanctioning. In Austria\\'s failed merger setting, discrepancies over the roles of various governance entities and lack of sufficient financial resources prevented national establishment of one-stop-shops. Respondents with access to less coordinated regional offices faced two separate, semi-coordinated and weakly resourced systems of oversight, an increased a sense of monitoring and an uneven offer of personal follow-up. The Belgian solution of forging a stronger network between various service providers was, indeed, a \"softer\" form of coordination and respondents did not face heightened sanctioning. Still, successful activation and personal follow-up depended on the quality and types of the networks established. In the complete merger setting of Norway, social assistance labour activation strategies reflected those of the new state employment agency partner and a heightened sense of sanctioning was tied to stronger state-influenced expectations of work-seeking.',\n",
       "  \"For many respondents, the perceived failure to effectively make use of the new opportunities offered by state-infused employment strategies (in Austria and Norway) or via strengthened network connections (in Belgium) emphasised one's individual deficits. Table I provides an overview of the varying micro level emotional impacts emerging from the different coordination models.\",\n",
       "  'Common to the three coordination settings was the presence of a one-size-fits-all supply side strategy in which individual clients were expected to take advantage of new skills-building opportunities to move themselves into local labour markets. Common to all was an institutional failure to acknowledge the demand-side challenges to labour market entry. Given the reality of a socioeconomically marginalised target group and a tough labour market, regardless of service cohesion level, greater economic inclusion was possible only for those clients already possessing some level of socioeconomic capital. What was posed as an offer of more for all mostly translated into the realisation of new employment opportunities for some: a new hierarchy in deservingness was determined by work ability over need and this had intensified the landscape of social assistance.'],\n",
       " ['Social investment reform aims to address the needs of clients \"furthest\" away from the labour market through increased coordination and labour activation programming. Yet our analysis suggests that reform mostly failed to produce conditions to enable a \"human capital\" citizen to respond to incentive- and rational-choice driven strategies. With new institutional expectations and limited resources, these citizens were, rather, struggling with and against new forms of conditionality. At the micro level, social investment reform, indeed, contributed for most to a further sense of exclusion from viable work activity.',\n",
       "  'For those unable to meet new conditions, the new opportunities also generated a further means for stigmatisation and marginalisation. The institutional presumption of individual client choice and agency was belied by the powerlessness of most respondents to adequately meet institutional and personal expectations of employment, resulting in a heightened sense of shame. Shame was minimised to an extent in Belgium, where the respondent group was comprised largely of recent immigrants, for whom language attainment was an immediate goal.',\n",
       "  'At the meso-level, regardless of the coordination setting, the activation measures targeted and re-categorised accordingly, reproducing limited possibilities and means of segregation. There were comparative differences. Respondents located in coordination settings with partial or full service cohesion not only felt a personal sense of failure and shame, but also faced new sanctioning regimes connected with work-oriented expectations.',\n",
       "  'Such struggles are writ large in changing systems of social stratification. At the macro-level, labour activation aims to improve the economic and social inclusion of its target group. Those selected for activation programmes are to be \"rewarded\" through employment and attainment of a higher status with respect to the \"non-component\" claimants remaining on social assistance. According to Offe\\'s (1996) metric for assessing inclusion, the \"losers\" (those in precarious employment) are to become \"winners\" (with employment in the regular labour market), thus attaining \"the status rights of a legitimate participant\" (Offe, 1996, p. 366). Yet our macro-level examination of social and economic outcomes suggests instead a Matthew effect across the three settings. Clients starting with higher human capital (by virtue of work capability/history or biographical history) attain more through labour activation programme participation than do those with lower starting capital.',\n",
       "  'Within an intensified social assistance landscape, failure to enter the labour market may heighten one\\'s sense of shame: acknowledgement of one\\'s relatively weakened socio-structural position may be displaced by an institutional focus on one\\'s personal (in)abilities. The failure to enhance economic inclusion and improve social status may increase the feeling of being \"in-between\" (Kronauer, 2002), of disaffiliation (Castel, 2000, 2003). Our findings taken to the macro-level suggest that this is, indeed, the case. The position of the \"winners\" (those with regular employment) is largely unchanged by labour activation. Through labour activation measures, the \"losers\" (those clients engaged in work placements or who have attained precarious, \"permanent entry\" (Leibetseder and Kranewitter, 2012 employment) are, economically speaking, doing better, for the time being. The \"non-components\" (those moving back to social assistance after engaging in activation measures), also have an unchanged economic position (no job and no \"job feeling\").',\n",
       "  'Yet what has changed is the terrain of social assistance itself: estimations of deservingness and any offers of more are now connected to employability over need. Our respondents\\' descriptions of heightened social marginalisation and battles for social recognition and inclusion when close to the labour market suggest that the experience of social marginalisation is enhanced for those remaining on the edges. Moreover, the institutional situation for the \"non-components\" has worsened, with personnel resources diverted into activation programmes in Austria and Norway, creation of a two-tiered system of social assistance benefits in Norway, and in all three settings, generation of heightened stigma and reduced social acceptance for those who are cannot or do not enter the labour market.',\n",
       "  'There is a connection between shame experienced at the micro level and steeper social stratification at the macro. The new terrain places new responsibilities on the individual rational actor client (Hoggett, 2001) and new opportunities in the form of \"pre-structured choices\" (Thaler and Sunstein, 2009, as cited in Wright, 2016, p. 237; Wright, 2012). The failure of clients to \"activate\" themselves and enter the labour market serves as further proof of their status as \"less deserving\" (Zatz, 2012). New behavioural requirements also further compromises their status as social citizens, heightening their sense of economic vulnerability, social exclusion, stigma and shame.',\n",
       "  'Thus, the social investment labour activation approach, when applied to social assistance in the three settings, has generated an exclusionary inclusion structure. Counter-intuitively, the intensified social assistance landscape has the potential to result in an increasing sense of disaffiliation - the feeling that one belongs only to a \"social no-man\\'s land\" (Castel, 2000, p. 523) - amongst those clients who are less well-resourced and more vulnerable. Given the complex and varied challenges faced by social assistance clients, a focus on employability creates a new arena for segregation. New distinctions may result in heightened stigma and shame for many of those who are \"less able\". From the macro to the micro, the intensified landscape of a social investment world may result in an increased sense of economic vulnerability, a weakened sense of agency and efficacy, and a heightened sense of social disaffiliation.']]"
      ]
     },
     "execution_count": 30,
     "metadata": {},
     "output_type": "execute_result"
    }
   ],
   "source": [
    "ex['sections']"
   ]
  },
  {
   "cell_type": "code",
   "execution_count": 40,
   "metadata": {},
   "outputs": [
    {
     "data": {
      "text/plain": [
       "6897"
      ]
     },
     "execution_count": 40,
     "metadata": {},
     "output_type": "execute_result"
    }
   ],
   "source": [
    "len([token for sec in ex['sections'] for par in sec for token in par.split()])"
   ]
  },
  {
   "cell_type": "code",
   "execution_count": 37,
   "metadata": {
    "scrolled": true
   },
   "outputs": [
    {
     "data": {
      "text/plain": [
       "'Since the early 2000s, Europe\\'s welfare states have largely followed a social investment approach (Bonoli and Natali, 2012; Cantillon and Vandenbroucke, 2014; Morel et al., 2012). In contrast to \"passive\" or \"reparative\" social protection schemes, the approach intends to act as a \"trampoline\" rather than a \"safety net\" for social welfare clients (Jenson, 2012) and aims to be preventative, \"integrative\", \"empowering\" and \"preparative\" (Hemerijck, 2014; Morel et al., 2012). Its reforms target the individual level in order to achieve the projected macro-level effect of economic growth and social inclusion. To evaluate the success of these reforms we must therefore consider both micro and macro-level outcomes. This paper is a contribution to our understanding of the evolution of social investment approaches. We provide evidence to the growing rhetoric surrounding social investment as a model that reduces social exclusion.'"
      ]
     },
     "execution_count": 37,
     "metadata": {},
     "output_type": "execute_result"
    }
   ],
   "source": [
    "ex['sections'][0][0]"
   ]
  },
  {
   "cell_type": "code",
   "execution_count": 1,
   "metadata": {},
   "outputs": [
    {
     "ename": "NameError",
     "evalue": "name 'df' is not defined",
     "output_type": "error",
     "traceback": [
      "\u001b[0;31m---------------------------------------------------------------------------\u001b[0m",
      "\u001b[0;31mNameError\u001b[0m                                 Traceback (most recent call last)",
      "\u001b[0;32m<ipython-input-1-c42a15b2c7cf>\u001b[0m in \u001b[0;36m<module>\u001b[0;34m\u001b[0m\n\u001b[0;32m----> 1\u001b[0;31m \u001b[0mdf\u001b[0m\u001b[0;34m.\u001b[0m\u001b[0mhead\u001b[0m\u001b[0;34m(\u001b[0m\u001b[0;34m)\u001b[0m\u001b[0;34m\u001b[0m\u001b[0;34m\u001b[0m\u001b[0m\n\u001b[0m",
      "\u001b[0;31mNameError\u001b[0m: name 'df' is not defined"
     ]
    }
   ],
   "source": [
    "df.head()"
   ]
  },
  {
   "cell_type": "code",
   "execution_count": null,
   "metadata": {},
   "outputs": [],
   "source": []
  }
 ],
 "metadata": {
  "kernelspec": {
   "display_name": "Python 3",
   "language": "python",
   "name": "python3"
  },
  "language_info": {
   "codemirror_mode": {
    "name": "ipython",
    "version": 3
   },
   "file_extension": ".py",
   "mimetype": "text/x-python",
   "name": "python",
   "nbconvert_exporter": "python",
   "pygments_lexer": "ipython3",
   "version": "3.7.6"
  }
 },
 "nbformat": 4,
 "nbformat_minor": 4
}
