{
 "cells": [
  {
   "cell_type": "markdown",
   "metadata": {},
   "source": [
    "## Count words in purpose/design/findings/originality"
   ]
  },
  {
   "cell_type": "code",
   "execution_count": 2,
   "metadata": {},
   "outputs": [],
   "source": [
    "import os\n",
    "import pandas as pd\n",
    "\n",
    "# base_dir = '/home/ubuntu/efs/emerald/data/fulltext-abstract_sections/'\n",
    "# wc = []\n",
    "# for fname in os.listdir(base_dir):\n",
    "#     if fname.endswith('.target') and 'bpe' not in fname:\n",
    "#         with open(base_dir + fname) as f:\n",
    "#             for line in f:\n",
    "#                 wc.append(line.count(' ') + 1)\n",
    "# wc_purpose, wc_method, wc_finding, wc_origin = zip(*[(wc[i*4], wc[i*4+1], wc[i*4+2], wc[i*4+3]) for i in range(len(wc)//4)])\n",
    "\n",
    "# dfwc = pd.DataFrame({'word_count': wc})\n",
    "# dfwc_sections = pd.DataFrame({'purpose': wc_purpose, 'method': wc_method, 'finding': wc_finding, 'origin': wc_origin, })\n",
    "# dfwc_sections.describe()\n",
    "# dfwc.describe()"
   ]
  },
  {
   "cell_type": "markdown",
   "metadata": {},
   "source": [
    "### from emerald_with_structured_abstr.jsonl"
   ]
  },
  {
   "cell_type": "code",
   "execution_count": 3,
   "metadata": {},
   "outputs": [],
   "source": [
    "import json\n",
    "jsonl = []\n",
    "with open('/home/ubuntu/efs/emerald/emerald_with_structured_abstr.jsonl') as f:\n",
    "    for line in f:\n",
    "        jsonl.append(json.loads(line.strip()))\n",
    "df = pd.DataFrame({'jsonl': jsonl})"
   ]
  },
  {
   "cell_type": "code",
   "execution_count": 8,
   "metadata": {},
   "outputs": [],
   "source": [
    "def fulltext_length(obj):\n",
    "    text = ' '.join(i for i in obj['section_names'] if i != '__NO_TITLE__') + ' ' + ' '.join(par for sec in obj['sections'] for par in sec)\n",
    "    return len(text.split())\n",
    "\n",
    "df['fulltext_length'] = df.jsonl.apply(fulltext_length)"
   ]
  },
  {
   "cell_type": "code",
   "execution_count": 9,
   "metadata": {},
   "outputs": [],
   "source": [
    "def abstract_length(j):\n",
    "    abstract_sections_names = j['abstract_sections_names']\n",
    "    abstract_sections = j['abstract_sections']\n",
    "\n",
    "    section_length = {}\n",
    "    for title, sec in zip(abstract_sections_names, abstract_sections):\n",
    "        if title not in ('Purpose', 'Design/methodology/approach', 'Findings', 'Originality/value'):\n",
    "            continue\n",
    "        text = ' '.join(par for par in sec)\n",
    "        section_length[title] = len(text.split())\n",
    "\n",
    "    return [section_length[i] for i in ('Purpose', 'Design/methodology/approach', 'Findings', 'Originality/value')]\n",
    "\n",
    "df['abstract_length'] = df.jsonl.apply(abstract_length)"
   ]
  },
  {
   "cell_type": "code",
   "execution_count": 10,
   "metadata": {},
   "outputs": [],
   "source": [
    "df['ab_len_purpose'], df['ab_len_design'], df['ab_len_findings'], df['ab_len_origin'] = zip(*df.abstract_length)\n",
    "df['abstract_length'] = df['abstract_length'].apply(sum)"
   ]
  },
  {
   "cell_type": "code",
   "execution_count": 11,
   "metadata": {},
   "outputs": [
    {
     "data": {
      "text/html": [
       "<div>\n",
       "<style scoped>\n",
       "    .dataframe tbody tr th:only-of-type {\n",
       "        vertical-align: middle;\n",
       "    }\n",
       "\n",
       "    .dataframe tbody tr th {\n",
       "        vertical-align: top;\n",
       "    }\n",
       "\n",
       "    .dataframe thead th {\n",
       "        text-align: right;\n",
       "    }\n",
       "</style>\n",
       "<table border=\"1\" class=\"dataframe\">\n",
       "  <thead>\n",
       "    <tr style=\"text-align: right;\">\n",
       "      <th></th>\n",
       "      <th>fulltext_length</th>\n",
       "      <th>abstract_length</th>\n",
       "      <th>ab_len_purpose</th>\n",
       "      <th>ab_len_design</th>\n",
       "      <th>ab_len_findings</th>\n",
       "      <th>ab_len_origin</th>\n",
       "    </tr>\n",
       "  </thead>\n",
       "  <tbody>\n",
       "    <tr>\n",
       "      <th>count</th>\n",
       "      <td>60146.000000</td>\n",
       "      <td>60146.000000</td>\n",
       "      <td>60146.000000</td>\n",
       "      <td>60146.000000</td>\n",
       "      <td>60146.000000</td>\n",
       "      <td>60146.000000</td>\n",
       "    </tr>\n",
       "    <tr>\n",
       "      <th>mean</th>\n",
       "      <td>5665.592325</td>\n",
       "      <td>195.905131</td>\n",
       "      <td>47.875254</td>\n",
       "      <td>45.300801</td>\n",
       "      <td>60.121504</td>\n",
       "      <td>42.607572</td>\n",
       "    </tr>\n",
       "    <tr>\n",
       "      <th>std</th>\n",
       "      <td>2231.319022</td>\n",
       "      <td>59.988423</td>\n",
       "      <td>25.308768</td>\n",
       "      <td>24.598482</td>\n",
       "      <td>28.951950</td>\n",
       "      <td>21.821588</td>\n",
       "    </tr>\n",
       "    <tr>\n",
       "      <th>min</th>\n",
       "      <td>55.000000</td>\n",
       "      <td>19.000000</td>\n",
       "      <td>6.000000</td>\n",
       "      <td>1.000000</td>\n",
       "      <td>2.000000</td>\n",
       "      <td>1.000000</td>\n",
       "    </tr>\n",
       "    <tr>\n",
       "      <th>1%</th>\n",
       "      <td>988.000000</td>\n",
       "      <td>82.000000</td>\n",
       "      <td>15.000000</td>\n",
       "      <td>9.000000</td>\n",
       "      <td>16.000000</td>\n",
       "      <td>11.000000</td>\n",
       "    </tr>\n",
       "    <tr>\n",
       "      <th>25%</th>\n",
       "      <td>4329.000000</td>\n",
       "      <td>157.000000</td>\n",
       "      <td>29.000000</td>\n",
       "      <td>28.000000</td>\n",
       "      <td>40.000000</td>\n",
       "      <td>27.000000</td>\n",
       "    </tr>\n",
       "    <tr>\n",
       "      <th>50%</th>\n",
       "      <td>5621.000000</td>\n",
       "      <td>190.000000</td>\n",
       "      <td>42.000000</td>\n",
       "      <td>41.000000</td>\n",
       "      <td>55.000000</td>\n",
       "      <td>38.000000</td>\n",
       "    </tr>\n",
       "    <tr>\n",
       "      <th>75%</th>\n",
       "      <td>6926.000000</td>\n",
       "      <td>228.000000</td>\n",
       "      <td>60.000000</td>\n",
       "      <td>58.000000</td>\n",
       "      <td>75.000000</td>\n",
       "      <td>53.000000</td>\n",
       "    </tr>\n",
       "    <tr>\n",
       "      <th>99%</th>\n",
       "      <td>11751.950000</td>\n",
       "      <td>377.000000</td>\n",
       "      <td>128.000000</td>\n",
       "      <td>121.000000</td>\n",
       "      <td>148.000000</td>\n",
       "      <td>112.000000</td>\n",
       "    </tr>\n",
       "    <tr>\n",
       "      <th>max</th>\n",
       "      <td>71313.000000</td>\n",
       "      <td>2191.000000</td>\n",
       "      <td>580.000000</td>\n",
       "      <td>681.000000</td>\n",
       "      <td>973.000000</td>\n",
       "      <td>377.000000</td>\n",
       "    </tr>\n",
       "  </tbody>\n",
       "</table>\n",
       "</div>"
      ],
      "text/plain": [
       "       fulltext_length  abstract_length  ab_len_purpose  ab_len_design  \\\n",
       "count     60146.000000     60146.000000    60146.000000   60146.000000   \n",
       "mean       5665.592325       195.905131       47.875254      45.300801   \n",
       "std        2231.319022        59.988423       25.308768      24.598482   \n",
       "min          55.000000        19.000000        6.000000       1.000000   \n",
       "1%          988.000000        82.000000       15.000000       9.000000   \n",
       "25%        4329.000000       157.000000       29.000000      28.000000   \n",
       "50%        5621.000000       190.000000       42.000000      41.000000   \n",
       "75%        6926.000000       228.000000       60.000000      58.000000   \n",
       "99%       11751.950000       377.000000      128.000000     121.000000   \n",
       "max       71313.000000      2191.000000      580.000000     681.000000   \n",
       "\n",
       "       ab_len_findings  ab_len_origin  \n",
       "count     60146.000000   60146.000000  \n",
       "mean         60.121504      42.607572  \n",
       "std          28.951950      21.821588  \n",
       "min           2.000000       1.000000  \n",
       "1%           16.000000      11.000000  \n",
       "25%          40.000000      27.000000  \n",
       "50%          55.000000      38.000000  \n",
       "75%          75.000000      53.000000  \n",
       "99%         148.000000     112.000000  \n",
       "max         973.000000     377.000000  "
      ]
     },
     "execution_count": 11,
     "metadata": {},
     "output_type": "execute_result"
    }
   ],
   "source": [
    "df.describe(percentiles=[.01, .25, .5, .75, .99])"
   ]
  },
  {
   "cell_type": "code",
   "execution_count": null,
   "metadata": {},
   "outputs": [],
   "source": []
  },
  {
   "cell_type": "code",
   "execution_count": 29,
   "metadata": {},
   "outputs": [
    {
     "data": {
      "text/plain": [
       "(39, 7)"
      ]
     },
     "execution_count": 29,
     "metadata": {},
     "output_type": "execute_result"
    }
   ],
   "source": [
    "df[df.abstract_length < 50].shape"
   ]
  },
  {
   "cell_type": "code",
   "execution_count": 38,
   "metadata": {},
   "outputs": [
    {
     "name": "stdout",
     "output_type": "stream",
     "text": [
      "International Journal of Sociology and Social Policy ||| Sport in Europe's era of austerity: crisis or adaptation?\n"
     ]
    }
   ],
   "source": [
    "j = df[df.abstract_length < 50]['jsonl'].tolist()[0]\n",
    "print(j['journal'], '|||', j['title'])"
   ]
  },
  {
   "cell_type": "code",
   "execution_count": 43,
   "metadata": {},
   "outputs": [],
   "source": [
    "from pprint import pprint\n",
    "# pprint(j)"
   ]
  },
  {
   "cell_type": "code",
   "execution_count": 48,
   "metadata": {},
   "outputs": [
    {
     "data": {
      "text/plain": [
       "(83, 7)"
      ]
     },
     "execution_count": 48,
     "metadata": {},
     "output_type": "execute_result"
    }
   ],
   "source": [
    "df[df.abstract_length > 500].shape"
   ]
  },
  {
   "cell_type": "code",
   "execution_count": 42,
   "metadata": {},
   "outputs": [
    {
     "name": "stdout",
     "output_type": "stream",
     "text": [
      "International Hospitality Review ||| Status and scope of project management in the hospitality industry\n"
     ]
    }
   ],
   "source": [
    "j = df[df.abstract_length > 1000]['jsonl'].tolist()[0]\n",
    "print(j['journal'], '|||', j['title'])"
   ]
  },
  {
   "cell_type": "code",
   "execution_count": 46,
   "metadata": {},
   "outputs": [],
   "source": [
    "# pprint(j)"
   ]
  },
  {
   "cell_type": "code",
   "execution_count": null,
   "metadata": {},
   "outputs": [],
   "source": []
  },
  {
   "cell_type": "markdown",
   "metadata": {},
   "source": [
    "### Section titles in fulltext\n",
    "* how many papers with intro section\n",
    "* how many papers with method section\n",
    "* ..."
   ]
  },
  {
   "cell_type": "code",
   "execution_count": 103,
   "metadata": {},
   "outputs": [],
   "source": [
    "# ('Purpose', 'Design/methodology/approach', 'Findings', 'Originality/value')\n",
    "def find_section_title_like(j, ts):\n",
    "    section_names = j['section_names']\n",
    "    for sn in section_names:\n",
    "        for i in ts:\n",
    "            if i.lower() in sn.lower():\n",
    "                return 1\n",
    "    return 0\n",
    "\n",
    "# one-section-only source: 0. fulltext; 1. intro 2. method 3. results 4. conclusion\n",
    "# leave-one-out\n",
    "# target: purpose, method, finding, value\n",
    "df['has_intro'] = df.jsonl.apply(lambda x: find_section_title_like(x, ['intro', 'background']))\n",
    "df['has_purpose'] = df.jsonl.apply(lambda x: find_section_title_like(x, ['purpose']))\n",
    "df['has_design'] = df.jsonl.apply(lambda x: find_section_title_like(x, ['design', 'method', 'approach']))\n",
    "df['has_result'] = df.jsonl.apply(lambda x: find_section_title_like(x, ['result', 'find']))\n",
    "df['has_origin'] = df.jsonl.apply(lambda x: find_section_title_like(x, ['origin', 'value']))\n",
    "df['has_conclu'] = df.jsonl.apply(lambda x: find_section_title_like(x, ['conclu']))"
   ]
  },
  {
   "cell_type": "code",
   "execution_count": 104,
   "metadata": {},
   "outputs": [
    {
     "data": {
      "text/html": [
       "<div>\n",
       "<style scoped>\n",
       "    .dataframe tbody tr th:only-of-type {\n",
       "        vertical-align: middle;\n",
       "    }\n",
       "\n",
       "    .dataframe tbody tr th {\n",
       "        vertical-align: top;\n",
       "    }\n",
       "\n",
       "    .dataframe thead th {\n",
       "        text-align: right;\n",
       "    }\n",
       "</style>\n",
       "<table border=\"1\" class=\"dataframe\">\n",
       "  <thead>\n",
       "    <tr style=\"text-align: right;\">\n",
       "      <th></th>\n",
       "      <th>jsonl</th>\n",
       "      <th>fulltext_length</th>\n",
       "      <th>abstract_length</th>\n",
       "      <th>ab_len_purpose</th>\n",
       "      <th>ab_len_design</th>\n",
       "      <th>ab_len_findings</th>\n",
       "      <th>ab_len_origin</th>\n",
       "      <th>has_intro</th>\n",
       "      <th>has_design</th>\n",
       "      <th>has_result</th>\n",
       "      <th>has_origin</th>\n",
       "      <th>has_conclu</th>\n",
       "      <th>has_purpose</th>\n",
       "    </tr>\n",
       "  </thead>\n",
       "  <tbody>\n",
       "    <tr>\n",
       "      <th>0</th>\n",
       "      <td>{'title': 'From the informal economy to the me...</td>\n",
       "      <td>6448</td>\n",
       "      <td>162</td>\n",
       "      <td>46</td>\n",
       "      <td>39</td>\n",
       "      <td>50</td>\n",
       "      <td>27</td>\n",
       "      <td>1</td>\n",
       "      <td>0</td>\n",
       "      <td>0</td>\n",
       "      <td>1</td>\n",
       "      <td>1</td>\n",
       "      <td>0</td>\n",
       "    </tr>\n",
       "    <tr>\n",
       "      <th>1</th>\n",
       "      <td>{'title': 'How close are formal and informal w...</td>\n",
       "      <td>5979</td>\n",
       "      <td>235</td>\n",
       "      <td>113</td>\n",
       "      <td>28</td>\n",
       "      <td>69</td>\n",
       "      <td>25</td>\n",
       "      <td>1</td>\n",
       "      <td>0</td>\n",
       "      <td>0</td>\n",
       "      <td>0</td>\n",
       "      <td>0</td>\n",
       "      <td>0</td>\n",
       "    </tr>\n",
       "  </tbody>\n",
       "</table>\n",
       "</div>"
      ],
      "text/plain": [
       "                                               jsonl  fulltext_length  \\\n",
       "0  {'title': 'From the informal economy to the me...             6448   \n",
       "1  {'title': 'How close are formal and informal w...             5979   \n",
       "\n",
       "   abstract_length  ab_len_purpose  ab_len_design  ab_len_findings  \\\n",
       "0              162              46             39               50   \n",
       "1              235             113             28               69   \n",
       "\n",
       "   ab_len_origin  has_intro  has_design  has_result  has_origin  has_conclu  \\\n",
       "0             27          1           0           0           1           1   \n",
       "1             25          1           0           0           0           0   \n",
       "\n",
       "   has_purpose  \n",
       "0            0  \n",
       "1            0  "
      ]
     },
     "execution_count": 104,
     "metadata": {},
     "output_type": "execute_result"
    }
   ],
   "source": [
    "df.head(2)"
   ]
  },
  {
   "cell_type": "code",
   "execution_count": 105,
   "metadata": {},
   "outputs": [
    {
     "data": {
      "text/html": [
       "<div>\n",
       "<style scoped>\n",
       "    .dataframe tbody tr th:only-of-type {\n",
       "        vertical-align: middle;\n",
       "    }\n",
       "\n",
       "    .dataframe tbody tr th {\n",
       "        vertical-align: top;\n",
       "    }\n",
       "\n",
       "    .dataframe thead th {\n",
       "        text-align: right;\n",
       "    }\n",
       "</style>\n",
       "<table border=\"1\" class=\"dataframe\">\n",
       "  <thead>\n",
       "    <tr style=\"text-align: right;\">\n",
       "      <th></th>\n",
       "      <th>has_intro</th>\n",
       "      <th>has_design</th>\n",
       "      <th>has_result</th>\n",
       "      <th>has_origin</th>\n",
       "      <th>has_conclu</th>\n",
       "      <th>has_purpose</th>\n",
       "    </tr>\n",
       "  </thead>\n",
       "  <tbody>\n",
       "    <tr>\n",
       "      <th>sum</th>\n",
       "      <td>51691</td>\n",
       "      <td>40285</td>\n",
       "      <td>33872</td>\n",
       "      <td>1450</td>\n",
       "      <td>44797</td>\n",
       "      <td>641</td>\n",
       "    </tr>\n",
       "  </tbody>\n",
       "</table>\n",
       "</div>"
      ],
      "text/plain": [
       "     has_intro  has_design  has_result  has_origin  has_conclu  has_purpose\n",
       "sum      51691       40285       33872        1450       44797          641"
      ]
     },
     "execution_count": 105,
     "metadata": {},
     "output_type": "execute_result"
    }
   ],
   "source": [
    "tmp = df[[i for i in df.columns if i.startswith('has_')]].agg(['sum'])\n",
    "tmp"
   ]
  },
  {
   "cell_type": "code",
   "execution_count": 106,
   "metadata": {},
   "outputs": [
    {
     "data": {
      "text/html": [
       "<div>\n",
       "<style scoped>\n",
       "    .dataframe tbody tr th:only-of-type {\n",
       "        vertical-align: middle;\n",
       "    }\n",
       "\n",
       "    .dataframe tbody tr th {\n",
       "        vertical-align: top;\n",
       "    }\n",
       "\n",
       "    .dataframe thead th {\n",
       "        text-align: right;\n",
       "    }\n",
       "</style>\n",
       "<table border=\"1\" class=\"dataframe\">\n",
       "  <thead>\n",
       "    <tr style=\"text-align: right;\">\n",
       "      <th></th>\n",
       "      <th>has_intro</th>\n",
       "      <th>has_design</th>\n",
       "      <th>has_result</th>\n",
       "      <th>has_origin</th>\n",
       "      <th>has_conclu</th>\n",
       "      <th>has_purpose</th>\n",
       "    </tr>\n",
       "  </thead>\n",
       "  <tbody>\n",
       "    <tr>\n",
       "      <th>sum</th>\n",
       "      <td>0.859425</td>\n",
       "      <td>0.669787</td>\n",
       "      <td>0.563163</td>\n",
       "      <td>0.024108</td>\n",
       "      <td>0.744804</td>\n",
       "      <td>0.010657</td>\n",
       "    </tr>\n",
       "  </tbody>\n",
       "</table>\n",
       "</div>"
      ],
      "text/plain": [
       "     has_intro  has_design  has_result  has_origin  has_conclu  has_purpose\n",
       "sum   0.859425    0.669787    0.563163    0.024108    0.744804     0.010657"
      ]
     },
     "execution_count": 106,
     "metadata": {},
     "output_type": "execute_result"
    }
   ],
   "source": [
    "# percent\n",
    "tmp / df.shape[0]"
   ]
  },
  {
   "cell_type": "code",
   "execution_count": 101,
   "metadata": {},
   "outputs": [],
   "source": [
    "# df.jsonl.apply(lambda x: find_section_title_like(x, ['introduction'])).sum()"
   ]
  },
  {
   "cell_type": "code",
   "execution_count": 1,
   "metadata": {},
   "outputs": [
    {
     "ename": "ModuleNotFoundError",
     "evalue": "No module named 'transformers'",
     "output_type": "error",
     "traceback": [
      "\u001b[0;31m---------------------------------------------------------------------------\u001b[0m",
      "\u001b[0;31mModuleNotFoundError\u001b[0m                       Traceback (most recent call last)",
      "\u001b[0;32m<ipython-input-1-5b876bf1a2f5>\u001b[0m in \u001b[0;36m<module>\u001b[0;34m\u001b[0m\n\u001b[0;32m----> 1\u001b[0;31m \u001b[0;32mfrom\u001b[0m \u001b[0mtransformers\u001b[0m \u001b[0;32mimport\u001b[0m \u001b[0mRobertaTokenizer\u001b[0m\u001b[0;34m,\u001b[0m \u001b[0mRobertaTokenizerFast\u001b[0m\u001b[0;34m\u001b[0m\u001b[0;34m\u001b[0m\u001b[0m\n\u001b[0m",
      "\u001b[0;31mModuleNotFoundError\u001b[0m: No module named 'transformers'"
     ]
    }
   ],
   "source": []
  },
  {
   "cell_type": "code",
   "execution_count": null,
   "metadata": {},
   "outputs": [],
   "source": []
  }
 ],
 "metadata": {
  "kernelspec": {
   "display_name": "Python 3",
   "language": "python",
   "name": "python3"
  },
  "language_info": {
   "codemirror_mode": {
    "name": "ipython",
    "version": 3
   },
   "file_extension": ".py",
   "mimetype": "text/x-python",
   "name": "python",
   "nbconvert_exporter": "python",
   "pygments_lexer": "ipython3",
   "version": "3.7.6"
  }
 },
 "nbformat": 4,
 "nbformat_minor": 4
}
