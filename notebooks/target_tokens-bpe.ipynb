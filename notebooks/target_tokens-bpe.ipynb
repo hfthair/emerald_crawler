{
 "cells": [
  {
   "cell_type": "markdown",
   "metadata": {},
   "source": [
    "## Count words in purpose/design/findings/originality"
   ]
  },
  {
   "cell_type": "code",
   "execution_count": 1,
   "metadata": {},
   "outputs": [],
   "source": [
    "import os\n",
    "import pandas as pd\n",
    "from transformers import RobertaTokenizer, RobertaTokenizerFast\n",
    "# base_dir = '/home/ubuntu/efs/emerald/data/fulltext-abstract_sections/'\n",
    "# wc = []\n",
    "# for fname in os.listdir(base_dir):\n",
    "#     if fname.endswith('.target') and 'bpe' not in fname:\n",
    "#         with open(base_dir + fname) as f:\n",
    "#             for line in f:\n",
    "#                 wc.append(line.count(' ') + 1)\n",
    "# wc_purpose, wc_method, wc_finding, wc_origin = zip(*[(wc[i*4], wc[i*4+1], wc[i*4+2], wc[i*4+3]) for i in range(len(wc)//4)])\n",
    "\n",
    "# dfwc = pd.DataFrame({'word_count': wc})\n",
    "# dfwc_sections = pd.DataFrame({'purpose': wc_purpose, 'method': wc_method, 'finding': wc_finding, 'origin': wc_origin, })\n",
    "# dfwc_sections.describe()\n",
    "# dfwc.describe()"
   ]
  },
  {
   "cell_type": "code",
   "execution_count": 2,
   "metadata": {},
   "outputs": [],
   "source": [
    "tokenizer = RobertaTokenizerFast.from_pretrained(\"roberta-base\")\n"
   ]
  },
  {
   "cell_type": "markdown",
   "metadata": {},
   "source": [
    "### from emerald_with_structured_abstr.jsonl"
   ]
  },
  {
   "cell_type": "code",
   "execution_count": 3,
   "metadata": {},
   "outputs": [],
   "source": [
    "import json\n",
    "jsonl = []\n",
    "with open('/mnt/efs/emerald/emerald_with_structured_abstr.jsonl') as f:\n",
    "    for line in f:\n",
    "        jsonl.append(json.loads(line.strip()))\n",
    "df = pd.DataFrame({'jsonl': jsonl})\n"
   ]
  },
  {
   "cell_type": "code",
   "execution_count": 1,
   "metadata": {},
   "outputs": [
    {
     "ename": "NameError",
     "evalue": "name 'df' is not defined",
     "output_type": "error",
     "traceback": [
      "\u001b[0;31m---------------------------------------------------------------------------\u001b[0m",
      "\u001b[0;31mNameError\u001b[0m                                 Traceback (most recent call last)",
      "\u001b[0;32m<ipython-input-1-5300d546c0bd>\u001b[0m in \u001b[0;36m<module>\u001b[0;34m\u001b[0m\n\u001b[0;32m----> 1\u001b[0;31m \u001b[0mlen\u001b[0m\u001b[0;34m(\u001b[0m\u001b[0mdf\u001b[0m\u001b[0;34m)\u001b[0m\u001b[0;34m\u001b[0m\u001b[0;34m\u001b[0m\u001b[0m\n\u001b[0m\u001b[1;32m      2\u001b[0m \u001b[0;31m# dforg=df\u001b[0m\u001b[0;34m\u001b[0m\u001b[0;34m\u001b[0m\u001b[0;34m\u001b[0m\u001b[0m\n\u001b[1;32m      3\u001b[0m \u001b[0;31m# df = df.head()\u001b[0m\u001b[0;34m\u001b[0m\u001b[0;34m\u001b[0m\u001b[0;34m\u001b[0m\u001b[0m\n",
      "\u001b[0;31mNameError\u001b[0m: name 'df' is not defined"
     ]
    }
   ],
   "source": [
    "len(df)\n",
    "# dforg=df\n",
    "# df = df.head()"
   ]
  },
  {
   "cell_type": "code",
   "execution_count": 5,
   "metadata": {},
   "outputs": [
    {
     "name": "stderr",
     "output_type": "stream",
     "text": [
      "Token indices sequence length is longer than the specified maximum sequence length for this model (8101 > 512). Running this sequence through the model will result in indexing errors\n"
     ]
    }
   ],
   "source": [
    "def fulltext_length(obj):\n",
    "    text = ' '.join(i for i in obj['section_names'] if i != '__NO_TITLE__') + ' ' + ' '.join(par for sec in obj['sections'] for par in sec)\n",
    "#     print(text.count(' '))\n",
    "#     print(len(tokenizer.tokenize(text)))\n",
    "#     print(\"---\")\n",
    "    return len(tokenizer.tokenize(text))\n",
    "\n",
    "df['fulltext_length'] = df.jsonl.apply(fulltext_length)"
   ]
  },
  {
   "cell_type": "code",
   "execution_count": 6,
   "metadata": {},
   "outputs": [],
   "source": [
    "def abstract_length(j):\n",
    "    abstract_sections_names = j['abstract_sections_names']\n",
    "    abstract_sections = j['abstract_sections']\n",
    "\n",
    "    section_length = {}\n",
    "    for title, sec in zip(abstract_sections_names, abstract_sections):\n",
    "        if title not in ('Purpose', 'Design/methodology/approach', 'Findings', 'Originality/value'):\n",
    "            continue\n",
    "        text = ' '.join(par for par in sec)\n",
    "#         print(text.count(' '))\n",
    "#         print(len(tokenizer.tokenize(text)))\n",
    "#         print(\"---\")\n",
    "\n",
    "        section_length[title] = len(tokenizer.tokenize(text))\n",
    "        \n",
    "    return [section_length[i] for i in ('Purpose', 'Design/methodology/approach', 'Findings', 'Originality/value')]\n",
    "\n",
    "df['abstract_length'] = df.jsonl.apply(abstract_length)"
   ]
  },
  {
   "cell_type": "code",
   "execution_count": 7,
   "metadata": {},
   "outputs": [],
   "source": [
    "df['ab_len_purpose'], df['ab_len_design'], df['ab_len_findings'], df['ab_len_origin'] = zip(*df.abstract_length)\n",
    "df['abstract_length'] = df['abstract_length'].apply(sum)"
   ]
  },
  {
   "cell_type": "code",
   "execution_count": 8,
   "metadata": {},
   "outputs": [
    {
     "data": {
      "text/html": [
       "<div>\n",
       "<style scoped>\n",
       "    .dataframe tbody tr th:only-of-type {\n",
       "        vertical-align: middle;\n",
       "    }\n",
       "\n",
       "    .dataframe tbody tr th {\n",
       "        vertical-align: top;\n",
       "    }\n",
       "\n",
       "    .dataframe thead th {\n",
       "        text-align: right;\n",
       "    }\n",
       "</style>\n",
       "<table border=\"1\" class=\"dataframe\">\n",
       "  <thead>\n",
       "    <tr style=\"text-align: right;\">\n",
       "      <th></th>\n",
       "      <th>fulltext_length</th>\n",
       "      <th>abstract_length</th>\n",
       "      <th>ab_len_purpose</th>\n",
       "      <th>ab_len_design</th>\n",
       "      <th>ab_len_findings</th>\n",
       "      <th>ab_len_origin</th>\n",
       "    </tr>\n",
       "  </thead>\n",
       "  <tbody>\n",
       "    <tr>\n",
       "      <th>count</th>\n",
       "      <td>60146.000000</td>\n",
       "      <td>60146.000000</td>\n",
       "      <td>60146.000000</td>\n",
       "      <td>60146.000000</td>\n",
       "      <td>60146.000000</td>\n",
       "      <td>60146.000000</td>\n",
       "    </tr>\n",
       "    <tr>\n",
       "      <th>mean</th>\n",
       "      <td>7238.830047</td>\n",
       "      <td>234.698750</td>\n",
       "      <td>56.844628</td>\n",
       "      <td>55.526486</td>\n",
       "      <td>72.685848</td>\n",
       "      <td>49.641788</td>\n",
       "    </tr>\n",
       "    <tr>\n",
       "      <th>std</th>\n",
       "      <td>2871.696215</td>\n",
       "      <td>73.874763</td>\n",
       "      <td>30.631233</td>\n",
       "      <td>30.713551</td>\n",
       "      <td>36.095541</td>\n",
       "      <td>25.965273</td>\n",
       "    </tr>\n",
       "    <tr>\n",
       "      <th>min</th>\n",
       "      <td>77.000000</td>\n",
       "      <td>24.000000</td>\n",
       "      <td>7.000000</td>\n",
       "      <td>2.000000</td>\n",
       "      <td>2.000000</td>\n",
       "      <td>2.000000</td>\n",
       "    </tr>\n",
       "    <tr>\n",
       "      <th>1%</th>\n",
       "      <td>1185.000000</td>\n",
       "      <td>95.000000</td>\n",
       "      <td>17.000000</td>\n",
       "      <td>10.000000</td>\n",
       "      <td>18.000000</td>\n",
       "      <td>13.000000</td>\n",
       "    </tr>\n",
       "    <tr>\n",
       "      <th>25%</th>\n",
       "      <td>5517.000000</td>\n",
       "      <td>187.000000</td>\n",
       "      <td>34.000000</td>\n",
       "      <td>34.000000</td>\n",
       "      <td>48.000000</td>\n",
       "      <td>31.000000</td>\n",
       "    </tr>\n",
       "    <tr>\n",
       "      <th>50%</th>\n",
       "      <td>7188.000000</td>\n",
       "      <td>227.000000</td>\n",
       "      <td>50.000000</td>\n",
       "      <td>50.000000</td>\n",
       "      <td>67.000000</td>\n",
       "      <td>44.000000</td>\n",
       "    </tr>\n",
       "    <tr>\n",
       "      <th>75%</th>\n",
       "      <td>8870.000000</td>\n",
       "      <td>273.000000</td>\n",
       "      <td>72.000000</td>\n",
       "      <td>71.000000</td>\n",
       "      <td>91.000000</td>\n",
       "      <td>62.000000</td>\n",
       "    </tr>\n",
       "    <tr>\n",
       "      <th>99%</th>\n",
       "      <td>15058.750000</td>\n",
       "      <td>458.000000</td>\n",
       "      <td>153.000000</td>\n",
       "      <td>150.000000</td>\n",
       "      <td>185.000000</td>\n",
       "      <td>133.000000</td>\n",
       "    </tr>\n",
       "    <tr>\n",
       "      <th>max</th>\n",
       "      <td>88942.000000</td>\n",
       "      <td>2652.000000</td>\n",
       "      <td>679.000000</td>\n",
       "      <td>804.000000</td>\n",
       "      <td>1198.000000</td>\n",
       "      <td>497.000000</td>\n",
       "    </tr>\n",
       "  </tbody>\n",
       "</table>\n",
       "</div>"
      ],
      "text/plain": [
       "       fulltext_length  abstract_length  ab_len_purpose  ab_len_design  \\\n",
       "count     60146.000000     60146.000000    60146.000000   60146.000000   \n",
       "mean       7238.830047       234.698750       56.844628      55.526486   \n",
       "std        2871.696215        73.874763       30.631233      30.713551   \n",
       "min          77.000000        24.000000        7.000000       2.000000   \n",
       "1%         1185.000000        95.000000       17.000000      10.000000   \n",
       "25%        5517.000000       187.000000       34.000000      34.000000   \n",
       "50%        7188.000000       227.000000       50.000000      50.000000   \n",
       "75%        8870.000000       273.000000       72.000000      71.000000   \n",
       "99%       15058.750000       458.000000      153.000000     150.000000   \n",
       "max       88942.000000      2652.000000      679.000000     804.000000   \n",
       "\n",
       "       ab_len_findings  ab_len_origin  \n",
       "count     60146.000000   60146.000000  \n",
       "mean         72.685848      49.641788  \n",
       "std          36.095541      25.965273  \n",
       "min           2.000000       2.000000  \n",
       "1%           18.000000      13.000000  \n",
       "25%          48.000000      31.000000  \n",
       "50%          67.000000      44.000000  \n",
       "75%          91.000000      62.000000  \n",
       "99%         185.000000     133.000000  \n",
       "max        1198.000000     497.000000  "
      ]
     },
     "execution_count": 8,
     "metadata": {},
     "output_type": "execute_result"
    }
   ],
   "source": [
    "df.describe(percentiles=[.01, .25, .5, .75, .99])"
   ]
  },
  {
   "cell_type": "code",
   "execution_count": null,
   "metadata": {},
   "outputs": [],
   "source": []
  },
  {
   "cell_type": "code",
   "execution_count": 9,
   "metadata": {},
   "outputs": [
    {
     "data": {
      "text/plain": [
       "(13, 7)"
      ]
     },
     "execution_count": 9,
     "metadata": {},
     "output_type": "execute_result"
    }
   ],
   "source": [
    "df[df.abstract_length < 50].shape"
   ]
  },
  {
   "cell_type": "code",
   "execution_count": 10,
   "metadata": {},
   "outputs": [
    {
     "name": "stdout",
     "output_type": "stream",
     "text": [
      "Journal of Business Strategy ||| Paying attention and getting attention: two sides of the communication coin\n"
     ]
    }
   ],
   "source": [
    "j = df[df.abstract_length < 50]['jsonl'].tolist()[0]\n",
    "print(j['journal'], '|||', j['title'])"
   ]
  },
  {
   "cell_type": "code",
   "execution_count": 11,
   "metadata": {},
   "outputs": [],
   "source": [
    "from pprint import pprint\n",
    "# pprint(j)"
   ]
  },
  {
   "cell_type": "code",
   "execution_count": 12,
   "metadata": {},
   "outputs": [
    {
     "data": {
      "text/plain": [
       "(295, 7)"
      ]
     },
     "execution_count": 12,
     "metadata": {},
     "output_type": "execute_result"
    }
   ],
   "source": [
    "df[df.abstract_length > 500].shape"
   ]
  },
  {
   "cell_type": "code",
   "execution_count": 13,
   "metadata": {},
   "outputs": [
    {
     "name": "stdout",
     "output_type": "stream",
     "text": [
      "International Hospitality Review ||| Status and scope of project management in the hospitality industry\n"
     ]
    }
   ],
   "source": [
    "j = df[df.abstract_length > 1000]['jsonl'].tolist()[0]\n",
    "print(j['journal'], '|||', j['title'])"
   ]
  },
  {
   "cell_type": "code",
   "execution_count": 14,
   "metadata": {},
   "outputs": [],
   "source": [
    "# pprint(j)"
   ]
  },
  {
   "cell_type": "code",
   "execution_count": null,
   "metadata": {},
   "outputs": [],
   "source": []
  },
  {
   "cell_type": "markdown",
   "metadata": {},
   "source": [
    "### Section titles in fulltext\n",
    "* how many papers with intro section\n",
    "* how many papers with method section\n",
    "* ..."
   ]
  },
  {
   "cell_type": "code",
   "execution_count": 15,
   "metadata": {},
   "outputs": [],
   "source": [
    "# ('Purpose', 'Design/methodology/approach', 'Findings', 'Originality/value')\n",
    "def find_section_title_like(j, ts):\n",
    "    section_names = j['section_names']\n",
    "    for sn in section_names:\n",
    "        for i in ts:\n",
    "            if i.lower() in sn.lower():\n",
    "                return 1\n",
    "    return 0\n",
    "\n",
    "df['has_intro'] = df.jsonl.apply(lambda x: find_section_title_like(x, ['intro']))\n",
    "df['has_purpose'] = df.jsonl.apply(lambda x: find_section_title_like(x, ['purpose']))\n",
    "df['has_design'] = df.jsonl.apply(lambda x: find_section_title_like(x, ['design', 'method', 'approach']))\n",
    "df['has_result'] = df.jsonl.apply(lambda x: find_section_title_like(x, ['result', 'find']))\n",
    "df['has_origin'] = df.jsonl.apply(lambda x: find_section_title_like(x, ['origin', 'value']))\n",
    "df['has_conclu'] = df.jsonl.apply(lambda x: find_section_title_like(x, ['conclu']))"
   ]
  },
  {
   "cell_type": "code",
   "execution_count": 16,
   "metadata": {},
   "outputs": [
    {
     "data": {
      "text/html": [
       "<div>\n",
       "<style scoped>\n",
       "    .dataframe tbody tr th:only-of-type {\n",
       "        vertical-align: middle;\n",
       "    }\n",
       "\n",
       "    .dataframe tbody tr th {\n",
       "        vertical-align: top;\n",
       "    }\n",
       "\n",
       "    .dataframe thead th {\n",
       "        text-align: right;\n",
       "    }\n",
       "</style>\n",
       "<table border=\"1\" class=\"dataframe\">\n",
       "  <thead>\n",
       "    <tr style=\"text-align: right;\">\n",
       "      <th></th>\n",
       "      <th>jsonl</th>\n",
       "      <th>fulltext_length</th>\n",
       "      <th>abstract_length</th>\n",
       "      <th>ab_len_purpose</th>\n",
       "      <th>ab_len_design</th>\n",
       "      <th>ab_len_findings</th>\n",
       "      <th>ab_len_origin</th>\n",
       "      <th>has_intro</th>\n",
       "      <th>has_purpose</th>\n",
       "      <th>has_design</th>\n",
       "      <th>has_result</th>\n",
       "      <th>has_origin</th>\n",
       "      <th>has_conclu</th>\n",
       "    </tr>\n",
       "  </thead>\n",
       "  <tbody>\n",
       "    <tr>\n",
       "      <th>0</th>\n",
       "      <td>{'title': 'From the informal economy to the me...</td>\n",
       "      <td>8101</td>\n",
       "      <td>196</td>\n",
       "      <td>61</td>\n",
       "      <td>47</td>\n",
       "      <td>59</td>\n",
       "      <td>29</td>\n",
       "      <td>1</td>\n",
       "      <td>0</td>\n",
       "      <td>0</td>\n",
       "      <td>0</td>\n",
       "      <td>1</td>\n",
       "      <td>1</td>\n",
       "    </tr>\n",
       "    <tr>\n",
       "      <th>1</th>\n",
       "      <td>{'title': 'How close are formal and informal w...</td>\n",
       "      <td>7333</td>\n",
       "      <td>263</td>\n",
       "      <td>128</td>\n",
       "      <td>30</td>\n",
       "      <td>78</td>\n",
       "      <td>27</td>\n",
       "      <td>1</td>\n",
       "      <td>0</td>\n",
       "      <td>0</td>\n",
       "      <td>0</td>\n",
       "      <td>0</td>\n",
       "      <td>0</td>\n",
       "    </tr>\n",
       "  </tbody>\n",
       "</table>\n",
       "</div>"
      ],
      "text/plain": [
       "                                               jsonl  fulltext_length  \\\n",
       "0  {'title': 'From the informal economy to the me...             8101   \n",
       "1  {'title': 'How close are formal and informal w...             7333   \n",
       "\n",
       "   abstract_length  ab_len_purpose  ab_len_design  ab_len_findings  \\\n",
       "0              196              61             47               59   \n",
       "1              263             128             30               78   \n",
       "\n",
       "   ab_len_origin  has_intro  has_purpose  has_design  has_result  has_origin  \\\n",
       "0             29          1            0           0           0           1   \n",
       "1             27          1            0           0           0           0   \n",
       "\n",
       "   has_conclu  \n",
       "0           1  \n",
       "1           0  "
      ]
     },
     "execution_count": 16,
     "metadata": {},
     "output_type": "execute_result"
    }
   ],
   "source": [
    "df.head(2)"
   ]
  },
  {
   "cell_type": "code",
   "execution_count": 17,
   "metadata": {},
   "outputs": [
    {
     "data": {
      "text/html": [
       "<div>\n",
       "<style scoped>\n",
       "    .dataframe tbody tr th:only-of-type {\n",
       "        vertical-align: middle;\n",
       "    }\n",
       "\n",
       "    .dataframe tbody tr th {\n",
       "        vertical-align: top;\n",
       "    }\n",
       "\n",
       "    .dataframe thead th {\n",
       "        text-align: right;\n",
       "    }\n",
       "</style>\n",
       "<table border=\"1\" class=\"dataframe\">\n",
       "  <thead>\n",
       "    <tr style=\"text-align: right;\">\n",
       "      <th></th>\n",
       "      <th>has_intro</th>\n",
       "      <th>has_purpose</th>\n",
       "      <th>has_design</th>\n",
       "      <th>has_result</th>\n",
       "      <th>has_origin</th>\n",
       "      <th>has_conclu</th>\n",
       "    </tr>\n",
       "  </thead>\n",
       "  <tbody>\n",
       "    <tr>\n",
       "      <th>sum</th>\n",
       "      <td>50451</td>\n",
       "      <td>641</td>\n",
       "      <td>40285</td>\n",
       "      <td>33872</td>\n",
       "      <td>1450</td>\n",
       "      <td>44797</td>\n",
       "    </tr>\n",
       "  </tbody>\n",
       "</table>\n",
       "</div>"
      ],
      "text/plain": [
       "     has_intro  has_purpose  has_design  has_result  has_origin  has_conclu\n",
       "sum      50451          641       40285       33872        1450       44797"
      ]
     },
     "execution_count": 17,
     "metadata": {},
     "output_type": "execute_result"
    }
   ],
   "source": [
    "tmp = df[[i for i in df.columns if i.startswith('has_')]].agg(['sum'])\n",
    "tmp"
   ]
  },
  {
   "cell_type": "code",
   "execution_count": 18,
   "metadata": {},
   "outputs": [
    {
     "data": {
      "text/html": [
       "<div>\n",
       "<style scoped>\n",
       "    .dataframe tbody tr th:only-of-type {\n",
       "        vertical-align: middle;\n",
       "    }\n",
       "\n",
       "    .dataframe tbody tr th {\n",
       "        vertical-align: top;\n",
       "    }\n",
       "\n",
       "    .dataframe thead th {\n",
       "        text-align: right;\n",
       "    }\n",
       "</style>\n",
       "<table border=\"1\" class=\"dataframe\">\n",
       "  <thead>\n",
       "    <tr style=\"text-align: right;\">\n",
       "      <th></th>\n",
       "      <th>has_intro</th>\n",
       "      <th>has_purpose</th>\n",
       "      <th>has_design</th>\n",
       "      <th>has_result</th>\n",
       "      <th>has_origin</th>\n",
       "      <th>has_conclu</th>\n",
       "    </tr>\n",
       "  </thead>\n",
       "  <tbody>\n",
       "    <tr>\n",
       "      <th>sum</th>\n",
       "      <td>0.838809</td>\n",
       "      <td>0.010657</td>\n",
       "      <td>0.669787</td>\n",
       "      <td>0.563163</td>\n",
       "      <td>0.024108</td>\n",
       "      <td>0.744804</td>\n",
       "    </tr>\n",
       "  </tbody>\n",
       "</table>\n",
       "</div>"
      ],
      "text/plain": [
       "     has_intro  has_purpose  has_design  has_result  has_origin  has_conclu\n",
       "sum   0.838809     0.010657    0.669787    0.563163    0.024108    0.744804"
      ]
     },
     "execution_count": 18,
     "metadata": {},
     "output_type": "execute_result"
    }
   ],
   "source": [
    "# percent\n",
    "tmp / df.shape[0]"
   ]
  },
  {
   "cell_type": "code",
   "execution_count": 19,
   "metadata": {},
   "outputs": [],
   "source": [
    "# df.jsonl.apply(lambda x: find_section_title_like(x, ['introduction'])).sum()"
   ]
  },
  {
   "cell_type": "code",
   "execution_count": null,
   "metadata": {},
   "outputs": [],
   "source": []
  },
  {
   "cell_type": "code",
   "execution_count": null,
   "metadata": {},
   "outputs": [],
   "source": []
  }
 ],
 "metadata": {
  "kernelspec": {
   "display_name": "Python 3",
   "language": "python",
   "name": "python3"
  },
  "language_info": {
   "codemirror_mode": {
    "name": "ipython",
    "version": 3
   },
   "file_extension": ".py",
   "mimetype": "text/x-python",
   "name": "python",
   "nbconvert_exporter": "python",
   "pygments_lexer": "ipython3",
   "version": "3.7.6"
  }
 },
 "nbformat": 4,
 "nbformat_minor": 4
}
