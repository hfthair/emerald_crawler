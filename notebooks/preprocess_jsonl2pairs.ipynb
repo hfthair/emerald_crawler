{
 "cells": [
  {
   "cell_type": "code",
   "execution_count": 11,
   "metadata": {},
   "outputs": [],
   "source": [
    "import os\n",
    "import json\n",
    "import numpy as np"
   ]
  },
  {
   "cell_type": "code",
   "execution_count": 4,
   "metadata": {},
   "outputs": [],
   "source": [
    "def find_section_title_like(j, cuewords):\n",
    "    section_names, section_text = j['section_names'], j['sections']\n",
    "    text = []\n",
    "    for sn, st in zip(section_names, section_text):\n",
    "        sn = sn.lower()\n",
    "        for cueword in cuewords:\n",
    "            if cueword in sn:\n",
    "                text.append(f\"<|{sn.strip()}|>\")\n",
    "                text.append(' '.join(st))\n",
    "                break\n",
    "    return ' '.join(text)\n",
    "\n",
    "# 'source_introduction' ['intro', 'purpose']\n",
    "# 'source_design' ['design', 'method', 'approach']\n",
    "# 'source_result' ['result', 'find', 'discuss', 'analy']\n",
    "# 'source_conclusion' ['conclu', 'future']\n",
    "# 'source_related' ['related work', 'literat', 'background']\n",
    "\n",
    "# find intro section, select first section if intro doesn't exist\n",
    "def get_intro_text(j):\n",
    "    intro_text = find_section_title_like(j, ['intro', 'purpose']).strip()\n",
    "    if not intro_text:\n",
    "        section_names, section_text = j['section_names'], j['sections']\n",
    "        if section_names and section_names[0] != '__NO_TITLE__':\n",
    "            intro_text = intro_text + ' ' + section_names[0]\n",
    "        if section_text:\n",
    "            intro_text = intro_text + ' ' + ' '.join(section_text[0])\n",
    "        intro_text = intro_text.strip()\n",
    "    return intro_text\n",
    "\n",
    "\n",
    "def get_conclu_text(j):\n",
    "    conclu_text = find_section_title_like(j, ['conclu', 'future']).strip()\n",
    "    if not conclu_text:\n",
    "        section_names, section_text = j['section_names'], j['sections']\n",
    "        if section_names and section_names[-1] != '__NO_TITLE__':\n",
    "            conclu_text = conclu_text + ' ' + section_names[-1]\n",
    "        if section_text:\n",
    "            conclu_text = conclu_text + ' ' + ' '.join(section_text[-1])\n",
    "        conclu_text = conclu_text.strip()\n",
    "    return conclu_text"
   ]
  },
  {
   "cell_type": "code",
   "execution_count": 12,
   "metadata": {},
   "outputs": [],
   "source": [
    "def get_source_IC(j):\n",
    "    return ' '.join((get_intro_text(j), get_conclu_text(j))).replace('\\n', ' ').strip()\n",
    "\n",
    "\n",
    "def get_source_str(j):\n",
    "    sec_titles = j['section_names']\n",
    "    sections = j['sections']\n",
    "    r = []\n",
    "    for title, sec in zip(sec_titles, sections):\n",
    "        if title and title != '__NO_TITLE__':\n",
    "            r.append(f\"<|{title.strip()}|>\")\n",
    "        for par in sec:\n",
    "            r.append(par)\n",
    "            r.append(\"<|par|>\")\n",
    "    return ' '.join(r).replace('\\n', ' ').strip()\n",
    "\n",
    "\n",
    "def get_target_str(j):\n",
    "    abstract_sections_names = j['abstract_sections_names']\n",
    "    abstract_sections = j['abstract_sections']\n",
    "    \n",
    "    title2section = dict(zip(abstract_sections_names, abstract_sections))\n",
    "    r = []\n",
    "    for title in ('Purpose', 'Design/methodology/approach', 'Findings', 'Originality/value'):\n",
    "        section = title2section[title]\n",
    "\n",
    "        title = title.split('/')[0]\n",
    "        r.append(f\"<|{title}|>\")\n",
    "\n",
    "        for par in section:\n",
    "            r.append(par)\n",
    "    return ' '.join(r).replace('\\n', ' ').strip()\n",
    "\n",
    "\n",
    "def get_target_sections(j):\n",
    "    abstract_sections_names = j['abstract_sections_names']\n",
    "    abstract_sections = j['abstract_sections']\n",
    "    \n",
    "    title2section = dict(zip(abstract_sections_names, abstract_sections))\n",
    "    r = []\n",
    "    for title in ('Purpose', 'Design/methodology/approach', 'Findings', 'Originality/value'):\n",
    "        section = title2section[title]\n",
    "\n",
    "        title = title.split('/')[0]\n",
    "        \n",
    "        r.append((\n",
    "            title,\n",
    "            ' '.join(section).replace('\\n', ' ').strip()\n",
    "        ))\n",
    "    return r\n",
    "\n",
    "\n",
    "def generate_combined_data(src_dir, dst_dir, func_get_source_str=get_source_str):\n",
    "    def jsonl2data(src, dst):\n",
    "        f = open(src, encoding='utf8')\n",
    "        source_out = open(f\"{dst}.source\", 'w', encoding='utf8')\n",
    "        target_out = open(f\"{dst}.target\", 'w', encoding='utf8')\n",
    "        for line in f:\n",
    "            j = json.loads(line.strip())\n",
    "            s = func_get_source_str(j)\n",
    "            t = get_target_str(j)\n",
    "            source_out.write(s + '\\n')\n",
    "            target_out.write(t + '\\n')\n",
    "    for fname in ('train', 'dev', 'test'):\n",
    "        src = os.path.join(src_dir, f\"{fname}.jsonl\")\n",
    "        dst = os.path.join(dst_dir, fname)\n",
    "        print(f\"writing from \\n  :{src} to \\n  :{dst}\")\n",
    "        jsonl2data(src, dst)\n",
    "        \n",
    "        \n",
    "def generate_seperate_data(src_dir, dst_dir, func_get_source_str=get_source_str):\n",
    "    def jsonl2data(src, dst):\n",
    "        f = open(src, encoding='utf8')\n",
    "        source_out = open(f\"{dst}.source\", 'w', encoding='utf8')\n",
    "        target_out = open(f\"{dst}.target\", 'w', encoding='utf8')\n",
    "        for line in f:\n",
    "            j = json.loads(line.strip())\n",
    "            s = func_get_source_str(j)\n",
    "            ts = get_target_sections(j)\n",
    "            for title, t in ts:\n",
    "                source_out.write(f\"<|{title}|> \" + s + '\\n')\n",
    "                target_out.write(t + '\\n')\n",
    "    for fname in ('train', 'dev', 'test'):\n",
    "        src = os.path.join(src_dir, f\"{fname}.jsonl\")\n",
    "        dst = os.path.join(dst_dir, fname)\n",
    "        print(f\"writing from \\n  :{src} to \\n  :{dst}\")\n",
    "        jsonl2data(src, dst)\n"
   ]
  },
  {
   "cell_type": "code",
   "execution_count": 7,
   "metadata": {},
   "outputs": [],
   "source": [
    "! mkdir /home/ubuntu/efs/emerald/data_ic_to_combined_target/\n",
    "! mkdir /home/ubuntu/efs/emerald/data_ic_to_seperate_target/"
   ]
  },
  {
   "cell_type": "code",
   "execution_count": 13,
   "metadata": {},
   "outputs": [
    {
     "name": "stdout",
     "output_type": "stream",
     "text": [
      "writing from \n",
      "  :/home/ubuntu/efs/emerald/train.jsonl to \n",
      "  :/home/ubuntu/efs/emerald/data_ic_to_combined_target/train\n",
      "writing from \n",
      "  :/home/ubuntu/efs/emerald/dev.jsonl to \n",
      "  :/home/ubuntu/efs/emerald/data_ic_to_combined_target/dev\n",
      "writing from \n",
      "  :/home/ubuntu/efs/emerald/test.jsonl to \n",
      "  :/home/ubuntu/efs/emerald/data_ic_to_combined_target/test\n",
      "writing from \n",
      "  :/home/ubuntu/efs/emerald/train.jsonl to \n",
      "  :/home/ubuntu/efs/emerald/data_ic_to_seperate_target/train\n",
      "writing from \n",
      "  :/home/ubuntu/efs/emerald/dev.jsonl to \n",
      "  :/home/ubuntu/efs/emerald/data_ic_to_seperate_target/dev\n",
      "writing from \n",
      "  :/home/ubuntu/efs/emerald/test.jsonl to \n",
      "  :/home/ubuntu/efs/emerald/data_ic_to_seperate_target/test\n"
     ]
    }
   ],
   "source": [
    "generate_combined_data('/home/ubuntu/efs/emerald/', '/home/ubuntu/efs/emerald/data_ic_to_combined_target/', func_get_source_str=get_source_IC)\n",
    "generate_seperate_data('/home/ubuntu/efs/emerald/', '/home/ubuntu/efs/emerald/data_ic_to_seperate_target/', func_get_source_str=get_source_IC)"
   ]
  },
  {
   "cell_type": "code",
   "execution_count": 3,
   "metadata": {},
   "outputs": [
    {
     "data": {
      "text/html": [
       "<div>\n",
       "<style scoped>\n",
       "    .dataframe tbody tr th:only-of-type {\n",
       "        vertical-align: middle;\n",
       "    }\n",
       "\n",
       "    .dataframe tbody tr th {\n",
       "        vertical-align: top;\n",
       "    }\n",
       "\n",
       "    .dataframe thead th {\n",
       "        text-align: right;\n",
       "    }\n",
       "</style>\n",
       "<table border=\"1\" class=\"dataframe\">\n",
       "  <thead>\n",
       "    <tr style=\"text-align: right;\">\n",
       "      <th></th>\n",
       "      <th>l</th>\n",
       "    </tr>\n",
       "  </thead>\n",
       "  <tbody>\n",
       "    <tr>\n",
       "      <th>count</th>\n",
       "      <td>60024.000000</td>\n",
       "    </tr>\n",
       "    <tr>\n",
       "      <th>mean</th>\n",
       "      <td>1425.079951</td>\n",
       "    </tr>\n",
       "    <tr>\n",
       "      <th>std</th>\n",
       "      <td>872.231249</td>\n",
       "    </tr>\n",
       "    <tr>\n",
       "      <th>min</th>\n",
       "      <td>27.000000</td>\n",
       "    </tr>\n",
       "    <tr>\n",
       "      <th>25%</th>\n",
       "      <td>880.000000</td>\n",
       "    </tr>\n",
       "    <tr>\n",
       "      <th>50%</th>\n",
       "      <td>1261.000000</td>\n",
       "    </tr>\n",
       "    <tr>\n",
       "      <th>75%</th>\n",
       "      <td>1778.000000</td>\n",
       "    </tr>\n",
       "    <tr>\n",
       "      <th>max</th>\n",
       "      <td>33336.000000</td>\n",
       "    </tr>\n",
       "  </tbody>\n",
       "</table>\n",
       "</div>"
      ],
      "text/plain": [
       "                  l\n",
       "count  60024.000000\n",
       "mean    1425.079951\n",
       "std      872.231249\n",
       "min       27.000000\n",
       "25%      880.000000\n",
       "50%     1261.000000\n",
       "75%     1778.000000\n",
       "max    33336.000000"
      ]
     },
     "execution_count": 3,
     "metadata": {},
     "output_type": "execute_result"
    }
   ],
   "source": [
    "l = []\n",
    "for fn in ('train', 'dev', 'test'):\n",
    "    with open('/home/ubuntu/efs/emerald/data_ic_to_combined_target/{}.source'.format(fn), 'r') as f:\n",
    "        l = l + [len(line.split(' ')) for line in f]\n",
    "import pandas as pd\n",
    "pd.DataFrame({'l': l}).describe()"
   ]
  },
  {
   "cell_type": "code",
   "execution_count": 4,
   "metadata": {},
   "outputs": [
    {
     "name": "stdout",
     "output_type": "stream",
     "text": [
      "writing from \n",
      "  :/home/ubuntu/efs/emerald/train.jsonl to \n",
      "  :/home/ubuntu/efs/emerald/data_combined_target/train\n",
      "writing from \n",
      "  :/home/ubuntu/efs/emerald/dev.jsonl to \n",
      "  :/home/ubuntu/efs/emerald/data_combined_target/dev\n",
      "writing from \n",
      "  :/home/ubuntu/efs/emerald/test.jsonl to \n",
      "  :/home/ubuntu/efs/emerald/data_combined_target/test\n"
     ]
    }
   ],
   "source": [
    "# generate_combined_data('/home/ubuntu/efs/emerald/', '/home/ubuntu/efs/emerald/data_combined_target/')"
   ]
  },
  {
   "cell_type": "code",
   "execution_count": 5,
   "metadata": {},
   "outputs": [
    {
     "name": "stdout",
     "output_type": "stream",
     "text": [
      "writing from \n",
      "  :/home/ubuntu/efs/emerald/train.jsonl to \n",
      "  :/home/ubuntu/efs/emerald/data_seperate_target/train\n",
      "writing from \n",
      "  :/home/ubuntu/efs/emerald/dev.jsonl to \n",
      "  :/home/ubuntu/efs/emerald/data_seperate_target/dev\n",
      "writing from \n",
      "  :/home/ubuntu/efs/emerald/test.jsonl to \n",
      "  :/home/ubuntu/efs/emerald/data_seperate_target/test\n"
     ]
    }
   ],
   "source": [
    "# generate_seperate_data('/home/ubuntu/efs/emerald/', '/home/ubuntu/efs/emerald/data_seperate_target/')"
   ]
  },
  {
   "cell_type": "code",
   "execution_count": null,
   "metadata": {},
   "outputs": [],
   "source": []
  }
 ],
 "metadata": {
  "kernelspec": {
   "display_name": "Python 3",
   "language": "python",
   "name": "python3"
  },
  "language_info": {
   "codemirror_mode": {
    "name": "ipython",
    "version": 3
   },
   "file_extension": ".py",
   "mimetype": "text/x-python",
   "name": "python",
   "nbconvert_exporter": "python",
   "pygments_lexer": "ipython3",
   "version": "3.7.6"
  }
 },
 "nbformat": 4,
 "nbformat_minor": 4
}
